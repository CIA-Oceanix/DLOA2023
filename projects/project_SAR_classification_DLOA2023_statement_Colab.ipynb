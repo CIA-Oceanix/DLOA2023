{
  "cells": [
    {
      "cell_type": "markdown",
      "metadata": {
        "id": "SK2Njsg9GU1W"
      },
      "source": [
        "# SAR IMAGE CLASSIFICATION\n",
        "- Classification problem\n",
        "- Oceanography/Meteorology\n",
        "- Pierre Tandeo (pierre.tandeo@imt-atlantique.fr), Ronan Fablet (ronan.fablet@imt-atlantique.fr), Carlos Granero (carlos.granero-belinchon@imt-atlantique.fr)\n",
        "\n",
        "## Data and aim\n",
        "\n",
        "In this project, we use SAR (Synthetic Aperture Radar) images (20km x 20km) of the ocean surface. The goal is to automatically classify different oceanic and atmospheric phenomena. Below, we will find an example of 10 classes corresponding to 10 different phenomena (among pure ocean swell in F, convective cells in I, icebergs in L, etc...):\n",
        "\n",
        "![SAR](https://tandeo.files.wordpress.com/2019/01/sar_classes.png)\n",
        "\n",
        "Here, we will use a database of 160 SAR images per class, anotated by experts. Data were collected in 2016 by the Sentinel-1 satellite.\n",
        "\n",
        "## Evaluation and benchmark\n",
        "\n",
        "We divided the database in two parts: \"training\" and \"validation\" folders with respectively 70% and 30% of the dataset. To learn the model (here a classifier), we propose to use cross-validations on the training dataset. Then, you will use the validation dataset to evaluate the performance of your model, using the total pourcentage of well predicted data. The reference result is **94% of accuracy** and is given by a deep leaning architecture. The reference paper is given below.\n",
        "\n",
        "## Reference\n",
        "- https://tandeo.files.wordpress.com/2019/11/wang_2019.pdf"
      ]
    },
    {
      "cell_type": "markdown",
      "metadata": {
        "id": "rrf0EUNzGU1e"
      },
      "source": [
        "### Import libraries"
      ]
    },
    {
      "cell_type": "code",
      "source": [
        "!pip install scikit-learn"
      ],
      "metadata": {
        "colab": {
          "base_uri": "https://localhost:8080/"
        },
        "id": "ZlCtiV6h3SZd",
        "outputId": "99cffa35-a860-4fb2-ba3b-692781ebf85f"
      },
      "execution_count": null,
      "outputs": [
        {
          "output_type": "stream",
          "name": "stdout",
          "text": [
            "Looking in indexes: https://pypi.org/simple, https://us-python.pkg.dev/colab-wheels/public/simple/\n",
            "Requirement already satisfied: scikit-learn in /usr/local/lib/python3.10/dist-packages (1.2.2)\n",
            "Requirement already satisfied: numpy>=1.17.3 in /usr/local/lib/python3.10/dist-packages (from scikit-learn) (1.22.4)\n",
            "Requirement already satisfied: scipy>=1.3.2 in /usr/local/lib/python3.10/dist-packages (from scikit-learn) (1.10.1)\n",
            "Requirement already satisfied: joblib>=1.1.1 in /usr/local/lib/python3.10/dist-packages (from scikit-learn) (1.2.0)\n",
            "Requirement already satisfied: threadpoolctl>=2.0.0 in /usr/local/lib/python3.10/dist-packages (from scikit-learn) (3.1.0)\n"
          ]
        }
      ]
    },
    {
      "cell_type": "code",
      "source": [
        "!pip install scipy"
      ],
      "metadata": {
        "colab": {
          "base_uri": "https://localhost:8080/"
        },
        "id": "pL9PH_NDWnaH",
        "outputId": "4ee7a250-5fb9-4515-87d9-a79788e541d1"
      },
      "execution_count": null,
      "outputs": [
        {
          "output_type": "stream",
          "name": "stdout",
          "text": [
            "Looking in indexes: https://pypi.org/simple, https://us-python.pkg.dev/colab-wheels/public/simple/\n",
            "Requirement already satisfied: scipy in /usr/local/lib/python3.10/dist-packages (1.10.1)\n",
            "Requirement already satisfied: numpy<1.27.0,>=1.19.5 in /usr/local/lib/python3.10/dist-packages (from scipy) (1.22.4)\n"
          ]
        }
      ]
    },
    {
      "cell_type": "code",
      "source": [
        "!pip install imageio"
      ],
      "metadata": {
        "colab": {
          "base_uri": "https://localhost:8080/"
        },
        "id": "tZfar3vLXMBg",
        "outputId": "d9d81ed0-040e-4f5b-d288-5d9577bfd517"
      },
      "execution_count": null,
      "outputs": [
        {
          "output_type": "stream",
          "name": "stdout",
          "text": [
            "Looking in indexes: https://pypi.org/simple, https://us-python.pkg.dev/colab-wheels/public/simple/\n",
            "Requirement already satisfied: imageio in /usr/local/lib/python3.10/dist-packages (2.25.1)\n",
            "Requirement already satisfied: numpy in /usr/local/lib/python3.10/dist-packages (from imageio) (1.22.4)\n",
            "Requirement already satisfied: pillow>=8.3.2 in /usr/local/lib/python3.10/dist-packages (from imageio) (8.4.0)\n"
          ]
        }
      ]
    },
    {
      "cell_type": "code",
      "execution_count": null,
      "metadata": {
        "colab": {
          "base_uri": "https://localhost:8080/"
        },
        "id": "GDXRuG2qGU1j",
        "outputId": "98c3b650-12b3-44ff-a877-b925dc530230"
      },
      "outputs": [
        {
          "output_type": "stream",
          "name": "stdout",
          "text": [
            "Populating the interactive namespace from numpy and matplotlib\n"
          ]
        },
        {
          "output_type": "stream",
          "name": "stderr",
          "text": [
            "/usr/local/lib/python3.10/dist-packages/IPython/core/magics/pylab.py:159: UserWarning: pylab import has clobbered these variables: ['imread']\n",
            "`%matplotlib` prevents importing * from pylab and numpy\n",
            "  warn(\"pylab import has clobbered these variables: %s\"  % clobbered +\n"
          ]
        }
      ],
      "source": [
        "# import classical libraries\n",
        "%matplotlib inline\n",
        "%pylab inline\n",
        "\n",
        "# figure size\n",
        "plt.rcParams['figure.figsize'] = (16, 9)"
      ]
    },
    {
      "cell_type": "markdown",
      "metadata": {
        "id": "OXn4EyBtGU10"
      },
      "source": [
        "### Prepare the datasets\n",
        "\n",
        "Now, we load the training (70%) and validation (30%) datasets."
      ]
    },
    {
      "cell_type": "code",
      "source": [
        "!wget -O SAR.zip https://www.dropbox.com/s/c1vkkkxo33efpke/SAR.zip?dl=0"
      ],
      "metadata": {
        "colab": {
          "base_uri": "https://localhost:8080/"
        },
        "id": "Ff75jZvC0JmM",
        "outputId": "27b993fd-068e-41ce-9f89-f43c86505615"
      },
      "execution_count": null,
      "outputs": [
        {
          "output_type": "stream",
          "name": "stdout",
          "text": [
            "--2023-06-23 15:23:39--  https://www.dropbox.com/s/c1vkkkxo33efpke/SAR.zip?dl=0\n",
            "Resolving www.dropbox.com (www.dropbox.com)... 162.125.4.18, 2620:100:6017:18::a27d:212\n",
            "Connecting to www.dropbox.com (www.dropbox.com)|162.125.4.18|:443... connected.\n",
            "HTTP request sent, awaiting response... 302 Found\n",
            "Location: /s/raw/c1vkkkxo33efpke/SAR.zip [following]\n",
            "--2023-06-23 15:23:40--  https://www.dropbox.com/s/raw/c1vkkkxo33efpke/SAR.zip\n",
            "Reusing existing connection to www.dropbox.com:443.\n",
            "HTTP request sent, awaiting response... 302 Found\n",
            "Location: https://ucd978711783d0beb572c667c096.dl.dropboxusercontent.com/cd/0/inline/B-gqr4Se5b8woOgdFZ7TPe7tlvTltCRdv4seHmTYaS8x39H1Qgp7f9XGh3rQEdVljpEModNo_ad2Yi80A4aYmQarKE0hZf8syRWV9PJdJLXsDU3rqUPFGmYLVEZcU4Yf-SEWl-rPhFawUjhXaCah-LRJ_02YklW2JKPxFDtDM_627Q/file# [following]\n",
            "--2023-06-23 15:23:40--  https://ucd978711783d0beb572c667c096.dl.dropboxusercontent.com/cd/0/inline/B-gqr4Se5b8woOgdFZ7TPe7tlvTltCRdv4seHmTYaS8x39H1Qgp7f9XGh3rQEdVljpEModNo_ad2Yi80A4aYmQarKE0hZf8syRWV9PJdJLXsDU3rqUPFGmYLVEZcU4Yf-SEWl-rPhFawUjhXaCah-LRJ_02YklW2JKPxFDtDM_627Q/file\n",
            "Resolving ucd978711783d0beb572c667c096.dl.dropboxusercontent.com (ucd978711783d0beb572c667c096.dl.dropboxusercontent.com)... 162.125.4.15, 2620:100:6022:15::a27d:420f\n",
            "Connecting to ucd978711783d0beb572c667c096.dl.dropboxusercontent.com (ucd978711783d0beb572c667c096.dl.dropboxusercontent.com)|162.125.4.15|:443... connected.\n",
            "HTTP request sent, awaiting response... 302 Found\n",
            "Location: /cd/0/inline2/B-iq-ch_j-Jif6LX8UnSvkpILk-Mxllb7_-47dWditk6ea4y8TtTg06pyvW_hKmgERP5aY_FQUvroZqHIQYITbZif1K-K9HREKZFm3VjykSGmJ02A8x1CIKt2wqdIncxMt4zqVi3483PLYmKz7MzRa97xjwRV4f7B-GXW_JFpksev_n8TxSiwv0N_5SHZ82SyVP2QtIFzwgdQAew64YV87148TvngZDP2eWtB4alU4LCmYg77WtUOYiRzfc_H1qMbtcqdBGlmXm1-tD2BGtBwfJL3jrwa4-7C0B8V2k0PrADRPMK3dyKEEfcZIBNUs3Mzz4QXeknIJqUmyQhsxA6l-teuBBOGIACThCGbKT9si0wNUc0M4V6zZpfud3mQ_0XPDxb3UF8aCxbMXCVT5i66VKAyO8uMs4ptOovbf8KL4-i7Q/file [following]\n",
            "--2023-06-23 15:23:41--  https://ucd978711783d0beb572c667c096.dl.dropboxusercontent.com/cd/0/inline2/B-iq-ch_j-Jif6LX8UnSvkpILk-Mxllb7_-47dWditk6ea4y8TtTg06pyvW_hKmgERP5aY_FQUvroZqHIQYITbZif1K-K9HREKZFm3VjykSGmJ02A8x1CIKt2wqdIncxMt4zqVi3483PLYmKz7MzRa97xjwRV4f7B-GXW_JFpksev_n8TxSiwv0N_5SHZ82SyVP2QtIFzwgdQAew64YV87148TvngZDP2eWtB4alU4LCmYg77WtUOYiRzfc_H1qMbtcqdBGlmXm1-tD2BGtBwfJL3jrwa4-7C0B8V2k0PrADRPMK3dyKEEfcZIBNUs3Mzz4QXeknIJqUmyQhsxA6l-teuBBOGIACThCGbKT9si0wNUc0M4V6zZpfud3mQ_0XPDxb3UF8aCxbMXCVT5i66VKAyO8uMs4ptOovbf8KL4-i7Q/file\n",
            "Reusing existing connection to ucd978711783d0beb572c667c096.dl.dropboxusercontent.com:443.\n",
            "HTTP request sent, awaiting response... 200 OK\n",
            "Length: 315151450 (301M) [application/zip]\n",
            "Saving to: ‘SAR.zip’\n",
            "\n",
            "SAR.zip             100%[===================>] 300.55M  34.0MB/s    in 8.8s    \n",
            "\n",
            "2023-06-23 15:23:50 (34.2 MB/s) - ‘SAR.zip’ saved [315151450/315151450]\n",
            "\n"
          ]
        }
      ]
    },
    {
      "cell_type": "code",
      "source": [
        "!unzip SAR.zip\n",
        "# We remove the zip file\n",
        "rm SAR.zip?dl=0\n",
        "rm SAR.zip"
      ],
      "metadata": {
        "id": "mK5m4MAo21qJ"
      },
      "execution_count": null,
      "outputs": []
    },
    {
      "cell_type": "code",
      "execution_count": null,
      "metadata": {
        "colab": {
          "base_uri": "https://localhost:8080/"
        },
        "id": "r-K5gq_wGU14",
        "outputId": "5f8efe21-6781-4408-934e-b3b9c897acf8"
      },
      "outputs": [
        {
          "output_type": "stream",
          "name": "stderr",
          "text": [
            "<ipython-input-35-046ea654e5b2>:27: DeprecationWarning: Starting with ImageIO v3 the behavior of this function will switch to that of iio.v3.imread. To keep the current behavior (and make this warning disappear) use `import imageio.v2 as imageio` or call `imageio.v2.imread` directly.\n",
            "  tmp = imread(path + '/' + files[i])\n",
            "<ipython-input-35-046ea654e5b2>:35: DeprecationWarning: Starting with ImageIO v3 the behavior of this function will switch to that of iio.v3.imread. To keep the current behavior (and make this warning disappear) use `import imageio.v2 as imageio` or call `imageio.v2.imread` directly.\n",
            "  tmp = imread(path + '/' + files[i])\n"
          ]
        }
      ],
      "source": [
        "# import functions\n",
        "from os import listdir\n",
        "from os.path import isfile, join\n",
        "from imageio import imread\n",
        "import sklearn\n",
        "\n",
        "# paths to the training and validation datasets\n",
        "path_train = \"training/\"\n",
        "path_validation = \"validation/\"\n",
        "\n",
        "# class names\n",
        "classes = ['F', 'G', 'H', 'I', 'J', 'K', 'L', 'M', 'N', 'O']\n",
        "\n",
        "# initialization\n",
        "X_train = []\n",
        "y_train = []\n",
        "X_validation = []\n",
        "y_validation = []\n",
        "\n",
        "# loop on images\n",
        "for j in range(len(classes)):\n",
        "    path = path_train + classes[j]\n",
        "    files = [f for f in listdir(path) if isfile(join(path, f))]\n",
        "\n",
        "    # training\n",
        "    for i in range(len(files)):\n",
        "        tmp = imread(path + '/' + files[i])\n",
        "        X_train.append(ravel(tmp[0:450,0:450:,0]))\n",
        "        y_train.append(classes[j])\n",
        "\n",
        "    # validation\n",
        "    path = path_validation + classes[j]\n",
        "    files = [f for f in listdir(path) if isfile(join(path, f))]\n",
        "    for i in range(len(files)):\n",
        "        tmp = imread(path + '/' + files[i])\n",
        "        X_validation.append(ravel(tmp[0:450,0:450:,0]))\n",
        "        y_validation.append(classes[j])\n",
        "\n",
        "# transform to array\n",
        "X_train = asarray(X_train)\n",
        "y_train = asarray(y_train)\n",
        "X_validation = asarray(X_validation)\n",
        "y_validation = asarray(y_validation)"
      ]
    },
    {
      "cell_type": "markdown",
      "metadata": {
        "id": "ZN1wT7sQGU2E"
      },
      "source": [
        "### Apply naive classifier"
      ]
    },
    {
      "cell_type": "code",
      "execution_count": null,
      "metadata": {
        "id": "Xc5B7Pm7GU2H",
        "outputId": "a66ed64f-ae96-4746-c021-0343334ac23c",
        "colab": {
          "base_uri": "https://localhost:8080/"
        }
      },
      "outputs": [
        {
          "output_type": "stream",
          "name": "stdout",
          "text": [
            "Accuracy: 0.2625\n"
          ]
        }
      ],
      "source": [
        "# import functions\n",
        "from sklearn.neighbors import NearestCentroid\n",
        "from sklearn.metrics import accuracy_score\n",
        "\n",
        "# apply k-nearest classification\n",
        "clf = NearestCentroid()\n",
        "clf.fit(X_train, y_train)\n",
        "y_predict = clf.predict(X_validation)\n",
        "\n",
        "# compute average classifier score\n",
        "print('Accuracy: '+ str(accuracy_score(y_validation, y_predict)))\n",
        "\n",
        "# we are far from the 94% accuracy given a deep learning model!"
      ]
    }
  ],
  "metadata": {
    "anaconda-cloud": {},
    "colab": {
      "provenance": []
    },
    "kernelspec": {
      "display_name": "Python 3 (ipykernel)",
      "language": "python",
      "name": "python3"
    },
    "language_info": {
      "codemirror_mode": {
        "name": "ipython",
        "version": 3
      },
      "file_extension": ".py",
      "mimetype": "text/x-python",
      "name": "python",
      "nbconvert_exporter": "python",
      "pygments_lexer": "ipython3",
      "version": "3.7.12"
    }
  },
  "nbformat": 4,
  "nbformat_minor": 0
}