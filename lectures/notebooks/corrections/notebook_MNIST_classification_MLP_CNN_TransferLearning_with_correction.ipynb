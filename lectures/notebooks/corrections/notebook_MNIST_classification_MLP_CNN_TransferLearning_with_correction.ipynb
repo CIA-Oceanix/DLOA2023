{
  "cells": [
    {
      "cell_type": "markdown",
      "metadata": {
        "id": "view-in-github",
        "colab_type": "text"
      },
      "source": [
        "<a href=\"https://colab.research.google.com/github/CIA-Oceanix/DLCourse_MOi_2022/blob/main/notebooks/notebook_MNIST_classification_MLP_CNN_TransferLearning_with_correction.ipynb\" target=\"_parent\"><img src=\"https://colab.research.google.com/assets/colab-badge.svg\" alt=\"Open In Colab\"/></a>"
      ]
    },
    {
      "cell_type": "markdown",
      "metadata": {
        "id": "mE2F5Cj5X-cq"
      },
      "source": [
        "# Deep classification on Fashion-MNIST using pytorch\n",
        "\n",
        "\n",
        "---\n",
        "\n"
      ]
    },
    {
      "cell_type": "markdown",
      "metadata": {
        "id": "85qr0BEYX-cu"
      },
      "source": [
        "## 1- Data management <a class=\"anchor\" id=\"section_1\"></a>\n",
        "\n",
        "Start with these lines of code to automatically download the Fashion-MNIST dataset."
      ]
    },
    {
      "cell_type": "code",
      "execution_count": 1,
      "metadata": {
        "id": "W6fsgjPOX-cv",
        "outputId": "9a45ab3c-f4cc-48f3-9111-2b52089fe6e4",
        "colab": {
          "base_uri": "https://localhost:8080/",
          "height": 450,
          "referenced_widgets": [
            "fc42c9d523a2413eaf286ddb0211d302",
            "0f33500a210f4d998e6489059547c2b4",
            "4a458980ec4940028c1ad3ff9c806052",
            "1a7658e2b88e4ae2846064ed3f765c5f",
            "d083904e2501454f8d998f83241aaa24",
            "77c8277aade040009df24f871647fc97",
            "b6fb724a01224acf864c33064496773b",
            "1603fe2eb9b44bc3854ed7dda766f2c4",
            "a577d77220d346b2b58a933fbca55f0b",
            "32d66ac861064ec0963079763ddaf390",
            "f772e7ad9d1340b8a1441e948e227cce",
            "48afd379d854466eb77f6e4cf5905196",
            "528ab9ab3bbe40de81f711f3a242e4a5",
            "63f9e49aca2749fd88c4123501dd7b37",
            "0eacb817fbad4eef8f6237117d751b45",
            "10a865d5fa854b42a94477c18f32afe5",
            "6ef8842ec53f4492905790773750f7de",
            "27727e24098a4b03bcd4ffeb158f77bf",
            "8168f8b9e760418fb27838c0831e1447",
            "97d6a5e89e244604be0bd099756ff6fb",
            "fa68b78b4a4041cd8e705981e0c2dafd",
            "a78bf861cff140a899d1c79386f26ca0",
            "a504c5a709074111bf91c9ddf5cbf660",
            "7c90b216f13a4b958114b3ac688f34fa",
            "3014771e8bc746d495134bc2cd24a0df",
            "f14ca87f824c4ecba02c84ee93ee5c7d",
            "a31f879b09964019bf4849c7aded9d0f",
            "711d5a38d3604fecbb4c650f4ade8a68",
            "2472a3fb4fb64079bd19708b171cd27a",
            "1a130ca30cc2415b8d4830c07eb3c333",
            "1b714bae578940a2aacb452811457d38",
            "71d4da7cf3ff460fb5acd56cb066bc18",
            "916bf4a3cd7e4a16a3b4e87bc6fa2f55",
            "02852de489294ea0a6ba096b4930f8b4",
            "0f0ef8ccdb4940baa537d20349d1aa5c",
            "1f4adca219dd44539065706d872f6b9b",
            "d64d1d6416a3475aa8c046dd452830b1",
            "11012d2c096b49269e2c196556667d2f",
            "d8f42792cf1a47e4950522a31935d0b4",
            "debfc5ee04cd41afa2e374ec09961df1",
            "0297be3f257a4c788b671233cd31ab64",
            "9af08ceb302840188dd33a1038d4e926",
            "bd8c7ea45b8d49d8b2ea7617422849a6",
            "f893849930344c028f5cf6d6e0458bd7"
          ]
        }
      },
      "outputs": [
        {
          "output_type": "stream",
          "name": "stdout",
          "text": [
            "Downloading http://yann.lecun.com/exdb/mnist/train-images-idx3-ubyte.gz\n",
            "Downloading http://yann.lecun.com/exdb/mnist/train-images-idx3-ubyte.gz to data/MNIST/raw/train-images-idx3-ubyte.gz\n"
          ]
        },
        {
          "output_type": "display_data",
          "data": {
            "text/plain": [
              "  0%|          | 0/9912422 [00:00<?, ?it/s]"
            ],
            "application/vnd.jupyter.widget-view+json": {
              "version_major": 2,
              "version_minor": 0,
              "model_id": "fc42c9d523a2413eaf286ddb0211d302"
            }
          },
          "metadata": {}
        },
        {
          "output_type": "stream",
          "name": "stdout",
          "text": [
            "Extracting data/MNIST/raw/train-images-idx3-ubyte.gz to data/MNIST/raw\n",
            "\n",
            "Downloading http://yann.lecun.com/exdb/mnist/train-labels-idx1-ubyte.gz\n",
            "Downloading http://yann.lecun.com/exdb/mnist/train-labels-idx1-ubyte.gz to data/MNIST/raw/train-labels-idx1-ubyte.gz\n"
          ]
        },
        {
          "output_type": "display_data",
          "data": {
            "text/plain": [
              "  0%|          | 0/28881 [00:00<?, ?it/s]"
            ],
            "application/vnd.jupyter.widget-view+json": {
              "version_major": 2,
              "version_minor": 0,
              "model_id": "48afd379d854466eb77f6e4cf5905196"
            }
          },
          "metadata": {}
        },
        {
          "output_type": "stream",
          "name": "stdout",
          "text": [
            "Extracting data/MNIST/raw/train-labels-idx1-ubyte.gz to data/MNIST/raw\n",
            "\n",
            "Downloading http://yann.lecun.com/exdb/mnist/t10k-images-idx3-ubyte.gz\n",
            "Downloading http://yann.lecun.com/exdb/mnist/t10k-images-idx3-ubyte.gz to data/MNIST/raw/t10k-images-idx3-ubyte.gz\n"
          ]
        },
        {
          "output_type": "display_data",
          "data": {
            "text/plain": [
              "  0%|          | 0/1648877 [00:00<?, ?it/s]"
            ],
            "application/vnd.jupyter.widget-view+json": {
              "version_major": 2,
              "version_minor": 0,
              "model_id": "a504c5a709074111bf91c9ddf5cbf660"
            }
          },
          "metadata": {}
        },
        {
          "output_type": "stream",
          "name": "stdout",
          "text": [
            "Extracting data/MNIST/raw/t10k-images-idx3-ubyte.gz to data/MNIST/raw\n",
            "\n",
            "Downloading http://yann.lecun.com/exdb/mnist/t10k-labels-idx1-ubyte.gz\n",
            "Downloading http://yann.lecun.com/exdb/mnist/t10k-labels-idx1-ubyte.gz to data/MNIST/raw/t10k-labels-idx1-ubyte.gz\n"
          ]
        },
        {
          "output_type": "display_data",
          "data": {
            "text/plain": [
              "  0%|          | 0/4542 [00:00<?, ?it/s]"
            ],
            "application/vnd.jupyter.widget-view+json": {
              "version_major": 2,
              "version_minor": 0,
              "model_id": "02852de489294ea0a6ba096b4930f8b4"
            }
          },
          "metadata": {}
        },
        {
          "output_type": "stream",
          "name": "stdout",
          "text": [
            "Extracting data/MNIST/raw/t10k-labels-idx1-ubyte.gz to data/MNIST/raw\n",
            "\n"
          ]
        }
      ],
      "source": [
        "from torchvision import datasets\n",
        "import torchvision.transforms as transforms\n",
        "\n",
        "transform = transforms.ToTensor()\n",
        "\n",
        "#train_data = datasets.FashionMNIST(root = 'data', train = True, download = True, transform = transform)\n",
        "#test_data = datasets.FashionMNIST(root = 'data', train = False, download = True, transform = transform)\n",
        "\n",
        "train_data = datasets.MNIST(root = 'data', train = True, download = True, transform = transform)\n",
        "test_data = datasets.MNIST(root = 'data', train = False, download = True, transform = transform)\n"
      ]
    },
    {
      "cell_type": "code",
      "source": [
        "train_data.train_labels"
      ],
      "metadata": {
        "colab": {
          "base_uri": "https://localhost:8080/"
        },
        "id": "L6GTtlSUXCnM",
        "outputId": "1b3c8483-50bc-4ed0-d5b7-44eb83250d1c"
      },
      "execution_count": 2,
      "outputs": [
        {
          "output_type": "stream",
          "name": "stderr",
          "text": [
            "/usr/local/lib/python3.7/dist-packages/torchvision/datasets/mnist.py:65: UserWarning: train_labels has been renamed targets\n",
            "  warnings.warn(\"train_labels has been renamed targets\")\n"
          ]
        },
        {
          "output_type": "execute_result",
          "data": {
            "text/plain": [
              "tensor([5, 0, 4,  ..., 5, 6, 8])"
            ]
          },
          "metadata": {},
          "execution_count": 2
        }
      ]
    },
    {
      "cell_type": "code",
      "source": [
        "# keep a subset of the training dataset\n",
        "#evens = list(range(0, len(train_data), 4))\n",
        "\n",
        "#train_data = torch.utils.data.Subset(train_data, evens)\n"
      ],
      "metadata": {
        "id": "XHPawU18UZC1"
      },
      "execution_count": 3,
      "outputs": []
    },
    {
      "cell_type": "code",
      "source": [],
      "metadata": {
        "colab": {
          "base_uri": "https://localhost:8080/"
        },
        "id": "r1VcxGPRY7jx",
        "outputId": "f913c267-7129-47b7-ee52-f9949136f4e9"
      },
      "execution_count": null,
      "outputs": [
        {
          "output_type": "execute_result",
          "data": {
            "text/plain": [
              "<torch.utils.data.dataset.Subset at 0x7fe94c485390>"
            ]
          },
          "metadata": {},
          "execution_count": 45
        }
      ]
    },
    {
      "cell_type": "markdown",
      "metadata": {
        "id": "qLO0Tf2nQ1wK"
      },
      "source": [
        "#### **Size and structure of MNIST Datasets** - MNIST (Fashion-MNIST) is a dataset consisting of a training set of A examples and a test set of B examples. Each example is a CxC grayscale image, associated with a label from D classes. What are the values for A, B, C and D? <a class=\"anchor\" id=\"question_1_1\"></a>"
      ]
    },
    {
      "cell_type": "code",
      "execution_count": 4,
      "metadata": {
        "colab": {
          "base_uri": "https://localhost:8080/"
        },
        "id": "3M62Fu52Q1IT",
        "outputId": "f7b9876a-eb6a-4e52-873b-e9c0b72b245d"
      },
      "outputs": [
        {
          "output_type": "stream",
          "name": "stdout",
          "text": [
            "A = 60000\n",
            "B = 10000\n",
            "C = 28\n",
            "D = 10\n"
          ]
        }
      ],
      "source": [
        "num_train, num_test = len(train_data), len(test_data) # TO DO\n",
        "print('A =', num_train) # TO DO\n",
        "print('B =', num_test) # TO DO\n",
        "print('C =', train_data.data.shape[1]) # TO DO\n",
        "print('D =', len(train_data.classes)) # TO DO"
      ]
    },
    {
      "cell_type": "markdown",
      "metadata": {
        "id": "KC63p4FeUSrg"
      },
      "source": [
        "#### **Recover the labels of the classes** of MNIST dataset"
      ]
    },
    {
      "cell_type": "code",
      "execution_count": 5,
      "metadata": {
        "colab": {
          "base_uri": "https://localhost:8080/"
        },
        "id": "LmyO8doyTM-K",
        "outputId": "4508215b-7a84-4a56-ade6-44f17d7408b9"
      },
      "outputs": [
        {
          "output_type": "stream",
          "name": "stdout",
          "text": [
            "['0 - zero', '1 - one', '2 - two', '3 - three', '4 - four', '5 - five', '6 - six', '7 - seven', '8 - eight', '9 - nine']\n"
          ]
        }
      ],
      "source": [
        "class_names = train_data.classes\n",
        "print(class_names)"
      ]
    },
    {
      "cell_type": "markdown",
      "metadata": {
        "id": "FQKjqImJ4mKx"
      },
      "source": [
        "#### **Dataloader creation** - Check data loader documentation ([documentation](https://pytorch.org/docs/stable/data.html)) for training, validation and test sets. <a class=\"anchor\" id=\"question_1_2\"></a>"
      ]
    },
    {
      "cell_type": "code",
      "execution_count": 30,
      "metadata": {
        "id": "Ho-I57ync1Ya"
      },
      "outputs": [],
      "source": [
        "import torch\n",
        "from torch.utils.data.sampler import SubsetRandomSampler\n",
        "import numpy as np\n",
        "\n",
        "batch_size = 20\n",
        "valid_size = 0.2\n",
        "train_size = 0.3\n",
        "\n",
        "def create_data_loaders(batch_size, valid_size, train_data, test_data): # FUNCTION TO BE COMPLETED\n",
        "\n",
        "  num_train = len(train_data)\n",
        "  indices = list(range(num_train))\n",
        "  np.random.shuffle(indices)\n",
        "  nb_train = int( np.floor(train_size * num_train ))\n",
        "  split = int(np.floor(valid_size * num_train))\n",
        "  train_index, valid_index = indices[split:nb_train], indices[:split]\n",
        "\n",
        "  train_sampler = SubsetRandomSampler(train_index)\n",
        "  valid_sampler = SubsetRandomSampler(valid_index)\n",
        "\n",
        "  train_loader = torch.utils.data.DataLoader(train_data, batch_size = batch_size, sampler = train_sampler)\n",
        "  valid_loader = torch.utils.data.DataLoader(train_data, batch_size = batch_size, sampler = valid_sampler)\n",
        "  test_loader = torch.utils.data.DataLoader(test_data, batch_size = batch_size)\n",
        "\n",
        "  return train_loader, valid_loader, test_loader"
      ]
    },
    {
      "cell_type": "code",
      "execution_count": 7,
      "metadata": {
        "id": "gXWfzusFrlmQ"
      },
      "outputs": [],
      "source": [
        "train_loader, valid_loader, test_loader = create_data_loaders(batch_size, valid_size, train_data, test_data) # TO DO"
      ]
    },
    {
      "cell_type": "markdown",
      "metadata": {
        "id": "18G47IQQX-c3"
      },
      "source": [
        "#### **MNIST samples** - Visualize some images from the training set with corresponding ground truth labels. <a class=\"anchor\" id=\"question_1_3\"></a>"
      ]
    },
    {
      "cell_type": "code",
      "execution_count": 8,
      "metadata": {
        "colab": {
          "base_uri": "https://localhost:8080/",
          "height": 177
        },
        "id": "arAFBf_q0K3p",
        "outputId": "cbad28b8-8025-4d3f-b62c-7e6ef49b0e26"
      },
      "outputs": [
        {
          "output_type": "display_data",
          "data": {
            "text/plain": [
              "<Figure size 1800x288 with 20 Axes>"
            ],
            "image/png": "[encoded data removed]"
          },
          "metadata": {}
        }
      ],
      "source": [
        "# CELL TO BE COMPLETED\n",
        "import matplotlib.pyplot as plt\n",
        "import numpy as np\n",
        "%matplotlib inline\n",
        "\n",
        "data_iter = iter(train_loader)\n",
        "images, labels = data_iter.next()\n",
        "images = images.numpy()\n",
        "fig = plt.figure(figsize=(25, 4))\n",
        "for idx in np.arange(20):\n",
        "    ax = fig.add_subplot(2, 10, idx+1, xticks=[], yticks=[])\n",
        "    ax.imshow(np.squeeze(images[idx]), cmap='gray')\n",
        "    ax.set_title(str(class_names[labels[idx].item()]))"
      ]
    },
    {
      "cell_type": "code",
      "execution_count": 9,
      "metadata": {
        "colab": {
          "base_uri": "https://localhost:8080/",
          "height": 592
        },
        "id": "LNGyb39UVZrA",
        "outputId": "3fcef375-bea7-400f-99e2-7c76ca6233c7"
      },
      "outputs": [
        {
          "output_type": "display_data",
          "data": {
            "text/plain": [
              "<Figure size 720x720 with 1 Axes>"
            ],
            "image/png": "[encoded data removed]"
          },
          "metadata": {
            "needs_background": "light"
          }
        }
      ],
      "source": [
        "# CELL TO BE COMPLETED\n",
        "img = np.squeeze(images[1])\n",
        "fig = plt.figure(figsize = (10,10))\n",
        "ax = fig.add_subplot(111)\n",
        "ax.imshow(img, cmap='gray')\n",
        "width, height = img.shape\n",
        "thresh = img.max()/2.5\n",
        "for x in range(width):\n",
        "    for y in range(height):\n",
        "        val = round(img[x][y],1) if img[x][y] !=0 else 0\n",
        "        ax.annotate(str(val), xy=(y,x), horizontalalignment='center', verticalalignment='center', color='white' if img[x][y]<thresh else 'black')"
      ]
    },
    {
      "cell_type": "markdown",
      "metadata": {
        "id": "xzueYKsUXETn"
      },
      "source": [
        "## 2- Multi-Layer Perceptron (MLP) <a class=\"anchor\" id=\"section_2\"></a>"
      ]
    },
    {
      "cell_type": "markdown",
      "metadata": {
        "id": "EUPtjgPfNgRI"
      },
      "source": [
        "First, let us use a multi-layer perceptron (MLP) to automatically classify Fashion-MNIST images."
      ]
    },
    {
      "cell_type": "markdown",
      "metadata": {
        "id": "U0TzO_b4L8ie"
      },
      "source": [
        "#### **MLP architecture** - Define a MPL architecture with (at least) 2 fully-connected as well as dropout layers. <a class=\"anchor\" id=\"question_2_1\"></a>"
      ]
    },
    {
      "cell_type": "code",
      "execution_count": 31,
      "metadata": {
        "id": "dINfBNnyWtia"
      },
      "outputs": [],
      "source": [
        "import torch.nn as nn\n",
        "import torch.nn.functional as F\n",
        "\n",
        "class MLP(nn.Module): \n",
        "    def __init__(self): # FUNCTION TO BE COMPLETED\n",
        "        super(MLP,self).__init__()\n",
        "        hidden_1, hidden_2 = 512, 256\n",
        "        self.fc1 = nn.Linear(28*28, hidden_1)\n",
        "        self.fc2 = nn.Linear(hidden_1,hidden_2)\n",
        "        self.fc3 = nn.Linear(hidden_2,10)\n",
        "        self.dropout = nn.Dropout(0.2)\n",
        "        \n",
        "    def forward(self,x): # FUNCTION TO BE COMPLETED\n",
        "        x = x.view(-1,28*28)\n",
        "        x = F.relu(self.fc1(x))\n",
        "        x = self.dropout(x)\n",
        "        x = F.relu(self.fc2(x))\n",
        "        x = self.dropout(x)\n",
        "        x = self.fc3(x)\n",
        "        return x"
      ]
    },
    {
      "cell_type": "markdown",
      "metadata": {
        "id": "NO-JtjSqMfYd"
      },
      "source": [
        "#### **Traning scheme** - Train the pre-defined MLP network with cross entropy as loss function and stochastic gradient descent as optimization algorithm. <a class=\"anchor\" id=\"question_2_2\"></a>"
      ]
    },
    {
      "cell_type": "code",
      "execution_count": 13,
      "metadata": {
        "colab": {
          "base_uri": "https://localhost:8080/"
        },
        "id": "giapBUp2WyDP",
        "outputId": "4c4d2748-e558-42f3-ac55-47953fc0bbaf"
      },
      "outputs": [
        {
          "output_type": "stream",
          "name": "stdout",
          "text": [
            "Using device cuda\n"
          ]
        }
      ],
      "source": [
        "device = torch.device('cuda' if torch.cuda.is_available() else 'cpu')\n",
        "print('Using device '+str(device))"
      ]
    },
    {
      "cell_type": "code",
      "execution_count": null,
      "metadata": {
        "colab": {
          "base_uri": "https://localhost:8080/"
        },
        "id": "cNo6rTeSW0tu",
        "outputId": "8d9c48ac-df0f-48e8-c483-9ea1b3fed659"
      },
      "outputs": [
        {
          "output_type": "execute_result",
          "data": {
            "text/plain": [
              "MLP(\n",
              "  (fc1): Linear(in_features=784, out_features=512, bias=True)\n",
              "  (fc2): Linear(in_features=512, out_features=256, bias=True)\n",
              "  (fc3): Linear(in_features=256, out_features=10, bias=True)\n",
              "  (dropout): Dropout(p=0.2, inplace=False)\n",
              ")"
            ]
          },
          "metadata": {},
          "execution_count": 85
        }
      ],
      "source": [
        "model_1 = MLP()\n",
        "model_1.to(device=device)"
      ]
    },
    {
      "cell_type": "code",
      "execution_count": 32,
      "metadata": {
        "id": "JDzdk4tCW3B0"
      },
      "outputs": [],
      "source": [
        "criterion = nn.CrossEntropyLoss() # TO DO"
      ]
    },
    {
      "cell_type": "code",
      "execution_count": null,
      "metadata": {
        "id": "7CbSk112W40e"
      },
      "outputs": [],
      "source": [
        "optimizer = torch.optim.SGD(model_1.parameters(),lr = 0.01) # TO DO"
      ]
    },
    {
      "cell_type": "code",
      "execution_count": 22,
      "metadata": {
        "id": "3o9SW-i5W7OU"
      },
      "outputs": [],
      "source": [
        "n_epochs = 30\n",
        "\n",
        "def training(n_epochs, train_loader, valid_loader, model, criterion, optimizer): # FUNCTION TO BE COMPLETED\n",
        "\n",
        "  train_losses, valid_losses = [], []\n",
        "  valid_loss_min = np.Inf\n",
        "\n",
        "  for epoch in range(n_epochs):\n",
        "      train_loss, valid_loss = 0, 0\n",
        "      \n",
        "      model.train()\n",
        "      for data, label in train_loader:\n",
        "          data = data.to(device=device, dtype=torch.float32)\n",
        "          label = label.to(device=device, dtype=torch.long)\n",
        "          optimizer.zero_grad()\n",
        "          output = model(data)\n",
        "          loss = criterion(output, label)\n",
        "          loss.backward()\n",
        "          optimizer.step()\n",
        "          train_loss += loss.item() * data.size(0)\n",
        "      \n",
        "      model.eval()\n",
        "      for data, label in valid_loader:\n",
        "          data = data.to(device=device, dtype=torch.float32)\n",
        "          label = label.to(device=device, dtype=torch.long)\n",
        "          with torch.no_grad():\n",
        "              output = model(data)\n",
        "          loss = criterion(output,label)\n",
        "          valid_loss += loss.item() * data.size(0)\n",
        "\n",
        "      train_loss /= len(train_loader.sampler)\n",
        "      valid_loss /= len(valid_loader.sampler)\n",
        "      train_losses.append(train_loss)\n",
        "      valid_losses.append(valid_loss)\n",
        "      \n",
        "      print('epoch: {} \\ttraining Loss: {:.6f} \\tvalidation Loss: {:.6f}'.format(epoch+1, train_loss, valid_loss))\n",
        "\n",
        "      if valid_loss <= valid_loss_min:\n",
        "          print('validation loss decreased ({:.6f} --> {:.6f}).  Saving model ...'.format(\n",
        "          valid_loss_min,\n",
        "          valid_loss))\n",
        "          torch.save(model.state_dict(), 'model.pt')\n",
        "          valid_loss_min = valid_loss\n",
        "      \n",
        "  return train_losses, valid_losses      "
      ]
    },
    {
      "cell_type": "code",
      "execution_count": null,
      "metadata": {
        "colab": {
          "base_uri": "https://localhost:8080/"
        },
        "id": "BgB8EpTNW_z3",
        "outputId": "844a83ae-736c-4401-c0f2-40d878f1cbe3"
      },
      "outputs": [
        {
          "output_type": "stream",
          "name": "stdout",
          "text": [
            "epoch: 1 \ttraining Loss: 2.229213 \tvalidation Loss: 2.099458\n",
            "validation loss decreased (inf --> 2.099458).  Saving model ...\n",
            "epoch: 2 \ttraining Loss: 1.788177 \tvalidation Loss: 1.324538\n",
            "validation loss decreased (2.099458 --> 1.324538).  Saving model ...\n",
            "epoch: 3 \ttraining Loss: 1.046301 \tvalidation Loss: 0.752196\n",
            "validation loss decreased (1.324538 --> 0.752196).  Saving model ...\n",
            "epoch: 4 \ttraining Loss: 0.727481 \tvalidation Loss: 0.566674\n",
            "validation loss decreased (0.752196 --> 0.566674).  Saving model ...\n",
            "epoch: 5 \ttraining Loss: 0.590434 \tvalidation Loss: 0.483046\n",
            "validation loss decreased (0.566674 --> 0.483046).  Saving model ...\n",
            "epoch: 6 \ttraining Loss: 0.513643 \tvalidation Loss: 0.439522\n",
            "validation loss decreased (0.483046 --> 0.439522).  Saving model ...\n",
            "epoch: 7 \ttraining Loss: 0.478332 \tvalidation Loss: 0.402035\n",
            "validation loss decreased (0.439522 --> 0.402035).  Saving model ...\n",
            "epoch: 8 \ttraining Loss: 0.443324 \tvalidation Loss: 0.383758\n",
            "validation loss decreased (0.402035 --> 0.383758).  Saving model ...\n",
            "epoch: 9 \ttraining Loss: 0.412612 \tvalidation Loss: 0.358430\n",
            "validation loss decreased (0.383758 --> 0.358430).  Saving model ...\n",
            "epoch: 10 \ttraining Loss: 0.388491 \tvalidation Loss: 0.345513\n",
            "validation loss decreased (0.358430 --> 0.345513).  Saving model ...\n",
            "epoch: 11 \ttraining Loss: 0.374469 \tvalidation Loss: 0.335890\n",
            "validation loss decreased (0.345513 --> 0.335890).  Saving model ...\n",
            "epoch: 12 \ttraining Loss: 0.352673 \tvalidation Loss: 0.327589\n",
            "validation loss decreased (0.335890 --> 0.327589).  Saving model ...\n",
            "epoch: 13 \ttraining Loss: 0.336358 \tvalidation Loss: 0.310732\n",
            "validation loss decreased (0.327589 --> 0.310732).  Saving model ...\n",
            "epoch: 14 \ttraining Loss: 0.317161 \tvalidation Loss: 0.302820\n",
            "validation loss decreased (0.310732 --> 0.302820).  Saving model ...\n",
            "epoch: 15 \ttraining Loss: 0.308640 \tvalidation Loss: 0.296252\n",
            "validation loss decreased (0.302820 --> 0.296252).  Saving model ...\n",
            "epoch: 16 \ttraining Loss: 0.292364 \tvalidation Loss: 0.288934\n",
            "validation loss decreased (0.296252 --> 0.288934).  Saving model ...\n",
            "epoch: 17 \ttraining Loss: 0.282975 \tvalidation Loss: 0.279868\n",
            "validation loss decreased (0.288934 --> 0.279868).  Saving model ...\n",
            "epoch: 18 \ttraining Loss: 0.272732 \tvalidation Loss: 0.273984\n",
            "validation loss decreased (0.279868 --> 0.273984).  Saving model ...\n",
            "epoch: 19 \ttraining Loss: 0.262590 \tvalidation Loss: 0.268452\n",
            "validation loss decreased (0.273984 --> 0.268452).  Saving model ...\n",
            "epoch: 20 \ttraining Loss: 0.249359 \tvalidation Loss: 0.262200\n",
            "validation loss decreased (0.268452 --> 0.262200).  Saving model ...\n",
            "epoch: 21 \ttraining Loss: 0.244066 \tvalidation Loss: 0.258061\n",
            "validation loss decreased (0.262200 --> 0.258061).  Saving model ...\n",
            "epoch: 22 \ttraining Loss: 0.232233 \tvalidation Loss: 0.250364\n",
            "validation loss decreased (0.258061 --> 0.250364).  Saving model ...\n",
            "epoch: 23 \ttraining Loss: 0.223938 \tvalidation Loss: 0.247028\n",
            "validation loss decreased (0.250364 --> 0.247028).  Saving model ...\n",
            "epoch: 24 \ttraining Loss: 0.211919 \tvalidation Loss: 0.245383\n",
            "validation loss decreased (0.247028 --> 0.245383).  Saving model ...\n",
            "epoch: 25 \ttraining Loss: 0.207919 \tvalidation Loss: 0.239478\n",
            "validation loss decreased (0.245383 --> 0.239478).  Saving model ...\n",
            "epoch: 26 \ttraining Loss: 0.198796 \tvalidation Loss: 0.236042\n",
            "validation loss decreased (0.239478 --> 0.236042).  Saving model ...\n",
            "epoch: 27 \ttraining Loss: 0.188300 \tvalidation Loss: 0.232793\n",
            "validation loss decreased (0.236042 --> 0.232793).  Saving model ...\n",
            "epoch: 28 \ttraining Loss: 0.188205 \tvalidation Loss: 0.226590\n",
            "validation loss decreased (0.232793 --> 0.226590).  Saving model ...\n",
            "epoch: 29 \ttraining Loss: 0.176172 \tvalidation Loss: 0.222601\n",
            "validation loss decreased (0.226590 --> 0.222601).  Saving model ...\n",
            "epoch: 30 \ttraining Loss: 0.174403 \tvalidation Loss: 0.220853\n",
            "validation loss decreased (0.222601 --> 0.220853).  Saving model ...\n"
          ]
        }
      ],
      "source": [
        "train_losses_1, valid_losses_1 = training(n_epochs, train_loader, valid_loader, model_1, criterion, optimizer) # TO DO"
      ]
    },
    {
      "cell_type": "markdown",
      "metadata": {
        "id": "x6aBlyHlNQY6"
      },
      "source": [
        "#### **Check the training convergence** - Plot the evolution of the loss function for both training and validation sets with respect to epochs to study the convergence of the training process. <a class=\"anchor\" id=\"question_2_3\"></a>"
      ]
    },
    {
      "cell_type": "code",
      "execution_count": null,
      "metadata": {
        "colab": {
          "base_uri": "https://localhost:8080/",
          "height": 293
        },
        "id": "R351wDBMNOn1",
        "outputId": "3a148bf1-139f-4ef2-bb1e-0dda9dd6d829"
      },
      "outputs": [
        {
          "output_type": "display_data",
          "data": {
            "text/plain": [
              "<Figure size 432x288 with 1 Axes>"
            ],
            "image/png": "[encoded data removed]"
          },
          "metadata": {
            "needs_background": "light"
          }
        }
      ],
      "source": [
        "# CELL TO BE COMPLETED\n",
        "plt.plot(range(n_epochs), train_losses_1)\n",
        "plt.plot(range(n_epochs), valid_losses_1)\n",
        "plt.legend(['train', 'validation'], prop={'size': 10})\n",
        "plt.title('loss function', size=10)\n",
        "plt.xlabel('epoch', size=10)\n",
        "plt.ylabel('loss value', size=10)\n",
        "plt.grid()"
      ]
    },
    {
      "cell_type": "markdown",
      "metadata": {
        "id": "pzHWwaVBOSvk"
      },
      "source": [
        "Let us load the model corresponding to the lowest validation loss."
      ]
    },
    {
      "cell_type": "code",
      "execution_count": null,
      "metadata": {
        "colab": {
          "base_uri": "https://localhost:8080/"
        },
        "id": "s6t9aHVqOVXX",
        "outputId": "eab56475-78e8-4e79-8f15-a86e7ca77b9b"
      },
      "outputs": [
        {
          "output_type": "execute_result",
          "data": {
            "text/plain": [
              "<All keys matched successfully>"
            ]
          },
          "metadata": {},
          "execution_count": 91
        }
      ],
      "source": [
        "model_1.load_state_dict(torch.load('model.pt', map_location=device))"
      ]
    },
    {
      "cell_type": "markdown",
      "metadata": {
        "id": "SugKLtJ3OtnD"
      },
      "source": [
        "#### **Testing the trained MLP model ** - Test the best model on (unseen) test data and evaluate it’s performance in terms of overall and per-class accuracy scores. <a class=\"anchor\" id=\"question_2_4\"></a>"
      ]
    },
    {
      "cell_type": "code",
      "execution_count": 23,
      "metadata": {
        "id": "aPHP7KUzOa4W"
      },
      "outputs": [],
      "source": [
        "def evaluation(model, test_loader, criterion): # FUNCTION TO BE COMPLETED\n",
        "\n",
        "  test_loss = 0.0\n",
        "  class_correct = list(0. for i in range(10))\n",
        "  class_total = list(0. for i in range(10))\n",
        "\n",
        "  model.eval()\n",
        "  for data, label in test_loader:\n",
        "      data = data.to(device=device, dtype=torch.float32)\n",
        "      label = label.to(device=device, dtype=torch.long)\n",
        "      with torch.no_grad():\n",
        "          output = model(data)\n",
        "      loss = criterion(output, label)\n",
        "      test_loss += loss.item()*data.size(0)\n",
        "      _, pred = torch.max(output, 1)\n",
        "      correct = np.squeeze(pred.eq(label.data.view_as(pred)))\n",
        "      for i in range(len(label)):\n",
        "          digit = label.data[i]\n",
        "          class_correct[digit] += correct[i].item()\n",
        "          class_total[digit] += 1\n",
        "\n",
        "  test_loss = test_loss/len(test_loader.sampler)\n",
        "  print('test Loss: {:.6f}\\n'.format(test_loss))\n",
        "  for i in range(10):\n",
        "      print('test accuracy of %s: %2d%% (%2d/%2d)' % (class_names[i], 100 * class_correct[i] / class_total[i], np.sum(class_correct[i]), np.sum(class_total[i])))\n",
        "  print('\\ntest accuracy (overall): %2.2f%% (%2d/%2d)' % (100. * np.sum(class_correct) / np.sum(class_total), np.sum(class_correct), np.sum(class_total)))"
      ]
    },
    {
      "cell_type": "code",
      "execution_count": null,
      "metadata": {
        "colab": {
          "base_uri": "https://localhost:8080/"
        },
        "id": "8zrXIcS0OiSm",
        "outputId": "3f1facd9-b462-46d7-fc4b-d20d0fa86231"
      },
      "outputs": [
        {
          "output_type": "stream",
          "name": "stdout",
          "text": [
            "test Loss: 0.215177\n",
            "\n",
            "test accuracy of 0 - zero: 98% (965/980)\n",
            "test accuracy of 1 - one: 97% (1112/1135)\n",
            "test accuracy of 2 - two: 93% (964/1032)\n",
            "test accuracy of 3 - three: 93% (943/1010)\n",
            "test accuracy of 4 - four: 92% (904/982)\n",
            "test accuracy of 5 - five: 90% (810/892)\n",
            "test accuracy of 6 - six: 95% (913/958)\n",
            "test accuracy of 7 - seven: 94% (971/1028)\n",
            "test accuracy of 8 - eight: 86% (840/974)\n",
            "test accuracy of 9 - nine: 91% (922/1009)\n",
            "\n",
            "test accuracy (overall): 93.44% (9344/10000)\n"
          ]
        }
      ],
      "source": [
        "evaluation(model_1, test_loader, criterion) # TO DO"
      ]
    },
    {
      "cell_type": "markdown",
      "metadata": {
        "id": "q1WGJUCGPa4E"
      },
      "source": [
        "#### **Uncorrect classifications** - Visualize some incorrect predictions by displaying test images and labels in the format: \"predicted (ground-truth)\". <a class=\"anchor\" id=\"question_2_5\"></a>"
      ]
    },
    {
      "cell_type": "code",
      "execution_count": null,
      "metadata": {
        "id": "pXY4sJHpPjHu"
      },
      "outputs": [],
      "source": [
        "def get_all_prediction(model, loader): # FUNCTION TO BE COMPLETED\n",
        "    preds = torch.tensor([], dtype=torch.long)\n",
        "    targets = torch.tensor([], dtype=torch.long)\n",
        "    for data, label in loader:\n",
        "        data = data.to(device=device, dtype=torch.float32)\n",
        "        label = label.to(device=device, dtype=torch.long)\n",
        "        with torch.no_grad():\n",
        "            output = model(data)\n",
        "        targets = torch.cat((targets, label.cpu()), dim = 0)\n",
        "        preds = torch.cat((preds, torch.max(output.cpu(), 1)[1]), dim = 0)\n",
        "    return targets.numpy(), preds.numpy()"
      ]
    },
    {
      "cell_type": "code",
      "execution_count": null,
      "metadata": {
        "id": "O166AkLrPlcW"
      },
      "outputs": [],
      "source": [
        "targets, preds_1 = get_all_prediction(model_1, test_loader) # TO DO"
      ]
    },
    {
      "cell_type": "code",
      "execution_count": null,
      "metadata": {
        "colab": {
          "base_uri": "https://localhost:8080/",
          "height": 260
        },
        "id": "wPXUvq89PpJs",
        "outputId": "deba6535-07df-4652-8cd6-2438dc964e7c"
      },
      "outputs": [
        {
          "output_type": "display_data",
          "data": {
            "text/plain": [
              "<Figure size 1440x288 with 20 Axes>"
            ],
            "image/png": "[encoded data removed]"
          },
          "metadata": {
            "needs_background": "light"
          }
        }
      ],
      "source": [
        "index = np.where(preds_1 - targets != 0)[0]\n",
        "test_set_array = test_data.data.numpy()\n",
        "plt.figure(figsize=(20, 4))\n",
        "for i in range(20):\n",
        "  plt.subplot(2, 10, i + 1)\n",
        "  plt.axis('off')\n",
        "  plt.imshow(test_set_array[index[i],:,:], cmap='gray')\n",
        "  plt.title(\"{} ({})\".format(class_names[preds_1[index[i]]], class_names[targets[index[i]]]))\n",
        "plt.show()"
      ]
    },
    {
      "cell_type": "markdown",
      "metadata": {
        "id": "-Cxu0TluQyzr"
      },
      "source": [
        "## 3- Convolutional neural network (CNN) <a class=\"anchor\" id=\"section_3\"></a>"
      ]
    },
    {
      "cell_type": "markdown",
      "metadata": {
        "id": "wGj9H4C2qB9o"
      },
      "source": [
        "Let us now switch from MLP to convolutional neural network (CNN) to classify Fashion-MNIST images."
      ]
    },
    {
      "cell_type": "markdown",
      "metadata": {
        "id": "3hBIkaLZqPT8"
      },
      "source": [
        "#### **CNN architecture** - Define a CNN architecture using (at least) 2 patterns [CONV - CONV - POOL] as well as dropout and fully-connected layers. <a class=\"anchor\" id=\"question_3_1\"></a>"
      ]
    },
    {
      "cell_type": "code",
      "execution_count": null,
      "metadata": {
        "id": "vwKgvoRzo8U8"
      },
      "outputs": [],
      "source": [
        "class CNN(nn.Module):\n",
        "\n",
        "    def __init__(self): # FUNCTION TO BE COMPLETED\n",
        "        super(CNN,self).__init__()\n",
        "        \n",
        "        self.conv1 = nn.Conv2d(in_channels=1, out_channels=32, kernel_size=3, stride=1, padding=0)\n",
        "        self.relu1 = nn.ReLU()\n",
        "        self.conv2 = nn.Conv2d(in_channels=32, out_channels=64, kernel_size=3, stride=1, padding=0)\n",
        "        self.relu2 = nn.ReLU()\n",
        "        self.maxp1 = nn.MaxPool2d(kernel_size=2)\n",
        "\n",
        "        self.conv3 = nn.Conv2d(in_channels=64, out_channels=64, kernel_size=3, stride=1, padding=0)\n",
        "        self.relu3 = nn.ReLU()\n",
        "        self.conv4 = nn.Conv2d(in_channels=64, out_channels=64, kernel_size=3, stride=1, padding=0)\n",
        "        self.relu4 = nn.ReLU()\n",
        "        self.maxp2 = nn.MaxPool2d(kernel_size=2)\n",
        "        self.drop1 = nn.Dropout(0.25)\n",
        "\n",
        "        self.fcon1 = nn.Linear(64*4*4, 128)\n",
        "        self.relu5 = nn.ReLU()\n",
        "        self.drop2 = nn.Dropout(0.5)\n",
        "        self.fcon2 = nn.Linear(128, 10)\n",
        "\n",
        "    def forward(self,x): # FUNCTION TO BE COMPLETED\n",
        "        out = self.conv1(x)\n",
        "        out = self.relu1(out)\n",
        "        out = self.conv2(out)\n",
        "        out = self.relu2(out)\n",
        "        out = self.maxp1(out)\n",
        "        out = self.conv3(out)\n",
        "        out = self.relu3(out)\n",
        "        out = self.conv4(out)\n",
        "        out = self.relu4(out)\n",
        "        out = self.maxp2(out)\n",
        "        out = self.drop1(out)\n",
        "        out = out.view(out.size(0), -1)\n",
        "        out = self.fcon1(out)\n",
        "        out = self.relu5(out)\n",
        "        out = self.drop2(out)\n",
        "        out = self.fcon2(out)\n",
        "        return out"
      ]
    },
    {
      "cell_type": "code",
      "execution_count": null,
      "metadata": {
        "colab": {
          "base_uri": "https://localhost:8080/"
        },
        "id": "leLg7Xq4pWjK",
        "outputId": "7a6a931c-dc32-4f64-9e69-581a304d1ea3"
      },
      "outputs": [
        {
          "output_type": "stream",
          "name": "stdout",
          "text": [
            "----------------------------------------------------------------\n",
            "        Layer (type)               Output Shape         Param #\n",
            "================================================================\n",
            "            Conv2d-1           [-1, 32, 26, 26]             320\n",
            "              ReLU-2           [-1, 32, 26, 26]               0\n",
            "            Conv2d-3           [-1, 64, 24, 24]          18,496\n",
            "              ReLU-4           [-1, 64, 24, 24]               0\n",
            "         MaxPool2d-5           [-1, 64, 12, 12]               0\n",
            "            Conv2d-6           [-1, 64, 10, 10]          36,928\n",
            "              ReLU-7           [-1, 64, 10, 10]               0\n",
            "            Conv2d-8             [-1, 64, 8, 8]          36,928\n",
            "              ReLU-9             [-1, 64, 8, 8]               0\n",
            "        MaxPool2d-10             [-1, 64, 4, 4]               0\n",
            "          Dropout-11             [-1, 64, 4, 4]               0\n",
            "           Linear-12                  [-1, 128]         131,200\n",
            "             ReLU-13                  [-1, 128]               0\n",
            "          Dropout-14                  [-1, 128]               0\n",
            "           Linear-15                   [-1, 10]           1,290\n",
            "================================================================\n",
            "Total params: 225,162\n",
            "Trainable params: 225,162\n",
            "Non-trainable params: 0\n",
            "----------------------------------------------------------------\n",
            "Input size (MB): 0.00\n",
            "Forward/backward pass size (MB): 1.14\n",
            "Params size (MB): 0.86\n",
            "Estimated Total Size (MB): 2.00\n",
            "----------------------------------------------------------------\n"
          ]
        }
      ],
      "source": [
        "from torchsummary import summary\n",
        "\n",
        "model_2 = CNN()\n",
        "model_2.to(device=device)\n",
        "\n",
        "summary(model_2, (1, 28, 28)) # TO DO"
      ]
    },
    {
      "cell_type": "markdown",
      "metadata": {
        "id": "Bj1lASDJrLFt"
      },
      "source": [
        "#### **CNN training scheme** - Train the pre-defined CNN network with cross entropy as loss function and stochastic gradient descent as optimization algorithm. <a class=\"anchor\" id=\"question_3_3\"></a>"
      ]
    },
    {
      "cell_type": "code",
      "execution_count": null,
      "metadata": {
        "id": "GuzMhjqwpeo-"
      },
      "outputs": [],
      "source": [
        "optimizer = torch.optim.SGD(model_2.parameters(),lr = 0.01) # TO DO"
      ]
    },
    {
      "cell_type": "code",
      "execution_count": null,
      "metadata": {
        "colab": {
          "base_uri": "https://localhost:8080/"
        },
        "id": "w6LQ523QpmVY",
        "outputId": "dbd5aea2-0603-4f03-bbe5-424861ddce53"
      },
      "outputs": [
        {
          "output_type": "stream",
          "name": "stdout",
          "text": [
            "epoch: 1 \ttraining Loss: 1.435236 \tvalidation Loss: 0.694411\n",
            "validation loss decreased (inf --> 0.694411).  Saving model ...\n",
            "epoch: 2 \ttraining Loss: 0.690325 \tvalidation Loss: 0.537950\n",
            "validation loss decreased (0.694411 --> 0.537950).  Saving model ...\n",
            "epoch: 3 \ttraining Loss: 0.598338 \tvalidation Loss: 0.487100\n",
            "validation loss decreased (0.537950 --> 0.487100).  Saving model ...\n",
            "epoch: 4 \ttraining Loss: 0.550084 \tvalidation Loss: 0.454402\n",
            "validation loss decreased (0.487100 --> 0.454402).  Saving model ...\n",
            "epoch: 5 \ttraining Loss: 0.512459 \tvalidation Loss: 0.415126\n",
            "validation loss decreased (0.454402 --> 0.415126).  Saving model ...\n",
            "epoch: 6 \ttraining Loss: 0.481686 \tvalidation Loss: 0.404406\n",
            "validation loss decreased (0.415126 --> 0.404406).  Saving model ...\n",
            "epoch: 7 \ttraining Loss: 0.452056 \tvalidation Loss: 0.376474\n",
            "validation loss decreased (0.404406 --> 0.376474).  Saving model ...\n",
            "epoch: 8 \ttraining Loss: 0.429007 \tvalidation Loss: 0.357949\n",
            "validation loss decreased (0.376474 --> 0.357949).  Saving model ...\n",
            "epoch: 9 \ttraining Loss: 0.412475 \tvalidation Loss: 0.353913\n",
            "validation loss decreased (0.357949 --> 0.353913).  Saving model ...\n",
            "epoch: 10 \ttraining Loss: 0.394176 \tvalidation Loss: 0.329046\n",
            "validation loss decreased (0.353913 --> 0.329046).  Saving model ...\n",
            "epoch: 11 \ttraining Loss: 0.384179 \tvalidation Loss: 0.318646\n",
            "validation loss decreased (0.329046 --> 0.318646).  Saving model ...\n",
            "epoch: 12 \ttraining Loss: 0.369116 \tvalidation Loss: 0.317677\n",
            "validation loss decreased (0.318646 --> 0.317677).  Saving model ...\n",
            "epoch: 13 \ttraining Loss: 0.356359 \tvalidation Loss: 0.306155\n",
            "validation loss decreased (0.317677 --> 0.306155).  Saving model ...\n",
            "epoch: 14 \ttraining Loss: 0.347675 \tvalidation Loss: 0.320884\n",
            "epoch: 15 \ttraining Loss: 0.340093 \tvalidation Loss: 0.291301\n",
            "validation loss decreased (0.306155 --> 0.291301).  Saving model ...\n",
            "epoch: 16 \ttraining Loss: 0.333322 \tvalidation Loss: 0.306426\n",
            "epoch: 17 \ttraining Loss: 0.325954 \tvalidation Loss: 0.278270\n",
            "validation loss decreased (0.291301 --> 0.278270).  Saving model ...\n",
            "epoch: 18 \ttraining Loss: 0.319463 \tvalidation Loss: 0.278127\n",
            "validation loss decreased (0.278270 --> 0.278127).  Saving model ...\n",
            "epoch: 19 \ttraining Loss: 0.312991 \tvalidation Loss: 0.271866\n",
            "validation loss decreased (0.278127 --> 0.271866).  Saving model ...\n",
            "epoch: 20 \ttraining Loss: 0.306529 \tvalidation Loss: 0.275810\n",
            "epoch: 21 \ttraining Loss: 0.302612 \tvalidation Loss: 0.269290\n",
            "validation loss decreased (0.271866 --> 0.269290).  Saving model ...\n",
            "epoch: 22 \ttraining Loss: 0.296803 \tvalidation Loss: 0.276898\n",
            "epoch: 23 \ttraining Loss: 0.291509 \tvalidation Loss: 0.260351\n",
            "validation loss decreased (0.269290 --> 0.260351).  Saving model ...\n"
          ]
        }
      ],
      "source": [
        "train_losses_2, valid_losses_2 = training(n_epochs, train_loader, valid_loader, model_2, criterion, optimizer) # TO DO"
      ]
    },
    {
      "cell_type": "markdown",
      "metadata": {
        "id": "VENh7bUYrrhP"
      },
      "source": [
        "#### **Training convergence** - Display in a single graph the loss functions for training and validation sets obtained with both MLP and CNN models. <a class=\"anchor\" id=\"question_3_4\"></a>"
      ]
    },
    {
      "cell_type": "code",
      "execution_count": null,
      "metadata": {
        "colab": {
          "base_uri": "https://localhost:8080/",
          "height": 311
        },
        "id": "GvRvEpx4r3Ow",
        "outputId": "26b41be9-a0b1-404d-ffb3-e2ab5d8f3fe9"
      },
      "outputs": [
        {
          "output_type": "execute_result",
          "data": {
            "text/plain": [
              "Text(0, 0.5, 'loss value')"
            ]
          },
          "metadata": {},
          "execution_count": 33
        },
        {
          "output_type": "display_data",
          "data": {
            "text/plain": [
              "<Figure size 432x288 with 1 Axes>"
            ],
            "image/png": "[encoded data removed]"
          },
          "metadata": {
            "needs_background": "light"
          }
        }
      ],
      "source": [
        "# CELL TO BE COMPLETED\n",
        "plt.plot(range(n_epochs), train_losses_1)\n",
        "plt.plot(range(n_epochs), valid_losses_1)\n",
        "plt.plot(range(n_epochs), train_losses_2)\n",
        "plt.plot(range(n_epochs), valid_losses_2)\n",
        "plt.ylim([0.2,0.8])\n",
        "plt.grid()\n",
        "plt.legend(['train MLP', 'validation MLP', 'train CNN', 'validation CNN'], prop={'size': 10})\n",
        "plt.title('loss function', size=10)\n",
        "plt.xlabel('epoch', size=10)\n",
        "plt.ylabel('loss value', size=10)"
      ]
    },
    {
      "cell_type": "markdown",
      "metadata": {
        "id": "1C17bsUC1W_Y"
      },
      "source": [
        "As previously, we load the model corresponding to the lowest validation loss."
      ]
    },
    {
      "cell_type": "code",
      "execution_count": null,
      "metadata": {
        "colab": {
          "base_uri": "https://localhost:8080/"
        },
        "id": "qzToZJN3FBbS",
        "outputId": "a66b1d4c-0a9e-48f4-e728-0f0238c3577f"
      },
      "outputs": [
        {
          "output_type": "execute_result",
          "data": {
            "text/plain": [
              "<All keys matched successfully>"
            ]
          },
          "metadata": {},
          "execution_count": 34
        }
      ],
      "source": [
        "model_2.load_state_dict(torch.load('model.pt', map_location=device))"
      ]
    },
    {
      "cell_type": "markdown",
      "metadata": {
        "id": "qOEIMqQ7scl4"
      },
      "source": [
        "#### **Testing a trained CNN model** - Test the model on test data and evaluate it through overall and per-class accuracy scores. Compare these scores with the ones obtained using MLP. <a class=\"anchor\" id=\"question_3_5\"></a>"
      ]
    },
    {
      "cell_type": "code",
      "execution_count": null,
      "metadata": {
        "colab": {
          "base_uri": "https://localhost:8080/"
        },
        "id": "xX3jtWoxsmmc",
        "outputId": "56fd4173-b582-4516-bbbf-529b9e809ea0"
      },
      "outputs": [
        {
          "output_type": "stream",
          "name": "stdout",
          "text": [
            "test Loss: 0.256017\n",
            "\n",
            "test accuracy of T-shirt/top: 87% (870/1000)\n",
            "test accuracy of Trouser: 97% (978/1000)\n",
            "test accuracy of Pullover: 86% (866/1000)\n",
            "test accuracy of Dress: 90% (907/1000)\n",
            "test accuracy of Coat: 89% (898/1000)\n",
            "test accuracy of Sandal: 97% (975/1000)\n",
            "test accuracy of Shirt: 67% (673/1000)\n",
            "test accuracy of Sneaker: 96% (967/1000)\n",
            "test accuracy of Bag: 97% (975/1000)\n",
            "test accuracy of Ankle boot: 96% (963/1000)\n",
            "\n",
            "test accuracy (overall): 90.72% (9072/10000)\n"
          ]
        }
      ],
      "source": [
        "evaluation(model_2, test_loader, criterion) # TO DO"
      ]
    },
    {
      "cell_type": "markdown",
      "metadata": {
        "id": "sZvnzHYOv3bs"
      },
      "source": [
        "#### **Incorrect classifications** - Display CNN results for images whose prediction was incorrect with MLP. Labels should be indicated in the following format: \"CNN label (ground-truth)\" in red if wrong, green otherwise. <a class=\"anchor\" id=\"question_3_6\"></a>"
      ]
    },
    {
      "cell_type": "code",
      "execution_count": null,
      "metadata": {
        "id": "zczfDPAVvux_"
      },
      "outputs": [],
      "source": [
        "targets, preds_2 = get_all_prediction(model_2, test_loader) # TO DO"
      ]
    },
    {
      "cell_type": "code",
      "execution_count": null,
      "metadata": {
        "colab": {
          "base_uri": "https://localhost:8080/",
          "height": 252
        },
        "id": "pUzvJDOZv_lK",
        "outputId": "3b74d4d3-7a9b-499a-83a0-6dffcaf3139b"
      },
      "outputs": [
        {
          "data": {
            "image/png": "[encoded data removed]",
            "text/plain": [
              "<Figure size 1800x288 with 20 Axes>"
            ]
          },
          "metadata": {
            "needs_background": "light"
          },
          "output_type": "display_data"
        }
      ],
      "source": [
        "plt.figure(figsize=(25, 4))\n",
        "for i in range(20):\n",
        "  plt.subplot(2, 10, i + 1)\n",
        "  plt.axis('off')\n",
        "  plt.imshow(test_set_array[index[i],:,:], cmap='gray')\n",
        "  plt.title(\"{} ({})\".format(class_names[preds_2[index[i]]], class_names[targets[index[i]]]), color=(\"green\" if preds_2[index[i]]==targets[index[i]] else \"red\")) \n",
        "plt.show()"
      ]
    },
    {
      "cell_type": "markdown",
      "metadata": {
        "id": "NwWEBlcwvLrW"
      },
      "source": [
        "#### **Confusion matrix** - Display the confusion matrix for both MLP and CNN models. <a class=\"anchor\" id=\"question_3_7\"></a>"
      ]
    },
    {
      "cell_type": "code",
      "execution_count": null,
      "metadata": {
        "id": "UTp-Kcn5vAz2"
      },
      "outputs": [],
      "source": [
        "from sklearn.metrics import confusion_matrix\n",
        "import itertools\n",
        "\n",
        "def plot_confusion_matrix(cm, classes, normalize=False, title='confusion matrix', cmap=plt.cm.Blues):\n",
        "    # This function prints and plots the confusion matrix. Normalization can be applied by setting `normalize=True`\n",
        "    if normalize:\n",
        "        cm = cm.astype('float') / cm.sum(axis=1)[:, np.newaxis]\n",
        "        print(\"normalized confusion matrix\")\n",
        "    else:\n",
        "        print('confusion matrix, without normalization')\n",
        "\n",
        "    plt.imshow(cm, interpolation='nearest', cmap=cmap)\n",
        "    plt.title(title)\n",
        "    plt.colorbar()\n",
        "    tick_marks = np.arange(len(classes))\n",
        "    plt.xticks(tick_marks, classes, rotation=45)\n",
        "    plt.yticks(tick_marks, classes)\n",
        "\n",
        "    fmt = '.2f' if normalize else 'd'\n",
        "    thresh = cm.max() / 2.\n",
        "    for i, j in itertools.product(range(cm.shape[0]), range(cm.shape[1])):\n",
        "        plt.text(j, i, format(cm[i, j], fmt),\n",
        "                 horizontalalignment=\"center\",\n",
        "                 color=\"white\" if cm[i, j] > thresh else \"black\")\n",
        "\n",
        "    plt.tight_layout()\n",
        "    plt.ylabel('true label')\n",
        "    plt.xlabel('predicted label')"
      ]
    },
    {
      "cell_type": "code",
      "execution_count": null,
      "metadata": {
        "colab": {
          "base_uri": "https://localhost:8080/",
          "height": 483
        },
        "id": "WBzaFZDhvCid",
        "outputId": "d80f0f8f-2d9c-4eac-e568-e224af6fb0a6"
      },
      "outputs": [
        {
          "name": "stdout",
          "output_type": "stream",
          "text": [
            "normalized confusion matrix\n",
            "normalized confusion matrix\n"
          ]
        },
        {
          "data": {
            "image/png": "[encoded data removed]",
            "text/plain": [
              "<Figure size 1008x432 with 3 Axes>"
            ]
          },
          "metadata": {
            "needs_background": "light"
          },
          "output_type": "display_data"
        }
      ],
      "source": [
        "# compute confusion matrix\n",
        "cnf_matrix_MLP = confusion_matrix(targets, preds_1)\n",
        "cnf_matrix_CNN = confusion_matrix(targets, preds_2)\n",
        "np.set_printoptions(precision=2)\n",
        "\n",
        "# plot normalized confusion matrixes\n",
        "plt.figure(figsize=(14, 6))\n",
        "plt.subplot(1, 2, 1)\n",
        "plot_confusion_matrix(cnf_matrix_MLP, classes=class_names, normalize=True, title='MLP')\n",
        "plt.subplot(1, 2, 2)\n",
        "plot_confusion_matrix(cnf_matrix_CNN, classes=class_names, normalize=True, title='CNN')\n",
        "plt.show()"
      ]
    },
    {
      "cell_type": "markdown",
      "source": [
        "## 4- Transfer learning from ImageNet <a class=\"anchor\" id=\"section_4\"></a>"
      ],
      "metadata": {
        "id": "wteZsmWqnYR7"
      }
    },
    {
      "cell_type": "markdown",
      "source": [
        "Transfer learning focuses on storing knowledge gained while solving one problem and applying it to a different but related problem.\n",
        "\n",
        "Our goal is to use a (well-known) CNN architecture whose weights have been already trained on ImageNet to perform transfer learning and fine tuning. ImageNet is a large visual database designed for visual object recognition purposes wich contains more than 14 million images!"
      ],
      "metadata": {
        "id": "kvUg4Afmnc6M"
      }
    },
    {
      "cell_type": "markdown",
      "source": [
        "### **Resize MNIST dataset**: Modify the Fashion-MNIST dataset to make it fit to ImageNet by extending Fashion-MNIST images from greyscale to 3-channels images. Since the minimal image dimension as inputs of pre-trained CNN models is 48x48, you will also need to resize images. To do so, use transform.Compose(), transforms.Resize() and transforms.Grayscale(). More details on image transformations are available in the documentation."
      ],
      "metadata": {
        "id": "91BScJ7FnoHH"
      }
    },
    {
      "cell_type": "code",
      "source": [
        "transform = transforms.Compose([transforms.Resize(48), transforms.Grayscale(3), transforms.ToTensor()]) # TO DO\n",
        "\n",
        "train_data = datasets.FashionMNIST(root = 'data', train = True, download = True, transform = transform)\n",
        "test_data = datasets.FashionMNIST(root = 'data', train = False, download = True, transform = transform)"
      ],
      "metadata": {
        "id": "vH-rYPG3nZh7",
        "outputId": "073c9699-d894-49e8-baf9-e64d5d3d05b0",
        "colab": {
          "base_uri": "https://localhost:8080/",
          "height": 450,
          "referenced_widgets": [
            "d2535a48d7bb48b4b34be4e2b8012be5",
            "93ecda2768814853ad896ed065f52620",
            "21f6b72b962e4be98b01635619b01e8a",
            "7047bc88cf7947f190d332147a39e438",
            "e9604b39dab14f7680985545f40ea0b8",
            "392b04c818aa41028decf2e842308d76",
            "4f53a9defb9c49a29b7b03afeec01ec6",
            "07551da924414cc4bb4da3e57239fe69",
            "b16db412e020448bb72045786b67147f",
            "5296b821c0ce423c9cb890ae5b615896",
            "8c51e5d95e98468092d44588da557576",
            "8656845d869b487ba56954a54f557263",
            "9fb2368723b84281a61b38d1a068ef27",
            "f7266f00b1a645928c28dfb4eaced13b",
            "89eb37c8be2d46d3933b1e3db7bf3e4f",
            "be8a0bb27285475a85d826b1844d99c0",
            "9a77e86eb8f3429f9f535ccc15cf2969",
            "40f221573d8b4885bdc6514b37c6bc9d",
            "bd007461c9434f8495644d549a98b429",
            "75de9f1b15674a7cb0e7a38efcd2f5f2",
            "07f03c35c43445a591b79b660f1a3f59",
            "06b98b0b9517480d886426d369e10f06",
            "2e8face28ab842279eba55048d5ca5d0",
            "41fa5044c456458d90e4f55a4a3c3850",
            "75df7beb0a9642438edc8b23f58f65bc",
            "b27d0b113ce54d10bdd38c14b954ef68",
            "3d4477d474fe4aba817f1ed0f0128a31",
            "cac90fe4cb8f4a91bd2c5d4252f75258",
            "d132427205eb4f7aa4fb4fbadbeba24e",
            "d597bd13842249029a1cedb8eb5bfbb3",
            "7cf33c2b2129432ea90f9743420353bb",
            "c351007001464c0eae2976cb4acc9451",
            "a3553b6686e54124900e3b40d26841f1",
            "f8a2bbcbddc84e22b66a679c01124480",
            "64b3715316d44023be52b2ce292d994d",
            "a9ad9a7b57594f82823fda8a71356814",
            "46bec9061a3b4a818a4511d6589b97bd",
            "63fa6dae54c64c5682168591ac4aae82",
            "05af53abaa2a4a788fe6c096a432b694",
            "3522734dfbc94d56a731df120200b34b",
            "e9c912b7797c462dad64ef4e9b37e187",
            "0eb93405d4a34d978bce9a6bcacb2e2d",
            "6cd673c4454c4e398dc0e239e926f31b",
            "d888f7ac686b4c17b18b10855eece56f"
          ]
        }
      },
      "execution_count": 10,
      "outputs": [
        {
          "output_type": "stream",
          "name": "stdout",
          "text": [
            "Downloading http://fashion-mnist.s3-website.eu-central-1.amazonaws.com/train-images-idx3-ubyte.gz\n",
            "Downloading http://fashion-mnist.s3-website.eu-central-1.amazonaws.com/train-images-idx3-ubyte.gz to data/FashionMNIST/raw/train-images-idx3-ubyte.gz\n"
          ]
        },
        {
          "output_type": "display_data",
          "data": {
            "text/plain": [
              "  0%|          | 0/26421880 [00:00<?, ?it/s]"
            ],
            "application/vnd.jupyter.widget-view+json": {
              "version_major": 2,
              "version_minor": 0,
              "model_id": "d2535a48d7bb48b4b34be4e2b8012be5"
            }
          },
          "metadata": {}
        },
        {
          "output_type": "stream",
          "name": "stdout",
          "text": [
            "Extracting data/FashionMNIST/raw/train-images-idx3-ubyte.gz to data/FashionMNIST/raw\n",
            "\n",
            "Downloading http://fashion-mnist.s3-website.eu-central-1.amazonaws.com/train-labels-idx1-ubyte.gz\n",
            "Downloading http://fashion-mnist.s3-website.eu-central-1.amazonaws.com/train-labels-idx1-ubyte.gz to data/FashionMNIST/raw/train-labels-idx1-ubyte.gz\n"
          ]
        },
        {
          "output_type": "display_data",
          "data": {
            "text/plain": [
              "  0%|          | 0/29515 [00:00<?, ?it/s]"
            ],
            "application/vnd.jupyter.widget-view+json": {
              "version_major": 2,
              "version_minor": 0,
              "model_id": "8656845d869b487ba56954a54f557263"
            }
          },
          "metadata": {}
        },
        {
          "output_type": "stream",
          "name": "stdout",
          "text": [
            "Extracting data/FashionMNIST/raw/train-labels-idx1-ubyte.gz to data/FashionMNIST/raw\n",
            "\n",
            "Downloading http://fashion-mnist.s3-website.eu-central-1.amazonaws.com/t10k-images-idx3-ubyte.gz\n",
            "Downloading http://fashion-mnist.s3-website.eu-central-1.amazonaws.com/t10k-images-idx3-ubyte.gz to data/FashionMNIST/raw/t10k-images-idx3-ubyte.gz\n"
          ]
        },
        {
          "output_type": "display_data",
          "data": {
            "text/plain": [
              "  0%|          | 0/4422102 [00:00<?, ?it/s]"
            ],
            "application/vnd.jupyter.widget-view+json": {
              "version_major": 2,
              "version_minor": 0,
              "model_id": "2e8face28ab842279eba55048d5ca5d0"
            }
          },
          "metadata": {}
        },
        {
          "output_type": "stream",
          "name": "stdout",
          "text": [
            "Extracting data/FashionMNIST/raw/t10k-images-idx3-ubyte.gz to data/FashionMNIST/raw\n",
            "\n",
            "Downloading http://fashion-mnist.s3-website.eu-central-1.amazonaws.com/t10k-labels-idx1-ubyte.gz\n",
            "Downloading http://fashion-mnist.s3-website.eu-central-1.amazonaws.com/t10k-labels-idx1-ubyte.gz to data/FashionMNIST/raw/t10k-labels-idx1-ubyte.gz\n"
          ]
        },
        {
          "output_type": "display_data",
          "data": {
            "text/plain": [
              "  0%|          | 0/5148 [00:00<?, ?it/s]"
            ],
            "application/vnd.jupyter.widget-view+json": {
              "version_major": 2,
              "version_minor": 0,
              "model_id": "f8a2bbcbddc84e22b66a679c01124480"
            }
          },
          "metadata": {}
        },
        {
          "output_type": "stream",
          "name": "stdout",
          "text": [
            "Extracting data/FashionMNIST/raw/t10k-labels-idx1-ubyte.gz to data/FashionMNIST/raw\n",
            "\n"
          ]
        }
      ]
    },
    {
      "cell_type": "markdown",
      "source": [
        "Create training, validation and test data loaders. Check the dimensions of images arising from the modified Fasion-MNIST dataset."
      ],
      "metadata": {
        "id": "KP4aOeuLnxv0"
      }
    },
    {
      "cell_type": "code",
      "source": [
        "train_loader, valid_loader, test_loader = create_data_loaders(batch_size, valid_size, train_data, test_data)\n",
        "data_iter = iter(train_loader) \n",
        "images, labels = data_iter.next()\n",
        "print(images.numpy().shape)"
      ],
      "metadata": {
        "id": "zIa-2cPonyGM",
        "outputId": "c56fde9f-e4e0-4787-a346-cff3cc920af3",
        "colab": {
          "base_uri": "https://localhost:8080/"
        }
      },
      "execution_count": 11,
      "outputs": [
        {
          "output_type": "stream",
          "name": "stdout",
          "text": [
            "(20, 3, 48, 48)\n"
          ]
        }
      ]
    },
    {
      "cell_type": "markdown",
      "source": [
        "#### **VGG16 model** - Exploit a vgg16 architecture ([related paper](https://arxiv.org/pdf/1409.1556.pdf)) pre-trained on ImageNet to improve the classification scores on Fashion-MNIST through fine-tuning. See the [documentation](https://pytorch.org/vision/stable/models.html#id2) for further details. Use summary() from torchsummary to describe each of the vgg16 layers. To avoid a too long learning time, you may use only 5 epochs during fine-tuning. <a class=\"anchor\" id=\"question_4_3\"></a>"
      ],
      "metadata": {
        "id": "8O8Al2zDnyto"
      }
    },
    {
      "cell_type": "code",
      "source": [
        "import torchvision.models as models\n",
        "from torchsummary import summary\n",
        "\n",
        "model_3 = models.vgg16(pretrained=True) # TO DO\n",
        "model_3.to(device=device)\n",
        "summary(model_3, (3, 48, 48))"
      ],
      "metadata": {
        "id": "8rMEOIYaoBZ4",
        "outputId": "e363e5df-760d-4953-bc6a-39fdc0a7b412",
        "colab": {
          "base_uri": "https://localhost:8080/"
        }
      },
      "execution_count": 26,
      "outputs": [
        {
          "output_type": "stream",
          "name": "stderr",
          "text": [
            "/usr/local/lib/python3.7/dist-packages/torchvision/models/_utils.py:209: UserWarning: The parameter 'pretrained' is deprecated since 0.13 and will be removed in 0.15, please use 'weights' instead.\n",
            "  f\"The parameter '{pretrained_param}' is deprecated since 0.13 and will be removed in 0.15, \"\n",
            "/usr/local/lib/python3.7/dist-packages/torchvision/models/_utils.py:223: UserWarning: Arguments other than a weight enum or `None` for 'weights' are deprecated since 0.13 and will be removed in 0.15. The current behavior is equivalent to passing `weights=VGG16_Weights.IMAGENET1K_V1`. You can also use `weights=VGG16_Weights.DEFAULT` to get the most up-to-date weights.\n",
            "  warnings.warn(msg)\n"
          ]
        },
        {
          "output_type": "stream",
          "name": "stdout",
          "text": [
            "----------------------------------------------------------------\n",
            "        Layer (type)               Output Shape         Param #\n",
            "================================================================\n",
            "            Conv2d-1           [-1, 64, 48, 48]           1,792\n",
            "              ReLU-2           [-1, 64, 48, 48]               0\n",
            "            Conv2d-3           [-1, 64, 48, 48]          36,928\n",
            "              ReLU-4           [-1, 64, 48, 48]               0\n",
            "         MaxPool2d-5           [-1, 64, 24, 24]               0\n",
            "            Conv2d-6          [-1, 128, 24, 24]          73,856\n",
            "              ReLU-7          [-1, 128, 24, 24]               0\n",
            "            Conv2d-8          [-1, 128, 24, 24]         147,584\n",
            "              ReLU-9          [-1, 128, 24, 24]               0\n",
            "        MaxPool2d-10          [-1, 128, 12, 12]               0\n",
            "           Conv2d-11          [-1, 256, 12, 12]         295,168\n",
            "             ReLU-12          [-1, 256, 12, 12]               0\n",
            "           Conv2d-13          [-1, 256, 12, 12]         590,080\n",
            "             ReLU-14          [-1, 256, 12, 12]               0\n",
            "           Conv2d-15          [-1, 256, 12, 12]         590,080\n",
            "             ReLU-16          [-1, 256, 12, 12]               0\n",
            "        MaxPool2d-17            [-1, 256, 6, 6]               0\n",
            "           Conv2d-18            [-1, 512, 6, 6]       1,180,160\n",
            "             ReLU-19            [-1, 512, 6, 6]               0\n",
            "           Conv2d-20            [-1, 512, 6, 6]       2,359,808\n",
            "             ReLU-21            [-1, 512, 6, 6]               0\n",
            "           Conv2d-22            [-1, 512, 6, 6]       2,359,808\n",
            "             ReLU-23            [-1, 512, 6, 6]               0\n",
            "        MaxPool2d-24            [-1, 512, 3, 3]               0\n",
            "           Conv2d-25            [-1, 512, 3, 3]       2,359,808\n",
            "             ReLU-26            [-1, 512, 3, 3]               0\n",
            "           Conv2d-27            [-1, 512, 3, 3]       2,359,808\n",
            "             ReLU-28            [-1, 512, 3, 3]               0\n",
            "           Conv2d-29            [-1, 512, 3, 3]       2,359,808\n",
            "             ReLU-30            [-1, 512, 3, 3]               0\n",
            "        MaxPool2d-31            [-1, 512, 1, 1]               0\n",
            "AdaptiveAvgPool2d-32            [-1, 512, 7, 7]               0\n",
            "           Linear-33                 [-1, 4096]     102,764,544\n",
            "             ReLU-34                 [-1, 4096]               0\n",
            "          Dropout-35                 [-1, 4096]               0\n",
            "           Linear-36                 [-1, 4096]      16,781,312\n",
            "             ReLU-37                 [-1, 4096]               0\n",
            "          Dropout-38                 [-1, 4096]               0\n",
            "           Linear-39                 [-1, 1000]       4,097,000\n",
            "================================================================\n",
            "Total params: 138,357,544\n",
            "Trainable params: 138,357,544\n",
            "Non-trainable params: 0\n",
            "----------------------------------------------------------------\n",
            "Input size (MB): 0.03\n",
            "Forward/backward pass size (MB): 10.41\n",
            "Params size (MB): 527.79\n",
            "Estimated Total Size (MB): 538.23\n",
            "----------------------------------------------------------------\n"
          ]
        }
      ]
    },
    {
      "cell_type": "code",
      "source": [
        "optimizer = torch.optim.SGD(model_3.parameters(),lr = 0.01) # TO DO"
      ],
      "metadata": {
        "id": "x2Uncwh1oFMU"
      },
      "execution_count": 27,
      "outputs": []
    },
    {
      "cell_type": "code",
      "source": [
        "n_epochs = 5\n",
        "train_losses_3, valid_losses_3 = training(n_epochs, train_loader, valid_loader, model_3, criterion, optimizer) # TO DO"
      ],
      "metadata": {
        "id": "4vJ6Xa6uoFeg",
        "outputId": "73440b1d-b5e5-4908-9b29-617b768977fd",
        "colab": {
          "base_uri": "https://localhost:8080/"
        }
      },
      "execution_count": null,
      "outputs": [
        {
          "output_type": "stream",
          "name": "stdout",
          "text": [
            "epoch: 1 \ttraining Loss: 1.192147 \tvalidation Loss: 0.558585\n",
            "validation loss decreased (inf --> 0.558585).  Saving model ...\n",
            "epoch: 2 \ttraining Loss: 0.423269 \tvalidation Loss: 0.429915\n",
            "validation loss decreased (0.558585 --> 0.429915).  Saving model ...\n",
            "epoch: 3 \ttraining Loss: 0.310229 \tvalidation Loss: 0.337277\n",
            "validation loss decreased (0.429915 --> 0.337277).  Saving model ...\n",
            "epoch: 4 \ttraining Loss: 0.242591 \tvalidation Loss: 0.449967\n"
          ]
        }
      ]
    },
    {
      "cell_type": "code",
      "source": [
        "# Reload best model\n",
        "model_3.load_state_dict(torch.load('model.pt', map_location=device))"
      ],
      "metadata": {
        "id": "L8rGcnidocYV"
      },
      "execution_count": null,
      "outputs": []
    },
    {
      "cell_type": "code",
      "source": [
        "evaluation(model_3, test_loader, criterion) # TO DO"
      ],
      "metadata": {
        "id": "fgyJEGKEofus"
      },
      "execution_count": null,
      "outputs": []
    },
    {
      "cell_type": "code",
      "source": [
        "targets, preds_3 = get_all_prediction(model_3, test_loader) # TO DO"
      ],
      "metadata": {
        "id": "Yo3Z57OPoj2V"
      },
      "execution_count": null,
      "outputs": []
    },
    {
      "cell_type": "code",
      "source": [
        "# CELL TO BE COMPLETED\n",
        "plt.figure(figsize=(25, 4))\n",
        "for i in range(20):\n",
        "  plt.subplot(2, 10, i + 1)\n",
        "  plt.axis('off')\n",
        "  plt.imshow(test_set_array[index[i],:,:], cmap='gray')\n",
        "  plt.title(\"{} ({})\".format(class_names[preds_3[index[i]]], class_names[targets[index[i]]]), color=(\"green\" if preds_3[index[i]]==targets[index[i]] else \"red\")) \n",
        "plt.show()"
      ],
      "metadata": {
        "id": "VSGtHTAlon-L"
      },
      "execution_count": null,
      "outputs": []
    }
  ],
  "metadata": {
    "accelerator": "GPU",
    "colab": {
      "collapsed_sections": [],
      "provenance": [],
      "toc_visible": true,
      "include_colab_link": true
    },
    "kernelspec": {
      "display_name": "Python 3",
      "language": "python",
      "name": "python3"
    },
    "language_info": {
      "codemirror_mode": {
        "name": "ipython",
        "version": 3
      },
      "file_extension": ".py",
      "mimetype": "text/x-python",
      "name": "python",
      "nbconvert_exporter": "python",
      "pygments_lexer": "ipython3",
      "version": "3.8.8"
    },
    "widgets": {
      "application/vnd.jupyter.widget-state+json": {
        "fc42c9d523a2413eaf286ddb0211d302": {
          "model_module": "@jupyter-widgets/controls",
          "model_name": "HBoxModel",
          "model_module_version": "1.5.0",
          "state": {
            "_dom_classes": [],
            "_model_module": "@jupyter-widgets/controls",
            "_model_module_version": "1.5.0",
            "_model_name": "HBoxModel",
            "_view_count": null,
            "_view_module": "@jupyter-widgets/controls",
            "_view_module_version": "1.5.0",
            "_view_name": "HBoxView",
            "box_style": "",
            "children": [
              "IPY_MODEL_0f33500a210f4d998e6489059547c2b4",
              "IPY_MODEL_4a458980ec4940028c1ad3ff9c806052",
              "IPY_MODEL_1a7658e2b88e4ae2846064ed3f765c5f"
            ],
            "layout": "IPY_MODEL_d083904e2501454f8d998f83241aaa24"
          }
        },
        "0f33500a210f4d998e6489059547c2b4": {
          "model_module": "@jupyter-widgets/controls",
          "model_name": "HTMLModel",
          "model_module_version": "1.5.0",
          "state": {
            "_dom_classes": [],
            "_model_module": "@jupyter-widgets/controls",
            "_model_module_version": "1.5.0",
            "_model_name": "HTMLModel",
            "_view_count": null,
            "_view_module": "@jupyter-widgets/controls",
            "_view_module_version": "1.5.0",
            "_view_name": "HTMLView",
            "description": "",
            "description_tooltip": null,
            "layout": "IPY_MODEL_77c8277aade040009df24f871647fc97",
            "placeholder": "​",
            "style": "IPY_MODEL_b6fb724a01224acf864c33064496773b",
            "value": "100%"
          }
        },
        "4a458980ec4940028c1ad3ff9c806052": {
          "model_module": "@jupyter-widgets/controls",
          "model_name": "FloatProgressModel",
          "model_module_version": "1.5.0",
          "state": {
            "_dom_classes": [],
            "_model_module": "@jupyter-widgets/controls",
            "_model_module_version": "1.5.0",
            "_model_name": "FloatProgressModel",
            "_view_count": null,
            "_view_module": "@jupyter-widgets/controls",
            "_view_module_version": "1.5.0",
            "_view_name": "ProgressView",
            "bar_style": "success",
            "description": "",
            "description_tooltip": null,
            "layout": "IPY_MODEL_1603fe2eb9b44bc3854ed7dda766f2c4",
            "max": 9912422,
            "min": 0,
            "orientation": "horizontal",
            "style": "IPY_MODEL_a577d77220d346b2b58a933fbca55f0b",
            "value": 9912422
          }
        },
        "1a7658e2b88e4ae2846064ed3f765c5f": {
          "model_module": "@jupyter-widgets/controls",
          "model_name": "HTMLModel",
          "model_module_version": "1.5.0",
          "state": {
            "_dom_classes": [],
            "_model_module": "@jupyter-widgets/controls",
            "_model_module_version": "1.5.0",
            "_model_name": "HTMLModel",
            "_view_count": null,
            "_view_module": "@jupyter-widgets/controls",
            "_view_module_version": "1.5.0",
            "_view_name": "HTMLView",
            "description": "",
            "description_tooltip": null,
            "layout": "IPY_MODEL_32d66ac861064ec0963079763ddaf390",
            "placeholder": "​",
            "style": "IPY_MODEL_f772e7ad9d1340b8a1441e948e227cce",
            "value": " 9912422/9912422 [00:00&lt;00:00, 55303738.72it/s]"
          }
        },
        "d083904e2501454f8d998f83241aaa24": {
          "model_module": "@jupyter-widgets/base",
          "model_name": "LayoutModel",
          "model_module_version": "1.2.0",
          "state": {
            "_model_module": "@jupyter-widgets/base",
            "_model_module_version": "1.2.0",
            "_model_name": "LayoutModel",
            "_view_count": null,
            "_view_module": "@jupyter-widgets/base",
            "_view_module_version": "1.2.0",
            "_view_name": "LayoutView",
            "align_content": null,
            "align_items": null,
            "align_self": null,
            "border": null,
            "bottom": null,
            "display": null,
            "flex": null,
            "flex_flow": null,
            "grid_area": null,
            "grid_auto_columns": null,
            "grid_auto_flow": null,
            "grid_auto_rows": null,
            "grid_column": null,
            "grid_gap": null,
            "grid_row": null,
            "grid_template_areas": null,
            "grid_template_columns": null,
            "grid_template_rows": null,
            "height": null,
            "justify_content": null,
            "justify_items": null,
            "left": null,
            "margin": null,
            "max_height": null,
            "max_width": null,
            "min_height": null,
            "min_width": null,
            "object_fit": null,
            "object_position": null,
            "order": null,
            "overflow": null,
            "overflow_x": null,
            "overflow_y": null,
            "padding": null,
            "right": null,
            "top": null,
            "visibility": null,
            "width": null
          }
        },
        "77c8277aade040009df24f871647fc97": {
          "model_module": "@jupyter-widgets/base",
          "model_name": "LayoutModel",
          "model_module_version": "1.2.0",
          "state": {
            "_model_module": "@jupyter-widgets/base",
            "_model_module_version": "1.2.0",
            "_model_name": "LayoutModel",
            "_view_count": null,
            "_view_module": "@jupyter-widgets/base",
            "_view_module_version": "1.2.0",
            "_view_name": "LayoutView",
            "align_content": null,
            "align_items": null,
            "align_self": null,
            "border": null,
            "bottom": null,
            "display": null,
            "flex": null,
            "flex_flow": null,
            "grid_area": null,
            "grid_auto_columns": null,
            "grid_auto_flow": null,
            "grid_auto_rows": null,
            "grid_column": null,
            "grid_gap": null,
            "grid_row": null,
            "grid_template_areas": null,
            "grid_template_columns": null,
            "grid_template_rows": null,
            "height": null,
            "justify_content": null,
            "justify_items": null,
            "left": null,
            "margin": null,
            "max_height": null,
            "max_width": null,
            "min_height": null,
            "min_width": null,
            "object_fit": null,
            "object_position": null,
            "order": null,
            "overflow": null,
            "overflow_x": null,
            "overflow_y": null,
            "padding": null,
            "right": null,
            "top": null,
            "visibility": null,
            "width": null
          }
        },
        "b6fb724a01224acf864c33064496773b": {
          "model_module": "@jupyter-widgets/controls",
          "model_name": "DescriptionStyleModel",
          "model_module_version": "1.5.0",
          "state": {
            "_model_module": "@jupyter-widgets/controls",
            "_model_module_version": "1.5.0",
            "_model_name": "DescriptionStyleModel",
            "_view_count": null,
            "_view_module": "@jupyter-widgets/base",
            "_view_module_version": "1.2.0",
            "_view_name": "StyleView",
            "description_width": ""
          }
        },
        "1603fe2eb9b44bc3854ed7dda766f2c4": {
          "model_module": "@jupyter-widgets/base",
          "model_name": "LayoutModel",
          "model_module_version": "1.2.0",
          "state": {
            "_model_module": "@jupyter-widgets/base",
            "_model_module_version": "1.2.0",
            "_model_name": "LayoutModel",
            "_view_count": null,
            "_view_module": "@jupyter-widgets/base",
            "_view_module_version": "1.2.0",
            "_view_name": "LayoutView",
            "align_content": null,
            "align_items": null,
            "align_self": null,
            "border": null,
            "bottom": null,
            "display": null,
            "flex": null,
            "flex_flow": null,
            "grid_area": null,
            "grid_auto_columns": null,
            "grid_auto_flow": null,
            "grid_auto_rows": null,
            "grid_column": null,
            "grid_gap": null,
            "grid_row": null,
            "grid_template_areas": null,
            "grid_template_columns": null,
            "grid_template_rows": null,
            "height": null,
            "justify_content": null,
            "justify_items": null,
            "left": null,
            "margin": null,
            "max_height": null,
            "max_width": null,
            "min_height": null,
            "min_width": null,
            "object_fit": null,
            "object_position": null,
            "order": null,
            "overflow": null,
            "overflow_x": null,
            "overflow_y": null,
            "padding": null,
            "right": null,
            "top": null,
            "visibility": null,
            "width": null
          }
        },
        "a577d77220d346b2b58a933fbca55f0b": {
          "model_module": "@jupyter-widgets/controls",
          "model_name": "ProgressStyleModel",
          "model_module_version": "1.5.0",
          "state": {
            "_model_module": "@jupyter-widgets/controls",
            "_model_module_version": "1.5.0",
            "_model_name": "ProgressStyleModel",
            "_view_count": null,
            "_view_module": "@jupyter-widgets/base",
            "_view_module_version": "1.2.0",
            "_view_name": "StyleView",
            "bar_color": null,
            "description_width": ""
          }
        },
        "32d66ac861064ec0963079763ddaf390": {
          "model_module": "@jupyter-widgets/base",
          "model_name": "LayoutModel",
          "model_module_version": "1.2.0",
          "state": {
            "_model_module": "@jupyter-widgets/base",
            "_model_module_version": "1.2.0",
            "_model_name": "LayoutModel",
            "_view_count": null,
            "_view_module": "@jupyter-widgets/base",
            "_view_module_version": "1.2.0",
            "_view_name": "LayoutView",
            "align_content": null,
            "align_items": null,
            "align_self": null,
            "border": null,
            "bottom": null,
            "display": null,
            "flex": null,
            "flex_flow": null,
            "grid_area": null,
            "grid_auto_columns": null,
            "grid_auto_flow": null,
            "grid_auto_rows": null,
            "grid_column": null,
            "grid_gap": null,
            "grid_row": null,
            "grid_template_areas": null,
            "grid_template_columns": null,
            "grid_template_rows": null,
            "height": null,
            "justify_content": null,
            "justify_items": null,
            "left": null,
            "margin": null,
            "max_height": null,
            "max_width": null,
            "min_height": null,
            "min_width": null,
            "object_fit": null,
            "object_position": null,
            "order": null,
            "overflow": null,
            "overflow_x": null,
            "overflow_y": null,
            "padding": null,
            "right": null,
            "top": null,
            "visibility": null,
            "width": null
          }
        },
        "f772e7ad9d1340b8a1441e948e227cce": {
          "model_module": "@jupyter-widgets/controls",
          "model_name": "DescriptionStyleModel",
          "model_module_version": "1.5.0",
          "state": {
            "_model_module": "@jupyter-widgets/controls",
            "_model_module_version": "1.5.0",
            "_model_name": "DescriptionStyleModel",
            "_view_count": null,
            "_view_module": "@jupyter-widgets/base",
            "_view_module_version": "1.2.0",
            "_view_name": "StyleView",
            "description_width": ""
          }
        },
        "48afd379d854466eb77f6e4cf5905196": {
          "model_module": "@jupyter-widgets/controls",
          "model_name": "HBoxModel",
          "model_module_version": "1.5.0",
          "state": {
            "_dom_classes": [],
            "_model_module": "@jupyter-widgets/controls",
            "_model_module_version": "1.5.0",
            "_model_name": "HBoxModel",
            "_view_count": null,
            "_view_module": "@jupyter-widgets/controls",
            "_view_module_version": "1.5.0",
            "_view_name": "HBoxView",
            "box_style": "",
            "children": [
              "IPY_MODEL_528ab9ab3bbe40de81f711f3a242e4a5",
              "IPY_MODEL_63f9e49aca2749fd88c4123501dd7b37",
              "IPY_MODEL_0eacb817fbad4eef8f6237117d751b45"
            ],
            "layout": "IPY_MODEL_10a865d5fa854b42a94477c18f32afe5"
          }
        },
        "528ab9ab3bbe40de81f711f3a242e4a5": {
          "model_module": "@jupyter-widgets/controls",
          "model_name": "HTMLModel",
          "model_module_version": "1.5.0",
          "state": {
            "_dom_classes": [],
            "_model_module": "@jupyter-widgets/controls",
            "_model_module_version": "1.5.0",
            "_model_name": "HTMLModel",
            "_view_count": null,
            "_view_module": "@jupyter-widgets/controls",
            "_view_module_version": "1.5.0",
            "_view_name": "HTMLView",
            "description": "",
            "description_tooltip": null,
            "layout": "IPY_MODEL_6ef8842ec53f4492905790773750f7de",
            "placeholder": "​",
            "style": "IPY_MODEL_27727e24098a4b03bcd4ffeb158f77bf",
            "value": "100%"
          }
        },
        "63f9e49aca2749fd88c4123501dd7b37": {
          "model_module": "@jupyter-widgets/controls",
          "model_name": "FloatProgressModel",
          "model_module_version": "1.5.0",
          "state": {
            "_dom_classes": [],
            "_model_module": "@jupyter-widgets/controls",
            "_model_module_version": "1.5.0",
            "_model_name": "FloatProgressModel",
            "_view_count": null,
            "_view_module": "@jupyter-widgets/controls",
            "_view_module_version": "1.5.0",
            "_view_name": "ProgressView",
            "bar_style": "success",
            "description": "",
            "description_tooltip": null,
            "layout": "IPY_MODEL_8168f8b9e760418fb27838c0831e1447",
            "max": 28881,
            "min": 0,
            "orientation": "horizontal",
            "style": "IPY_MODEL_97d6a5e89e244604be0bd099756ff6fb",
            "value": 28881
          }
        },
        "0eacb817fbad4eef8f6237117d751b45": {
          "model_module": "@jupyter-widgets/controls",
          "model_name": "HTMLModel",
          "model_module_version": "1.5.0",
          "state": {
            "_dom_classes": [],
            "_model_module": "@jupyter-widgets/controls",
            "_model_module_version": "1.5.0",
            "_model_name": "HTMLModel",
            "_view_count": null,
            "_view_module": "@jupyter-widgets/controls",
            "_view_module_version": "1.5.0",
            "_view_name": "HTMLView",
            "description": "",
            "description_tooltip": null,
            "layout": "IPY_MODEL_fa68b78b4a4041cd8e705981e0c2dafd",
            "placeholder": "​",
            "style": "IPY_MODEL_a78bf861cff140a899d1c79386f26ca0",
            "value": " 28881/28881 [00:00&lt;00:00, 1163468.57it/s]"
          }
        },
        "10a865d5fa854b42a94477c18f32afe5": {
          "model_module": "@jupyter-widgets/base",
          "model_name": "LayoutModel",
          "model_module_version": "1.2.0",
          "state": {
            "_model_module": "@jupyter-widgets/base",
            "_model_module_version": "1.2.0",
            "_model_name": "LayoutModel",
            "_view_count": null,
            "_view_module": "@jupyter-widgets/base",
            "_view_module_version": "1.2.0",
            "_view_name": "LayoutView",
            "align_content": null,
            "align_items": null,
            "align_self": null,
            "border": null,
            "bottom": null,
            "display": null,
            "flex": null,
            "flex_flow": null,
            "grid_area": null,
            "grid_auto_columns": null,
            "grid_auto_flow": null,
            "grid_auto_rows": null,
            "grid_column": null,
            "grid_gap": null,
            "grid_row": null,
            "grid_template_areas": null,
            "grid_template_columns": null,
            "grid_template_rows": null,
            "height": null,
            "justify_content": null,
            "justify_items": null,
            "left": null,
            "margin": null,
            "max_height": null,
            "max_width": null,
            "min_height": null,
            "min_width": null,
            "object_fit": null,
            "object_position": null,
            "order": null,
            "overflow": null,
            "overflow_x": null,
            "overflow_y": null,
            "padding": null,
            "right": null,
            "top": null,
            "visibility": null,
            "width": null
          }
        },
        "6ef8842ec53f4492905790773750f7de": {
          "model_module": "@jupyter-widgets/base",
          "model_name": "LayoutModel",
          "model_module_version": "1.2.0",
          "state": {
            "_model_module": "@jupyter-widgets/base",
            "_model_module_version": "1.2.0",
            "_model_name": "LayoutModel",
            "_view_count": null,
            "_view_module": "@jupyter-widgets/base",
            "_view_module_version": "1.2.0",
            "_view_name": "LayoutView",
            "align_content": null,
            "align_items": null,
            "align_self": null,
            "border": null,
            "bottom": null,
            "display": null,
            "flex": null,
            "flex_flow": null,
            "grid_area": null,
            "grid_auto_columns": null,
            "grid_auto_flow": null,
            "grid_auto_rows": null,
            "grid_column": null,
            "grid_gap": null,
            "grid_row": null,
            "grid_template_areas": null,
            "grid_template_columns": null,
            "grid_template_rows": null,
            "height": null,
            "justify_content": null,
            "justify_items": null,
            "left": null,
            "margin": null,
            "max_height": null,
            "max_width": null,
            "min_height": null,
            "min_width": null,
            "object_fit": null,
            "object_position": null,
            "order": null,
            "overflow": null,
            "overflow_x": null,
            "overflow_y": null,
            "padding": null,
            "right": null,
            "top": null,
            "visibility": null,
            "width": null
          }
        },
        "27727e24098a4b03bcd4ffeb158f77bf": {
          "model_module": "@jupyter-widgets/controls",
          "model_name": "DescriptionStyleModel",
          "model_module_version": "1.5.0",
          "state": {
            "_model_module": "@jupyter-widgets/controls",
            "_model_module_version": "1.5.0",
            "_model_name": "DescriptionStyleModel",
            "_view_count": null,
            "_view_module": "@jupyter-widgets/base",
            "_view_module_version": "1.2.0",
            "_view_name": "StyleView",
            "description_width": ""
          }
        },
        "8168f8b9e760418fb27838c0831e1447": {
          "model_module": "@jupyter-widgets/base",
          "model_name": "LayoutModel",
          "model_module_version": "1.2.0",
          "state": {
            "_model_module": "@jupyter-widgets/base",
            "_model_module_version": "1.2.0",
            "_model_name": "LayoutModel",
            "_view_count": null,
            "_view_module": "@jupyter-widgets/base",
            "_view_module_version": "1.2.0",
            "_view_name": "LayoutView",
            "align_content": null,
            "align_items": null,
            "align_self": null,
            "border": null,
            "bottom": null,
            "display": null,
            "flex": null,
            "flex_flow": null,
            "grid_area": null,
            "grid_auto_columns": null,
            "grid_auto_flow": null,
            "grid_auto_rows": null,
            "grid_column": null,
            "grid_gap": null,
            "grid_row": null,
            "grid_template_areas": null,
            "grid_template_columns": null,
            "grid_template_rows": null,
            "height": null,
            "justify_content": null,
            "justify_items": null,
            "left": null,
            "margin": null,
            "max_height": null,
            "max_width": null,
            "min_height": null,
            "min_width": null,
            "object_fit": null,
            "object_position": null,
            "order": null,
            "overflow": null,
            "overflow_x": null,
            "overflow_y": null,
            "padding": null,
            "right": null,
            "top": null,
            "visibility": null,
            "width": null
          }
        },
        "97d6a5e89e244604be0bd099756ff6fb": {
          "model_module": "@jupyter-widgets/controls",
          "model_name": "ProgressStyleModel",
          "model_module_version": "1.5.0",
          "state": {
            "_model_module": "@jupyter-widgets/controls",
            "_model_module_version": "1.5.0",
            "_model_name": "ProgressStyleModel",
            "_view_count": null,
            "_view_module": "@jupyter-widgets/base",
            "_view_module_version": "1.2.0",
            "_view_name": "StyleView",
            "bar_color": null,
            "description_width": ""
          }
        },
        "fa68b78b4a4041cd8e705981e0c2dafd": {
          "model_module": "@jupyter-widgets/base",
          "model_name": "LayoutModel",
          "model_module_version": "1.2.0",
          "state": {
            "_model_module": "@jupyter-widgets/base",
            "_model_module_version": "1.2.0",
            "_model_name": "LayoutModel",
            "_view_count": null,
            "_view_module": "@jupyter-widgets/base",
            "_view_module_version": "1.2.0",
            "_view_name": "LayoutView",
            "align_content": null,
            "align_items": null,
            "align_self": null,
            "border": null,
            "bottom": null,
            "display": null,
            "flex": null,
            "flex_flow": null,
            "grid_area": null,
            "grid_auto_columns": null,
            "grid_auto_flow": null,
            "grid_auto_rows": null,
            "grid_column": null,
            "grid_gap": null,
            "grid_row": null,
            "grid_template_areas": null,
            "grid_template_columns": null,
            "grid_template_rows": null,
            "height": null,
            "justify_content": null,
            "justify_items": null,
            "left": null,
            "margin": null,
            "max_height": null,
            "max_width": null,
            "min_height": null,
            "min_width": null,
            "object_fit": null,
            "object_position": null,
            "order": null,
            "overflow": null,
            "overflow_x": null,
            "overflow_y": null,
            "padding": null,
            "right": null,
            "top": null,
            "visibility": null,
            "width": null
          }
        },
        "a78bf861cff140a899d1c79386f26ca0": {
          "model_module": "@jupyter-widgets/controls",
          "model_name": "DescriptionStyleModel",
          "model_module_version": "1.5.0",
          "state": {
            "_model_module": "@jupyter-widgets/controls",
            "_model_module_version": "1.5.0",
            "_model_name": "DescriptionStyleModel",
            "_view_count": null,
            "_view_module": "@jupyter-widgets/base",
            "_view_module_version": "1.2.0",
            "_view_name": "StyleView",
            "description_width": ""
          }
        },
        "a504c5a709074111bf91c9ddf5cbf660": {
          "model_module": "@jupyter-widgets/controls",
          "model_name": "HBoxModel",
          "model_module_version": "1.5.0",
          "state": {
            "_dom_classes": [],
            "_model_module": "@jupyter-widgets/controls",
            "_model_module_version": "1.5.0",
            "_model_name": "HBoxModel",
            "_view_count": null,
            "_view_module": "@jupyter-widgets/controls",
            "_view_module_version": "1.5.0",
            "_view_name": "HBoxView",
            "box_style": "",
            "children": [
              "IPY_MODEL_7c90b216f13a4b958114b3ac688f34fa",
              "IPY_MODEL_3014771e8bc746d495134bc2cd24a0df",
              "IPY_MODEL_f14ca87f824c4ecba02c84ee93ee5c7d"
            ],
            "layout": "IPY_MODEL_a31f879b09964019bf4849c7aded9d0f"
          }
        },
        "7c90b216f13a4b958114b3ac688f34fa": {
          "model_module": "@jupyter-widgets/controls",
          "model_name": "HTMLModel",
          "model_module_version": "1.5.0",
          "state": {
            "_dom_classes": [],
            "_model_module": "@jupyter-widgets/controls",
            "_model_module_version": "1.5.0",
            "_model_name": "HTMLModel",
            "_view_count": null,
            "_view_module": "@jupyter-widgets/controls",
            "_view_module_version": "1.5.0",
            "_view_name": "HTMLView",
            "description": "",
            "description_tooltip": null,
            "layout": "IPY_MODEL_711d5a38d3604fecbb4c650f4ade8a68",
            "placeholder": "​",
            "style": "IPY_MODEL_2472a3fb4fb64079bd19708b171cd27a",
            "value": "100%"
          }
        },
        "3014771e8bc746d495134bc2cd24a0df": {
          "model_module": "@jupyter-widgets/controls",
          "model_name": "FloatProgressModel",
          "model_module_version": "1.5.0",
          "state": {
            "_dom_classes": [],
            "_model_module": "@jupyter-widgets/controls",
            "_model_module_version": "1.5.0",
            "_model_name": "FloatProgressModel",
            "_view_count": null,
            "_view_module": "@jupyter-widgets/controls",
            "_view_module_version": "1.5.0",
            "_view_name": "ProgressView",
            "bar_style": "success",
            "description": "",
            "description_tooltip": null,
            "layout": "IPY_MODEL_1a130ca30cc2415b8d4830c07eb3c333",
            "max": 1648877,
            "min": 0,
            "orientation": "horizontal",
            "style": "IPY_MODEL_1b714bae578940a2aacb452811457d38",
            "value": 1648877
          }
        },
        "f14ca87f824c4ecba02c84ee93ee5c7d": {
          "model_module": "@jupyter-widgets/controls",
          "model_name": "HTMLModel",
          "model_module_version": "1.5.0",
          "state": {
            "_dom_classes": [],
            "_model_module": "@jupyter-widgets/controls",
            "_model_module_version": "1.5.0",
            "_model_name": "HTMLModel",
            "_view_count": null,
            "_view_module": "@jupyter-widgets/controls",
            "_view_module_version": "1.5.0",
            "_view_name": "HTMLView",
            "description": "",
            "description_tooltip": null,
            "layout": "IPY_MODEL_71d4da7cf3ff460fb5acd56cb066bc18",
            "placeholder": "​",
            "style": "IPY_MODEL_916bf4a3cd7e4a16a3b4e87bc6fa2f55",
            "value": " 1648877/1648877 [00:00&lt;00:00, 21772323.27it/s]"
          }
        },
        "a31f879b09964019bf4849c7aded9d0f": {
          "model_module": "@jupyter-widgets/base",
          "model_name": "LayoutModel",
          "model_module_version": "1.2.0",
          "state": {
            "_model_module": "@jupyter-widgets/base",
            "_model_module_version": "1.2.0",
            "_model_name": "LayoutModel",
            "_view_count": null,
            "_view_module": "@jupyter-widgets/base",
            "_view_module_version": "1.2.0",
            "_view_name": "LayoutView",
            "align_content": null,
            "align_items": null,
            "align_self": null,
            "border": null,
            "bottom": null,
            "display": null,
            "flex": null,
            "flex_flow": null,
            "grid_area": null,
            "grid_auto_columns": null,
            "grid_auto_flow": null,
            "grid_auto_rows": null,
            "grid_column": null,
            "grid_gap": null,
            "grid_row": null,
            "grid_template_areas": null,
            "grid_template_columns": null,
            "grid_template_rows": null,
            "height": null,
            "justify_content": null,
            "justify_items": null,
            "left": null,
            "margin": null,
            "max_height": null,
            "max_width": null,
            "min_height": null,
            "min_width": null,
            "object_fit": null,
            "object_position": null,
            "order": null,
            "overflow": null,
            "overflow_x": null,
            "overflow_y": null,
            "padding": null,
            "right": null,
            "top": null,
            "visibility": null,
            "width": null
          }
        },
        "711d5a38d3604fecbb4c650f4ade8a68": {
          "model_module": "@jupyter-widgets/base",
          "model_name": "LayoutModel",
          "model_module_version": "1.2.0",
          "state": {
            "_model_module": "@jupyter-widgets/base",
            "_model_module_version": "1.2.0",
            "_model_name": "LayoutModel",
            "_view_count": null,
            "_view_module": "@jupyter-widgets/base",
            "_view_module_version": "1.2.0",
            "_view_name": "LayoutView",
            "align_content": null,
            "align_items": null,
            "align_self": null,
            "border": null,
            "bottom": null,
            "display": null,
            "flex": null,
            "flex_flow": null,
            "grid_area": null,
            "grid_auto_columns": null,
            "grid_auto_flow": null,
            "grid_auto_rows": null,
            "grid_column": null,
            "grid_gap": null,
            "grid_row": null,
            "grid_template_areas": null,
            "grid_template_columns": null,
            "grid_template_rows": null,
            "height": null,
            "justify_content": null,
            "justify_items": null,
            "left": null,
            "margin": null,
            "max_height": null,
            "max_width": null,
            "min_height": null,
            "min_width": null,
            "object_fit": null,
            "object_position": null,
            "order": null,
            "overflow": null,
            "overflow_x": null,
            "overflow_y": null,
            "padding": null,
            "right": null,
            "top": null,
            "visibility": null,
            "width": null
          }
        },
        "2472a3fb4fb64079bd19708b171cd27a": {
          "model_module": "@jupyter-widgets/controls",
          "model_name": "DescriptionStyleModel",
          "model_module_version": "1.5.0",
          "state": {
            "_model_module": "@jupyter-widgets/controls",
            "_model_module_version": "1.5.0",
            "_model_name": "DescriptionStyleModel",
            "_view_count": null,
            "_view_module": "@jupyter-widgets/base",
            "_view_module_version": "1.2.0",
            "_view_name": "StyleView",
            "description_width": ""
          }
        },
        "1a130ca30cc2415b8d4830c07eb3c333": {
          "model_module": "@jupyter-widgets/base",
          "model_name": "LayoutModel",
          "model_module_version": "1.2.0",
          "state": {
            "_model_module": "@jupyter-widgets/base",
            "_model_module_version": "1.2.0",
            "_model_name": "LayoutModel",
            "_view_count": null,
            "_view_module": "@jupyter-widgets/base",
            "_view_module_version": "1.2.0",
            "_view_name": "LayoutView",
            "align_content": null,
            "align_items": null,
            "align_self": null,
            "border": null,
            "bottom": null,
            "display": null,
            "flex": null,
            "flex_flow": null,
            "grid_area": null,
            "grid_auto_columns": null,
            "grid_auto_flow": null,
            "grid_auto_rows": null,
            "grid_column": null,
            "grid_gap": null,
            "grid_row": null,
            "grid_template_areas": null,
            "grid_template_columns": null,
            "grid_template_rows": null,
            "height": null,
            "justify_content": null,
            "justify_items": null,
            "left": null,
            "margin": null,
            "max_height": null,
            "max_width": null,
            "min_height": null,
            "min_width": null,
            "object_fit": null,
            "object_position": null,
            "order": null,
            "overflow": null,
            "overflow_x": null,
            "overflow_y": null,
            "padding": null,
            "right": null,
            "top": null,
            "visibility": null,
            "width": null
          }
        },
        "1b714bae578940a2aacb452811457d38": {
          "model_module": "@jupyter-widgets/controls",
          "model_name": "ProgressStyleModel",
          "model_module_version": "1.5.0",
          "state": {
            "_model_module": "@jupyter-widgets/controls",
            "_model_module_version": "1.5.0",
            "_model_name": "ProgressStyleModel",
            "_view_count": null,
            "_view_module": "@jupyter-widgets/base",
            "_view_module_version": "1.2.0",
            "_view_name": "StyleView",
            "bar_color": null,
            "description_width": ""
          }
        },
        "71d4da7cf3ff460fb5acd56cb066bc18": {
          "model_module": "@jupyter-widgets/base",
          "model_name": "LayoutModel",
          "model_module_version": "1.2.0",
          "state": {
            "_model_module": "@jupyter-widgets/base",
            "_model_module_version": "1.2.0",
            "_model_name": "LayoutModel",
            "_view_count": null,
            "_view_module": "@jupyter-widgets/base",
            "_view_module_version": "1.2.0",
            "_view_name": "LayoutView",
            "align_content": null,
            "align_items": null,
            "align_self": null,
            "border": null,
            "bottom": null,
            "display": null,
            "flex": null,
            "flex_flow": null,
            "grid_area": null,
            "grid_auto_columns": null,
            "grid_auto_flow": null,
            "grid_auto_rows": null,
            "grid_column": null,
            "grid_gap": null,
            "grid_row": null,
            "grid_template_areas": null,
            "grid_template_columns": null,
            "grid_template_rows": null,
            "height": null,
            "justify_content": null,
            "justify_items": null,
            "left": null,
            "margin": null,
            "max_height": null,
            "max_width": null,
            "min_height": null,
            "min_width": null,
            "object_fit": null,
            "object_position": null,
            "order": null,
            "overflow": null,
            "overflow_x": null,
            "overflow_y": null,
            "padding": null,
            "right": null,
            "top": null,
            "visibility": null,
            "width": null
          }
        },
        "916bf4a3cd7e4a16a3b4e87bc6fa2f55": {
          "model_module": "@jupyter-widgets/controls",
          "model_name": "DescriptionStyleModel",
          "model_module_version": "1.5.0",
          "state": {
            "_model_module": "@jupyter-widgets/controls",
            "_model_module_version": "1.5.0",
            "_model_name": "DescriptionStyleModel",
            "_view_count": null,
            "_view_module": "@jupyter-widgets/base",
            "_view_module_version": "1.2.0",
            "_view_name": "StyleView",
            "description_width": ""
          }
        },
        "02852de489294ea0a6ba096b4930f8b4": {
          "model_module": "@jupyter-widgets/controls",
          "model_name": "HBoxModel",
          "model_module_version": "1.5.0",
          "state": {
            "_dom_classes": [],
            "_model_module": "@jupyter-widgets/controls",
            "_model_module_version": "1.5.0",
            "_model_name": "HBoxModel",
            "_view_count": null,
            "_view_module": "@jupyter-widgets/controls",
            "_view_module_version": "1.5.0",
            "_view_name": "HBoxView",
            "box_style": "",
            "children": [
              "IPY_MODEL_0f0ef8ccdb4940baa537d20349d1aa5c",
              "IPY_MODEL_1f4adca219dd44539065706d872f6b9b",
              "IPY_MODEL_d64d1d6416a3475aa8c046dd452830b1"
            ],
            "layout": "IPY_MODEL_11012d2c096b49269e2c196556667d2f"
          }
        },
        "0f0ef8ccdb4940baa537d20349d1aa5c": {
          "model_module": "@jupyter-widgets/controls",
          "model_name": "HTMLModel",
          "model_module_version": "1.5.0",
          "state": {
            "_dom_classes": [],
            "_model_module": "@jupyter-widgets/controls",
            "_model_module_version": "1.5.0",
            "_model_name": "HTMLModel",
            "_view_count": null,
            "_view_module": "@jupyter-widgets/controls",
            "_view_module_version": "1.5.0",
            "_view_name": "HTMLView",
            "description": "",
            "description_tooltip": null,
            "layout": "IPY_MODEL_d8f42792cf1a47e4950522a31935d0b4",
            "placeholder": "​",
            "style": "IPY_MODEL_debfc5ee04cd41afa2e374ec09961df1",
            "value": "100%"
          }
        },
        "1f4adca219dd44539065706d872f6b9b": {
          "model_module": "@jupyter-widgets/controls",
          "model_name": "FloatProgressModel",
          "model_module_version": "1.5.0",
          "state": {
            "_dom_classes": [],
            "_model_module": "@jupyter-widgets/controls",
            "_model_module_version": "1.5.0",
            "_model_name": "FloatProgressModel",
            "_view_count": null,
            "_view_module": "@jupyter-widgets/controls",
            "_view_module_version": "1.5.0",
            "_view_name": "ProgressView",
            "bar_style": "success",
            "description": "",
            "description_tooltip": null,
            "layout": "IPY_MODEL_0297be3f257a4c788b671233cd31ab64",
            "max": 4542,
            "min": 0,
            "orientation": "horizontal",
            "style": "IPY_MODEL_9af08ceb302840188dd33a1038d4e926",
            "value": 4542
          }
        },
        "d64d1d6416a3475aa8c046dd452830b1": {
          "model_module": "@jupyter-widgets/controls",
          "model_name": "HTMLModel",
          "model_module_version": "1.5.0",
          "state": {
            "_dom_classes": [],
            "_model_module": "@jupyter-widgets/controls",
            "_model_module_version": "1.5.0",
            "_model_name": "HTMLModel",
            "_view_count": null,
            "_view_module": "@jupyter-widgets/controls",
            "_view_module_version": "1.5.0",
            "_view_name": "HTMLView",
            "description": "",
            "description_tooltip": null,
            "layout": "IPY_MODEL_bd8c7ea45b8d49d8b2ea7617422849a6",
            "placeholder": "​",
            "style": "IPY_MODEL_f893849930344c028f5cf6d6e0458bd7",
            "value": " 4542/4542 [00:00&lt;00:00, 174324.49it/s]"
          }
        },
        "11012d2c096b49269e2c196556667d2f": {
          "model_module": "@jupyter-widgets/base",
          "model_name": "LayoutModel",
          "model_module_version": "1.2.0",
          "state": {
            "_model_module": "@jupyter-widgets/base",
            "_model_module_version": "1.2.0",
            "_model_name": "LayoutModel",
            "_view_count": null,
            "_view_module": "@jupyter-widgets/base",
            "_view_module_version": "1.2.0",
            "_view_name": "LayoutView",
            "align_content": null,
            "align_items": null,
            "align_self": null,
            "border": null,
            "bottom": null,
            "display": null,
            "flex": null,
            "flex_flow": null,
            "grid_area": null,
            "grid_auto_columns": null,
            "grid_auto_flow": null,
            "grid_auto_rows": null,
            "grid_column": null,
            "grid_gap": null,
            "grid_row": null,
            "grid_template_areas": null,
            "grid_template_columns": null,
            "grid_template_rows": null,
            "height": null,
            "justify_content": null,
            "justify_items": null,
            "left": null,
            "margin": null,
            "max_height": null,
            "max_width": null,
            "min_height": null,
            "min_width": null,
            "object_fit": null,
            "object_position": null,
            "order": null,
            "overflow": null,
            "overflow_x": null,
            "overflow_y": null,
            "padding": null,
            "right": null,
            "top": null,
            "visibility": null,
            "width": null
          }
        },
        "d8f42792cf1a47e4950522a31935d0b4": {
          "model_module": "@jupyter-widgets/base",
          "model_name": "LayoutModel",
          "model_module_version": "1.2.0",
          "state": {
            "_model_module": "@jupyter-widgets/base",
            "_model_module_version": "1.2.0",
            "_model_name": "LayoutModel",
            "_view_count": null,
            "_view_module": "@jupyter-widgets/base",
            "_view_module_version": "1.2.0",
            "_view_name": "LayoutView",
            "align_content": null,
            "align_items": null,
            "align_self": null,
            "border": null,
            "bottom": null,
            "display": null,
            "flex": null,
            "flex_flow": null,
            "grid_area": null,
            "grid_auto_columns": null,
            "grid_auto_flow": null,
            "grid_auto_rows": null,
            "grid_column": null,
            "grid_gap": null,
            "grid_row": null,
            "grid_template_areas": null,
            "grid_template_columns": null,
            "grid_template_rows": null,
            "height": null,
            "justify_content": null,
            "justify_items": null,
            "left": null,
            "margin": null,
            "max_height": null,
            "max_width": null,
            "min_height": null,
            "min_width": null,
            "object_fit": null,
            "object_position": null,
            "order": null,
            "overflow": null,
            "overflow_x": null,
            "overflow_y": null,
            "padding": null,
            "right": null,
            "top": null,
            "visibility": null,
            "width": null
          }
        },
        "debfc5ee04cd41afa2e374ec09961df1": {
          "model_module": "@jupyter-widgets/controls",
          "model_name": "DescriptionStyleModel",
          "model_module_version": "1.5.0",
          "state": {
            "_model_module": "@jupyter-widgets/controls",
            "_model_module_version": "1.5.0",
            "_model_name": "DescriptionStyleModel",
            "_view_count": null,
            "_view_module": "@jupyter-widgets/base",
            "_view_module_version": "1.2.0",
            "_view_name": "StyleView",
            "description_width": ""
          }
        },
        "0297be3f257a4c788b671233cd31ab64": {
          "model_module": "@jupyter-widgets/base",
          "model_name": "LayoutModel",
          "model_module_version": "1.2.0",
          "state": {
            "_model_module": "@jupyter-widgets/base",
            "_model_module_version": "1.2.0",
            "_model_name": "LayoutModel",
            "_view_count": null,
            "_view_module": "@jupyter-widgets/base",
            "_view_module_version": "1.2.0",
            "_view_name": "LayoutView",
            "align_content": null,
            "align_items": null,
            "align_self": null,
            "border": null,
            "bottom": null,
            "display": null,
            "flex": null,
            "flex_flow": null,
            "grid_area": null,
            "grid_auto_columns": null,
            "grid_auto_flow": null,
            "grid_auto_rows": null,
            "grid_column": null,
            "grid_gap": null,
            "grid_row": null,
            "grid_template_areas": null,
            "grid_template_columns": null,
            "grid_template_rows": null,
            "height": null,
            "justify_content": null,
            "justify_items": null,
            "left": null,
            "margin": null,
            "max_height": null,
            "max_width": null,
            "min_height": null,
            "min_width": null,
            "object_fit": null,
            "object_position": null,
            "order": null,
            "overflow": null,
            "overflow_x": null,
            "overflow_y": null,
            "padding": null,
            "right": null,
            "top": null,
            "visibility": null,
            "width": null
          }
        },
        "9af08ceb302840188dd33a1038d4e926": {
          "model_module": "@jupyter-widgets/controls",
          "model_name": "ProgressStyleModel",
          "model_module_version": "1.5.0",
          "state": {
            "_model_module": "@jupyter-widgets/controls",
            "_model_module_version": "1.5.0",
            "_model_name": "ProgressStyleModel",
            "_view_count": null,
            "_view_module": "@jupyter-widgets/base",
            "_view_module_version": "1.2.0",
            "_view_name": "StyleView",
            "bar_color": null,
            "description_width": ""
          }
        },
        "bd8c7ea45b8d49d8b2ea7617422849a6": {
          "model_module": "@jupyter-widgets/base",
          "model_name": "LayoutModel",
          "model_module_version": "1.2.0",
          "state": {
            "_model_module": "@jupyter-widgets/base",
            "_model_module_version": "1.2.0",
            "_model_name": "LayoutModel",
            "_view_count": null,
            "_view_module": "@jupyter-widgets/base",
            "_view_module_version": "1.2.0",
            "_view_name": "LayoutView",
            "align_content": null,
            "align_items": null,
            "align_self": null,
            "border": null,
            "bottom": null,
            "display": null,
            "flex": null,
            "flex_flow": null,
            "grid_area": null,
            "grid_auto_columns": null,
            "grid_auto_flow": null,
            "grid_auto_rows": null,
            "grid_column": null,
            "grid_gap": null,
            "grid_row": null,
            "grid_template_areas": null,
            "grid_template_columns": null,
            "grid_template_rows": null,
            "height": null,
            "justify_content": null,
            "justify_items": null,
            "left": null,
            "margin": null,
            "max_height": null,
            "max_width": null,
            "min_height": null,
            "min_width": null,
            "object_fit": null,
            "object_position": null,
            "order": null,
            "overflow": null,
            "overflow_x": null,
            "overflow_y": null,
            "padding": null,
            "right": null,
            "top": null,
            "visibility": null,
            "width": null
          }
        },
        "f893849930344c028f5cf6d6e0458bd7": {
          "model_module": "@jupyter-widgets/controls",
          "model_name": "DescriptionStyleModel",
          "model_module_version": "1.5.0",
          "state": {
            "_model_module": "@jupyter-widgets/controls",
            "_model_module_version": "1.5.0",
            "_model_name": "DescriptionStyleModel",
            "_view_count": null,
            "_view_module": "@jupyter-widgets/base",
            "_view_module_version": "1.2.0",
            "_view_name": "StyleView",
            "description_width": ""
          }
        },
        "d2535a48d7bb48b4b34be4e2b8012be5": {
          "model_module": "@jupyter-widgets/controls",
          "model_name": "HBoxModel",
          "model_module_version": "1.5.0",
          "state": {
            "_dom_classes": [],
            "_model_module": "@jupyter-widgets/controls",
            "_model_module_version": "1.5.0",
            "_model_name": "HBoxModel",
            "_view_count": null,
            "_view_module": "@jupyter-widgets/controls",
            "_view_module_version": "1.5.0",
            "_view_name": "HBoxView",
            "box_style": "",
            "children": [
              "IPY_MODEL_93ecda2768814853ad896ed065f52620",
              "IPY_MODEL_21f6b72b962e4be98b01635619b01e8a",
              "IPY_MODEL_7047bc88cf7947f190d332147a39e438"
            ],
            "layout": "IPY_MODEL_e9604b39dab14f7680985545f40ea0b8"
          }
        },
        "93ecda2768814853ad896ed065f52620": {
          "model_module": "@jupyter-widgets/controls",
          "model_name": "HTMLModel",
          "model_module_version": "1.5.0",
          "state": {
            "_dom_classes": [],
            "_model_module": "@jupyter-widgets/controls",
            "_model_module_version": "1.5.0",
            "_model_name": "HTMLModel",
            "_view_count": null,
            "_view_module": "@jupyter-widgets/controls",
            "_view_module_version": "1.5.0",
            "_view_name": "HTMLView",
            "description": "",
            "description_tooltip": null,
            "layout": "IPY_MODEL_392b04c818aa41028decf2e842308d76",
            "placeholder": "​",
            "style": "IPY_MODEL_4f53a9defb9c49a29b7b03afeec01ec6",
            "value": "100%"
          }
        },
        "21f6b72b962e4be98b01635619b01e8a": {
          "model_module": "@jupyter-widgets/controls",
          "model_name": "FloatProgressModel",
          "model_module_version": "1.5.0",
          "state": {
            "_dom_classes": [],
            "_model_module": "@jupyter-widgets/controls",
            "_model_module_version": "1.5.0",
            "_model_name": "FloatProgressModel",
            "_view_count": null,
            "_view_module": "@jupyter-widgets/controls",
            "_view_module_version": "1.5.0",
            "_view_name": "ProgressView",
            "bar_style": "success",
            "description": "",
            "description_tooltip": null,
            "layout": "IPY_MODEL_07551da924414cc4bb4da3e57239fe69",
            "max": 26421880,
            "min": 0,
            "orientation": "horizontal",
            "style": "IPY_MODEL_b16db412e020448bb72045786b67147f",
            "value": 26421880
          }
        },
        "7047bc88cf7947f190d332147a39e438": {
          "model_module": "@jupyter-widgets/controls",
          "model_name": "HTMLModel",
          "model_module_version": "1.5.0",
          "state": {
            "_dom_classes": [],
            "_model_module": "@jupyter-widgets/controls",
            "_model_module_version": "1.5.0",
            "_model_name": "HTMLModel",
            "_view_count": null,
            "_view_module": "@jupyter-widgets/controls",
            "_view_module_version": "1.5.0",
            "_view_name": "HTMLView",
            "description": "",
            "description_tooltip": null,
            "layout": "IPY_MODEL_5296b821c0ce423c9cb890ae5b615896",
            "placeholder": "​",
            "style": "IPY_MODEL_8c51e5d95e98468092d44588da557576",
            "value": " 26421880/26421880 [00:01&lt;00:00, 27203994.65it/s]"
          }
        },
        "e9604b39dab14f7680985545f40ea0b8": {
          "model_module": "@jupyter-widgets/base",
          "model_name": "LayoutModel",
          "model_module_version": "1.2.0",
          "state": {
            "_model_module": "@jupyter-widgets/base",
            "_model_module_version": "1.2.0",
            "_model_name": "LayoutModel",
            "_view_count": null,
            "_view_module": "@jupyter-widgets/base",
            "_view_module_version": "1.2.0",
            "_view_name": "LayoutView",
            "align_content": null,
            "align_items": null,
            "align_self": null,
            "border": null,
            "bottom": null,
            "display": null,
            "flex": null,
            "flex_flow": null,
            "grid_area": null,
            "grid_auto_columns": null,
            "grid_auto_flow": null,
            "grid_auto_rows": null,
            "grid_column": null,
            "grid_gap": null,
            "grid_row": null,
            "grid_template_areas": null,
            "grid_template_columns": null,
            "grid_template_rows": null,
            "height": null,
            "justify_content": null,
            "justify_items": null,
            "left": null,
            "margin": null,
            "max_height": null,
            "max_width": null,
            "min_height": null,
            "min_width": null,
            "object_fit": null,
            "object_position": null,
            "order": null,
            "overflow": null,
            "overflow_x": null,
            "overflow_y": null,
            "padding": null,
            "right": null,
            "top": null,
            "visibility": null,
            "width": null
          }
        },
        "392b04c818aa41028decf2e842308d76": {
          "model_module": "@jupyter-widgets/base",
          "model_name": "LayoutModel",
          "model_module_version": "1.2.0",
          "state": {
            "_model_module": "@jupyter-widgets/base",
            "_model_module_version": "1.2.0",
            "_model_name": "LayoutModel",
            "_view_count": null,
            "_view_module": "@jupyter-widgets/base",
            "_view_module_version": "1.2.0",
            "_view_name": "LayoutView",
            "align_content": null,
            "align_items": null,
            "align_self": null,
            "border": null,
            "bottom": null,
            "display": null,
            "flex": null,
            "flex_flow": null,
            "grid_area": null,
            "grid_auto_columns": null,
            "grid_auto_flow": null,
            "grid_auto_rows": null,
            "grid_column": null,
            "grid_gap": null,
            "grid_row": null,
            "grid_template_areas": null,
            "grid_template_columns": null,
            "grid_template_rows": null,
            "height": null,
            "justify_content": null,
            "justify_items": null,
            "left": null,
            "margin": null,
            "max_height": null,
            "max_width": null,
            "min_height": null,
            "min_width": null,
            "object_fit": null,
            "object_position": null,
            "order": null,
            "overflow": null,
            "overflow_x": null,
            "overflow_y": null,
            "padding": null,
            "right": null,
            "top": null,
            "visibility": null,
            "width": null
          }
        },
        "4f53a9defb9c49a29b7b03afeec01ec6": {
          "model_module": "@jupyter-widgets/controls",
          "model_name": "DescriptionStyleModel",
          "model_module_version": "1.5.0",
          "state": {
            "_model_module": "@jupyter-widgets/controls",
            "_model_module_version": "1.5.0",
            "_model_name": "DescriptionStyleModel",
            "_view_count": null,
            "_view_module": "@jupyter-widgets/base",
            "_view_module_version": "1.2.0",
            "_view_name": "StyleView",
            "description_width": ""
          }
        },
        "07551da924414cc4bb4da3e57239fe69": {
          "model_module": "@jupyter-widgets/base",
          "model_name": "LayoutModel",
          "model_module_version": "1.2.0",
          "state": {
            "_model_module": "@jupyter-widgets/base",
            "_model_module_version": "1.2.0",
            "_model_name": "LayoutModel",
            "_view_count": null,
            "_view_module": "@jupyter-widgets/base",
            "_view_module_version": "1.2.0",
            "_view_name": "LayoutView",
            "align_content": null,
            "align_items": null,
            "align_self": null,
            "border": null,
            "bottom": null,
            "display": null,
            "flex": null,
            "flex_flow": null,
            "grid_area": null,
            "grid_auto_columns": null,
            "grid_auto_flow": null,
            "grid_auto_rows": null,
            "grid_column": null,
            "grid_gap": null,
            "grid_row": null,
            "grid_template_areas": null,
            "grid_template_columns": null,
            "grid_template_rows": null,
            "height": null,
            "justify_content": null,
            "justify_items": null,
            "left": null,
            "margin": null,
            "max_height": null,
            "max_width": null,
            "min_height": null,
            "min_width": null,
            "object_fit": null,
            "object_position": null,
            "order": null,
            "overflow": null,
            "overflow_x": null,
            "overflow_y": null,
            "padding": null,
            "right": null,
            "top": null,
            "visibility": null,
            "width": null
          }
        },
        "b16db412e020448bb72045786b67147f": {
          "model_module": "@jupyter-widgets/controls",
          "model_name": "ProgressStyleModel",
          "model_module_version": "1.5.0",
          "state": {
            "_model_module": "@jupyter-widgets/controls",
            "_model_module_version": "1.5.0",
            "_model_name": "ProgressStyleModel",
            "_view_count": null,
            "_view_module": "@jupyter-widgets/base",
            "_view_module_version": "1.2.0",
            "_view_name": "StyleView",
            "bar_color": null,
            "description_width": ""
          }
        },
        "5296b821c0ce423c9cb890ae5b615896": {
          "model_module": "@jupyter-widgets/base",
          "model_name": "LayoutModel",
          "model_module_version": "1.2.0",
          "state": {
            "_model_module": "@jupyter-widgets/base",
            "_model_module_version": "1.2.0",
            "_model_name": "LayoutModel",
            "_view_count": null,
            "_view_module": "@jupyter-widgets/base",
            "_view_module_version": "1.2.0",
            "_view_name": "LayoutView",
            "align_content": null,
            "align_items": null,
            "align_self": null,
            "border": null,
            "bottom": null,
            "display": null,
            "flex": null,
            "flex_flow": null,
            "grid_area": null,
            "grid_auto_columns": null,
            "grid_auto_flow": null,
            "grid_auto_rows": null,
            "grid_column": null,
            "grid_gap": null,
            "grid_row": null,
            "grid_template_areas": null,
            "grid_template_columns": null,
            "grid_template_rows": null,
            "height": null,
            "justify_content": null,
            "justify_items": null,
            "left": null,
            "margin": null,
            "max_height": null,
            "max_width": null,
            "min_height": null,
            "min_width": null,
            "object_fit": null,
            "object_position": null,
            "order": null,
            "overflow": null,
            "overflow_x": null,
            "overflow_y": null,
            "padding": null,
            "right": null,
            "top": null,
            "visibility": null,
            "width": null
          }
        },
        "8c51e5d95e98468092d44588da557576": {
          "model_module": "@jupyter-widgets/controls",
          "model_name": "DescriptionStyleModel",
          "model_module_version": "1.5.0",
          "state": {
            "_model_module": "@jupyter-widgets/controls",
            "_model_module_version": "1.5.0",
            "_model_name": "DescriptionStyleModel",
            "_view_count": null,
            "_view_module": "@jupyter-widgets/base",
            "_view_module_version": "1.2.0",
            "_view_name": "StyleView",
            "description_width": ""
          }
        },
        "8656845d869b487ba56954a54f557263": {
          "model_module": "@jupyter-widgets/controls",
          "model_name": "HBoxModel",
          "model_module_version": "1.5.0",
          "state": {
            "_dom_classes": [],
            "_model_module": "@jupyter-widgets/controls",
            "_model_module_version": "1.5.0",
            "_model_name": "HBoxModel",
            "_view_count": null,
            "_view_module": "@jupyter-widgets/controls",
            "_view_module_version": "1.5.0",
            "_view_name": "HBoxView",
            "box_style": "",
            "children": [
              "IPY_MODEL_9fb2368723b84281a61b38d1a068ef27",
              "IPY_MODEL_f7266f00b1a645928c28dfb4eaced13b",
              "IPY_MODEL_89eb37c8be2d46d3933b1e3db7bf3e4f"
            ],
            "layout": "IPY_MODEL_be8a0bb27285475a85d826b1844d99c0"
          }
        },
        "9fb2368723b84281a61b38d1a068ef27": {
          "model_module": "@jupyter-widgets/controls",
          "model_name": "HTMLModel",
          "model_module_version": "1.5.0",
          "state": {
            "_dom_classes": [],
            "_model_module": "@jupyter-widgets/controls",
            "_model_module_version": "1.5.0",
            "_model_name": "HTMLModel",
            "_view_count": null,
            "_view_module": "@jupyter-widgets/controls",
            "_view_module_version": "1.5.0",
            "_view_name": "HTMLView",
            "description": "",
            "description_tooltip": null,
            "layout": "IPY_MODEL_9a77e86eb8f3429f9f535ccc15cf2969",
            "placeholder": "​",
            "style": "IPY_MODEL_40f221573d8b4885bdc6514b37c6bc9d",
            "value": "100%"
          }
        },
        "f7266f00b1a645928c28dfb4eaced13b": {
          "model_module": "@jupyter-widgets/controls",
          "model_name": "FloatProgressModel",
          "model_module_version": "1.5.0",
          "state": {
            "_dom_classes": [],
            "_model_module": "@jupyter-widgets/controls",
            "_model_module_version": "1.5.0",
            "_model_name": "FloatProgressModel",
            "_view_count": null,
            "_view_module": "@jupyter-widgets/controls",
            "_view_module_version": "1.5.0",
            "_view_name": "ProgressView",
            "bar_style": "success",
            "description": "",
            "description_tooltip": null,
            "layout": "IPY_MODEL_bd007461c9434f8495644d549a98b429",
            "max": 29515,
            "min": 0,
            "orientation": "horizontal",
            "style": "IPY_MODEL_75de9f1b15674a7cb0e7a38efcd2f5f2",
            "value": 29515
          }
        },
        "89eb37c8be2d46d3933b1e3db7bf3e4f": {
          "model_module": "@jupyter-widgets/controls",
          "model_name": "HTMLModel",
          "model_module_version": "1.5.0",
          "state": {
            "_dom_classes": [],
            "_model_module": "@jupyter-widgets/controls",
            "_model_module_version": "1.5.0",
            "_model_name": "HTMLModel",
            "_view_count": null,
            "_view_module": "@jupyter-widgets/controls",
            "_view_module_version": "1.5.0",
            "_view_name": "HTMLView",
            "description": "",
            "description_tooltip": null,
            "layout": "IPY_MODEL_07f03c35c43445a591b79b660f1a3f59",
            "placeholder": "​",
            "style": "IPY_MODEL_06b98b0b9517480d886426d369e10f06",
            "value": " 29515/29515 [00:00&lt;00:00, 297957.01it/s]"
          }
        },
        "be8a0bb27285475a85d826b1844d99c0": {
          "model_module": "@jupyter-widgets/base",
          "model_name": "LayoutModel",
          "model_module_version": "1.2.0",
          "state": {
            "_model_module": "@jupyter-widgets/base",
            "_model_module_version": "1.2.0",
            "_model_name": "LayoutModel",
            "_view_count": null,
            "_view_module": "@jupyter-widgets/base",
            "_view_module_version": "1.2.0",
            "_view_name": "LayoutView",
            "align_content": null,
            "align_items": null,
            "align_self": null,
            "border": null,
            "bottom": null,
            "display": null,
            "flex": null,
            "flex_flow": null,
            "grid_area": null,
            "grid_auto_columns": null,
            "grid_auto_flow": null,
            "grid_auto_rows": null,
            "grid_column": null,
            "grid_gap": null,
            "grid_row": null,
            "grid_template_areas": null,
            "grid_template_columns": null,
            "grid_template_rows": null,
            "height": null,
            "justify_content": null,
            "justify_items": null,
            "left": null,
            "margin": null,
            "max_height": null,
            "max_width": null,
            "min_height": null,
            "min_width": null,
            "object_fit": null,
            "object_position": null,
            "order": null,
            "overflow": null,
            "overflow_x": null,
            "overflow_y": null,
            "padding": null,
            "right": null,
            "top": null,
            "visibility": null,
            "width": null
          }
        },
        "9a77e86eb8f3429f9f535ccc15cf2969": {
          "model_module": "@jupyter-widgets/base",
          "model_name": "LayoutModel",
          "model_module_version": "1.2.0",
          "state": {
            "_model_module": "@jupyter-widgets/base",
            "_model_module_version": "1.2.0",
            "_model_name": "LayoutModel",
            "_view_count": null,
            "_view_module": "@jupyter-widgets/base",
            "_view_module_version": "1.2.0",
            "_view_name": "LayoutView",
            "align_content": null,
            "align_items": null,
            "align_self": null,
            "border": null,
            "bottom": null,
            "display": null,
            "flex": null,
            "flex_flow": null,
            "grid_area": null,
            "grid_auto_columns": null,
            "grid_auto_flow": null,
            "grid_auto_rows": null,
            "grid_column": null,
            "grid_gap": null,
            "grid_row": null,
            "grid_template_areas": null,
            "grid_template_columns": null,
            "grid_template_rows": null,
            "height": null,
            "justify_content": null,
            "justify_items": null,
            "left": null,
            "margin": null,
            "max_height": null,
            "max_width": null,
            "min_height": null,
            "min_width": null,
            "object_fit": null,
            "object_position": null,
            "order": null,
            "overflow": null,
            "overflow_x": null,
            "overflow_y": null,
            "padding": null,
            "right": null,
            "top": null,
            "visibility": null,
            "width": null
          }
        },
        "40f221573d8b4885bdc6514b37c6bc9d": {
          "model_module": "@jupyter-widgets/controls",
          "model_name": "DescriptionStyleModel",
          "model_module_version": "1.5.0",
          "state": {
            "_model_module": "@jupyter-widgets/controls",
            "_model_module_version": "1.5.0",
            "_model_name": "DescriptionStyleModel",
            "_view_count": null,
            "_view_module": "@jupyter-widgets/base",
            "_view_module_version": "1.2.0",
            "_view_name": "StyleView",
            "description_width": ""
          }
        },
        "bd007461c9434f8495644d549a98b429": {
          "model_module": "@jupyter-widgets/base",
          "model_name": "LayoutModel",
          "model_module_version": "1.2.0",
          "state": {
            "_model_module": "@jupyter-widgets/base",
            "_model_module_version": "1.2.0",
            "_model_name": "LayoutModel",
            "_view_count": null,
            "_view_module": "@jupyter-widgets/base",
            "_view_module_version": "1.2.0",
            "_view_name": "LayoutView",
            "align_content": null,
            "align_items": null,
            "align_self": null,
            "border": null,
            "bottom": null,
            "display": null,
            "flex": null,
            "flex_flow": null,
            "grid_area": null,
            "grid_auto_columns": null,
            "grid_auto_flow": null,
            "grid_auto_rows": null,
            "grid_column": null,
            "grid_gap": null,
            "grid_row": null,
            "grid_template_areas": null,
            "grid_template_columns": null,
            "grid_template_rows": null,
            "height": null,
            "justify_content": null,
            "justify_items": null,
            "left": null,
            "margin": null,
            "max_height": null,
            "max_width": null,
            "min_height": null,
            "min_width": null,
            "object_fit": null,
            "object_position": null,
            "order": null,
            "overflow": null,
            "overflow_x": null,
            "overflow_y": null,
            "padding": null,
            "right": null,
            "top": null,
            "visibility": null,
            "width": null
          }
        },
        "75de9f1b15674a7cb0e7a38efcd2f5f2": {
          "model_module": "@jupyter-widgets/controls",
          "model_name": "ProgressStyleModel",
          "model_module_version": "1.5.0",
          "state": {
            "_model_module": "@jupyter-widgets/controls",
            "_model_module_version": "1.5.0",
            "_model_name": "ProgressStyleModel",
            "_view_count": null,
            "_view_module": "@jupyter-widgets/base",
            "_view_module_version": "1.2.0",
            "_view_name": "StyleView",
            "bar_color": null,
            "description_width": ""
          }
        },
        "07f03c35c43445a591b79b660f1a3f59": {
          "model_module": "@jupyter-widgets/base",
          "model_name": "LayoutModel",
          "model_module_version": "1.2.0",
          "state": {
            "_model_module": "@jupyter-widgets/base",
            "_model_module_version": "1.2.0",
            "_model_name": "LayoutModel",
            "_view_count": null,
            "_view_module": "@jupyter-widgets/base",
            "_view_module_version": "1.2.0",
            "_view_name": "LayoutView",
            "align_content": null,
            "align_items": null,
            "align_self": null,
            "border": null,
            "bottom": null,
            "display": null,
            "flex": null,
            "flex_flow": null,
            "grid_area": null,
            "grid_auto_columns": null,
            "grid_auto_flow": null,
            "grid_auto_rows": null,
            "grid_column": null,
            "grid_gap": null,
            "grid_row": null,
            "grid_template_areas": null,
            "grid_template_columns": null,
            "grid_template_rows": null,
            "height": null,
            "justify_content": null,
            "justify_items": null,
            "left": null,
            "margin": null,
            "max_height": null,
            "max_width": null,
            "min_height": null,
            "min_width": null,
            "object_fit": null,
            "object_position": null,
            "order": null,
            "overflow": null,
            "overflow_x": null,
            "overflow_y": null,
            "padding": null,
            "right": null,
            "top": null,
            "visibility": null,
            "width": null
          }
        },
        "06b98b0b9517480d886426d369e10f06": {
          "model_module": "@jupyter-widgets/controls",
          "model_name": "DescriptionStyleModel",
          "model_module_version": "1.5.0",
          "state": {
            "_model_module": "@jupyter-widgets/controls",
            "_model_module_version": "1.5.0",
            "_model_name": "DescriptionStyleModel",
            "_view_count": null,
            "_view_module": "@jupyter-widgets/base",
            "_view_module_version": "1.2.0",
            "_view_name": "StyleView",
            "description_width": ""
          }
        },
        "2e8face28ab842279eba55048d5ca5d0": {
          "model_module": "@jupyter-widgets/controls",
          "model_name": "HBoxModel",
          "model_module_version": "1.5.0",
          "state": {
            "_dom_classes": [],
            "_model_module": "@jupyter-widgets/controls",
            "_model_module_version": "1.5.0",
            "_model_name": "HBoxModel",
            "_view_count": null,
            "_view_module": "@jupyter-widgets/controls",
            "_view_module_version": "1.5.0",
            "_view_name": "HBoxView",
            "box_style": "",
            "children": [
              "IPY_MODEL_41fa5044c456458d90e4f55a4a3c3850",
              "IPY_MODEL_75df7beb0a9642438edc8b23f58f65bc",
              "IPY_MODEL_b27d0b113ce54d10bdd38c14b954ef68"
            ],
            "layout": "IPY_MODEL_3d4477d474fe4aba817f1ed0f0128a31"
          }
        },
        "41fa5044c456458d90e4f55a4a3c3850": {
          "model_module": "@jupyter-widgets/controls",
          "model_name": "HTMLModel",
          "model_module_version": "1.5.0",
          "state": {
            "_dom_classes": [],
            "_model_module": "@jupyter-widgets/controls",
            "_model_module_version": "1.5.0",
            "_model_name": "HTMLModel",
            "_view_count": null,
            "_view_module": "@jupyter-widgets/controls",
            "_view_module_version": "1.5.0",
            "_view_name": "HTMLView",
            "description": "",
            "description_tooltip": null,
            "layout": "IPY_MODEL_cac90fe4cb8f4a91bd2c5d4252f75258",
            "placeholder": "​",
            "style": "IPY_MODEL_d132427205eb4f7aa4fb4fbadbeba24e",
            "value": "100%"
          }
        },
        "75df7beb0a9642438edc8b23f58f65bc": {
          "model_module": "@jupyter-widgets/controls",
          "model_name": "FloatProgressModel",
          "model_module_version": "1.5.0",
          "state": {
            "_dom_classes": [],
            "_model_module": "@jupyter-widgets/controls",
            "_model_module_version": "1.5.0",
            "_model_name": "FloatProgressModel",
            "_view_count": null,
            "_view_module": "@jupyter-widgets/controls",
            "_view_module_version": "1.5.0",
            "_view_name": "ProgressView",
            "bar_style": "success",
            "description": "",
            "description_tooltip": null,
            "layout": "IPY_MODEL_d597bd13842249029a1cedb8eb5bfbb3",
            "max": 4422102,
            "min": 0,
            "orientation": "horizontal",
            "style": "IPY_MODEL_7cf33c2b2129432ea90f9743420353bb",
            "value": 4422102
          }
        },
        "b27d0b113ce54d10bdd38c14b954ef68": {
          "model_module": "@jupyter-widgets/controls",
          "model_name": "HTMLModel",
          "model_module_version": "1.5.0",
          "state": {
            "_dom_classes": [],
            "_model_module": "@jupyter-widgets/controls",
            "_model_module_version": "1.5.0",
            "_model_name": "HTMLModel",
            "_view_count": null,
            "_view_module": "@jupyter-widgets/controls",
            "_view_module_version": "1.5.0",
            "_view_name": "HTMLView",
            "description": "",
            "description_tooltip": null,
            "layout": "IPY_MODEL_c351007001464c0eae2976cb4acc9451",
            "placeholder": "​",
            "style": "IPY_MODEL_a3553b6686e54124900e3b40d26841f1",
            "value": " 4422102/4422102 [00:00&lt;00:00, 9573129.88it/s]"
          }
        },
        "3d4477d474fe4aba817f1ed0f0128a31": {
          "model_module": "@jupyter-widgets/base",
          "model_name": "LayoutModel",
          "model_module_version": "1.2.0",
          "state": {
            "_model_module": "@jupyter-widgets/base",
            "_model_module_version": "1.2.0",
            "_model_name": "LayoutModel",
            "_view_count": null,
            "_view_module": "@jupyter-widgets/base",
            "_view_module_version": "1.2.0",
            "_view_name": "LayoutView",
            "align_content": null,
            "align_items": null,
            "align_self": null,
            "border": null,
            "bottom": null,
            "display": null,
            "flex": null,
            "flex_flow": null,
            "grid_area": null,
            "grid_auto_columns": null,
            "grid_auto_flow": null,
            "grid_auto_rows": null,
            "grid_column": null,
            "grid_gap": null,
            "grid_row": null,
            "grid_template_areas": null,
            "grid_template_columns": null,
            "grid_template_rows": null,
            "height": null,
            "justify_content": null,
            "justify_items": null,
            "left": null,
            "margin": null,
            "max_height": null,
            "max_width": null,
            "min_height": null,
            "min_width": null,
            "object_fit": null,
            "object_position": null,
            "order": null,
            "overflow": null,
            "overflow_x": null,
            "overflow_y": null,
            "padding": null,
            "right": null,
            "top": null,
            "visibility": null,
            "width": null
          }
        },
        "cac90fe4cb8f4a91bd2c5d4252f75258": {
          "model_module": "@jupyter-widgets/base",
          "model_name": "LayoutModel",
          "model_module_version": "1.2.0",
          "state": {
            "_model_module": "@jupyter-widgets/base",
            "_model_module_version": "1.2.0",
            "_model_name": "LayoutModel",
            "_view_count": null,
            "_view_module": "@jupyter-widgets/base",
            "_view_module_version": "1.2.0",
            "_view_name": "LayoutView",
            "align_content": null,
            "align_items": null,
            "align_self": null,
            "border": null,
            "bottom": null,
            "display": null,
            "flex": null,
            "flex_flow": null,
            "grid_area": null,
            "grid_auto_columns": null,
            "grid_auto_flow": null,
            "grid_auto_rows": null,
            "grid_column": null,
            "grid_gap": null,
            "grid_row": null,
            "grid_template_areas": null,
            "grid_template_columns": null,
            "grid_template_rows": null,
            "height": null,
            "justify_content": null,
            "justify_items": null,
            "left": null,
            "margin": null,
            "max_height": null,
            "max_width": null,
            "min_height": null,
            "min_width": null,
            "object_fit": null,
            "object_position": null,
            "order": null,
            "overflow": null,
            "overflow_x": null,
            "overflow_y": null,
            "padding": null,
            "right": null,
            "top": null,
            "visibility": null,
            "width": null
          }
        },
        "d132427205eb4f7aa4fb4fbadbeba24e": {
          "model_module": "@jupyter-widgets/controls",
          "model_name": "DescriptionStyleModel",
          "model_module_version": "1.5.0",
          "state": {
            "_model_module": "@jupyter-widgets/controls",
            "_model_module_version": "1.5.0",
            "_model_name": "DescriptionStyleModel",
            "_view_count": null,
            "_view_module": "@jupyter-widgets/base",
            "_view_module_version": "1.2.0",
            "_view_name": "StyleView",
            "description_width": ""
          }
        },
        "d597bd13842249029a1cedb8eb5bfbb3": {
          "model_module": "@jupyter-widgets/base",
          "model_name": "LayoutModel",
          "model_module_version": "1.2.0",
          "state": {
            "_model_module": "@jupyter-widgets/base",
            "_model_module_version": "1.2.0",
            "_model_name": "LayoutModel",
            "_view_count": null,
            "_view_module": "@jupyter-widgets/base",
            "_view_module_version": "1.2.0",
            "_view_name": "LayoutView",
            "align_content": null,
            "align_items": null,
            "align_self": null,
            "border": null,
            "bottom": null,
            "display": null,
            "flex": null,
            "flex_flow": null,
            "grid_area": null,
            "grid_auto_columns": null,
            "grid_auto_flow": null,
            "grid_auto_rows": null,
            "grid_column": null,
            "grid_gap": null,
            "grid_row": null,
            "grid_template_areas": null,
            "grid_template_columns": null,
            "grid_template_rows": null,
            "height": null,
            "justify_content": null,
            "justify_items": null,
            "left": null,
            "margin": null,
            "max_height": null,
            "max_width": null,
            "min_height": null,
            "min_width": null,
            "object_fit": null,
            "object_position": null,
            "order": null,
            "overflow": null,
            "overflow_x": null,
            "overflow_y": null,
            "padding": null,
            "right": null,
            "top": null,
            "visibility": null,
            "width": null
          }
        },
        "7cf33c2b2129432ea90f9743420353bb": {
          "model_module": "@jupyter-widgets/controls",
          "model_name": "ProgressStyleModel",
          "model_module_version": "1.5.0",
          "state": {
            "_model_module": "@jupyter-widgets/controls",
            "_model_module_version": "1.5.0",
            "_model_name": "ProgressStyleModel",
            "_view_count": null,
            "_view_module": "@jupyter-widgets/base",
            "_view_module_version": "1.2.0",
            "_view_name": "StyleView",
            "bar_color": null,
            "description_width": ""
          }
        },
        "c351007001464c0eae2976cb4acc9451": {
          "model_module": "@jupyter-widgets/base",
          "model_name": "LayoutModel",
          "model_module_version": "1.2.0",
          "state": {
            "_model_module": "@jupyter-widgets/base",
            "_model_module_version": "1.2.0",
            "_model_name": "LayoutModel",
            "_view_count": null,
            "_view_module": "@jupyter-widgets/base",
            "_view_module_version": "1.2.0",
            "_view_name": "LayoutView",
            "align_content": null,
            "align_items": null,
            "align_self": null,
            "border": null,
            "bottom": null,
            "display": null,
            "flex": null,
            "flex_flow": null,
            "grid_area": null,
            "grid_auto_columns": null,
            "grid_auto_flow": null,
            "grid_auto_rows": null,
            "grid_column": null,
            "grid_gap": null,
            "grid_row": null,
            "grid_template_areas": null,
            "grid_template_columns": null,
            "grid_template_rows": null,
            "height": null,
            "justify_content": null,
            "justify_items": null,
            "left": null,
            "margin": null,
            "max_height": null,
            "max_width": null,
            "min_height": null,
            "min_width": null,
            "object_fit": null,
            "object_position": null,
            "order": null,
            "overflow": null,
            "overflow_x": null,
            "overflow_y": null,
            "padding": null,
            "right": null,
            "top": null,
            "visibility": null,
            "width": null
          }
        },
        "a3553b6686e54124900e3b40d26841f1": {
          "model_module": "@jupyter-widgets/controls",
          "model_name": "DescriptionStyleModel",
          "model_module_version": "1.5.0",
          "state": {
            "_model_module": "@jupyter-widgets/controls",
            "_model_module_version": "1.5.0",
            "_model_name": "DescriptionStyleModel",
            "_view_count": null,
            "_view_module": "@jupyter-widgets/base",
            "_view_module_version": "1.2.0",
            "_view_name": "StyleView",
            "description_width": ""
          }
        },
        "f8a2bbcbddc84e22b66a679c01124480": {
          "model_module": "@jupyter-widgets/controls",
          "model_name": "HBoxModel",
          "model_module_version": "1.5.0",
          "state": {
            "_dom_classes": [],
            "_model_module": "@jupyter-widgets/controls",
            "_model_module_version": "1.5.0",
            "_model_name": "HBoxModel",
            "_view_count": null,
            "_view_module": "@jupyter-widgets/controls",
            "_view_module_version": "1.5.0",
            "_view_name": "HBoxView",
            "box_style": "",
            "children": [
              "IPY_MODEL_64b3715316d44023be52b2ce292d994d",
              "IPY_MODEL_a9ad9a7b57594f82823fda8a71356814",
              "IPY_MODEL_46bec9061a3b4a818a4511d6589b97bd"
            ],
            "layout": "IPY_MODEL_63fa6dae54c64c5682168591ac4aae82"
          }
        },
        "64b3715316d44023be52b2ce292d994d": {
          "model_module": "@jupyter-widgets/controls",
          "model_name": "HTMLModel",
          "model_module_version": "1.5.0",
          "state": {
            "_dom_classes": [],
            "_model_module": "@jupyter-widgets/controls",
            "_model_module_version": "1.5.0",
            "_model_name": "HTMLModel",
            "_view_count": null,
            "_view_module": "@jupyter-widgets/controls",
            "_view_module_version": "1.5.0",
            "_view_name": "HTMLView",
            "description": "",
            "description_tooltip": null,
            "layout": "IPY_MODEL_05af53abaa2a4a788fe6c096a432b694",
            "placeholder": "​",
            "style": "IPY_MODEL_3522734dfbc94d56a731df120200b34b",
            "value": "100%"
          }
        },
        "a9ad9a7b57594f82823fda8a71356814": {
          "model_module": "@jupyter-widgets/controls",
          "model_name": "FloatProgressModel",
          "model_module_version": "1.5.0",
          "state": {
            "_dom_classes": [],
            "_model_module": "@jupyter-widgets/controls",
            "_model_module_version": "1.5.0",
            "_model_name": "FloatProgressModel",
            "_view_count": null,
            "_view_module": "@jupyter-widgets/controls",
            "_view_module_version": "1.5.0",
            "_view_name": "ProgressView",
            "bar_style": "success",
            "description": "",
            "description_tooltip": null,
            "layout": "IPY_MODEL_e9c912b7797c462dad64ef4e9b37e187",
            "max": 5148,
            "min": 0,
            "orientation": "horizontal",
            "style": "IPY_MODEL_0eb93405d4a34d978bce9a6bcacb2e2d",
            "value": 5148
          }
        },
        "46bec9061a3b4a818a4511d6589b97bd": {
          "model_module": "@jupyter-widgets/controls",
          "model_name": "HTMLModel",
          "model_module_version": "1.5.0",
          "state": {
            "_dom_classes": [],
            "_model_module": "@jupyter-widgets/controls",
            "_model_module_version": "1.5.0",
            "_model_name": "HTMLModel",
            "_view_count": null,
            "_view_module": "@jupyter-widgets/controls",
            "_view_module_version": "1.5.0",
            "_view_name": "HTMLView",
            "description": "",
            "description_tooltip": null,
            "layout": "IPY_MODEL_6cd673c4454c4e398dc0e239e926f31b",
            "placeholder": "​",
            "style": "IPY_MODEL_d888f7ac686b4c17b18b10855eece56f",
            "value": " 5148/5148 [00:00&lt;00:00, 209203.16it/s]"
          }
        },
        "63fa6dae54c64c5682168591ac4aae82": {
          "model_module": "@jupyter-widgets/base",
          "model_name": "LayoutModel",
          "model_module_version": "1.2.0",
          "state": {
            "_model_module": "@jupyter-widgets/base",
            "_model_module_version": "1.2.0",
            "_model_name": "LayoutModel",
            "_view_count": null,
            "_view_module": "@jupyter-widgets/base",
            "_view_module_version": "1.2.0",
            "_view_name": "LayoutView",
            "align_content": null,
            "align_items": null,
            "align_self": null,
            "border": null,
            "bottom": null,
            "display": null,
            "flex": null,
            "flex_flow": null,
            "grid_area": null,
            "grid_auto_columns": null,
            "grid_auto_flow": null,
            "grid_auto_rows": null,
            "grid_column": null,
            "grid_gap": null,
            "grid_row": null,
            "grid_template_areas": null,
            "grid_template_columns": null,
            "grid_template_rows": null,
            "height": null,
            "justify_content": null,
            "justify_items": null,
            "left": null,
            "margin": null,
            "max_height": null,
            "max_width": null,
            "min_height": null,
            "min_width": null,
            "object_fit": null,
            "object_position": null,
            "order": null,
            "overflow": null,
            "overflow_x": null,
            "overflow_y": null,
            "padding": null,
            "right": null,
            "top": null,
            "visibility": null,
            "width": null
          }
        },
        "05af53abaa2a4a788fe6c096a432b694": {
          "model_module": "@jupyter-widgets/base",
          "model_name": "LayoutModel",
          "model_module_version": "1.2.0",
          "state": {
            "_model_module": "@jupyter-widgets/base",
            "_model_module_version": "1.2.0",
            "_model_name": "LayoutModel",
            "_view_count": null,
            "_view_module": "@jupyter-widgets/base",
            "_view_module_version": "1.2.0",
            "_view_name": "LayoutView",
            "align_content": null,
            "align_items": null,
            "align_self": null,
            "border": null,
            "bottom": null,
            "display": null,
            "flex": null,
            "flex_flow": null,
            "grid_area": null,
            "grid_auto_columns": null,
            "grid_auto_flow": null,
            "grid_auto_rows": null,
            "grid_column": null,
            "grid_gap": null,
            "grid_row": null,
            "grid_template_areas": null,
            "grid_template_columns": null,
            "grid_template_rows": null,
            "height": null,
            "justify_content": null,
            "justify_items": null,
            "left": null,
            "margin": null,
            "max_height": null,
            "max_width": null,
            "min_height": null,
            "min_width": null,
            "object_fit": null,
            "object_position": null,
            "order": null,
            "overflow": null,
            "overflow_x": null,
            "overflow_y": null,
            "padding": null,
            "right": null,
            "top": null,
            "visibility": null,
            "width": null
          }
        },
        "3522734dfbc94d56a731df120200b34b": {
          "model_module": "@jupyter-widgets/controls",
          "model_name": "DescriptionStyleModel",
          "model_module_version": "1.5.0",
          "state": {
            "_model_module": "@jupyter-widgets/controls",
            "_model_module_version": "1.5.0",
            "_model_name": "DescriptionStyleModel",
            "_view_count": null,
            "_view_module": "@jupyter-widgets/base",
            "_view_module_version": "1.2.0",
            "_view_name": "StyleView",
            "description_width": ""
          }
        },
        "e9c912b7797c462dad64ef4e9b37e187": {
          "model_module": "@jupyter-widgets/base",
          "model_name": "LayoutModel",
          "model_module_version": "1.2.0",
          "state": {
            "_model_module": "@jupyter-widgets/base",
            "_model_module_version": "1.2.0",
            "_model_name": "LayoutModel",
            "_view_count": null,
            "_view_module": "@jupyter-widgets/base",
            "_view_module_version": "1.2.0",
            "_view_name": "LayoutView",
            "align_content": null,
            "align_items": null,
            "align_self": null,
            "border": null,
            "bottom": null,
            "display": null,
            "flex": null,
            "flex_flow": null,
            "grid_area": null,
            "grid_auto_columns": null,
            "grid_auto_flow": null,
            "grid_auto_rows": null,
            "grid_column": null,
            "grid_gap": null,
            "grid_row": null,
            "grid_template_areas": null,
            "grid_template_columns": null,
            "grid_template_rows": null,
            "height": null,
            "justify_content": null,
            "justify_items": null,
            "left": null,
            "margin": null,
            "max_height": null,
            "max_width": null,
            "min_height": null,
            "min_width": null,
            "object_fit": null,
            "object_position": null,
            "order": null,
            "overflow": null,
            "overflow_x": null,
            "overflow_y": null,
            "padding": null,
            "right": null,
            "top": null,
            "visibility": null,
            "width": null
          }
        },
        "0eb93405d4a34d978bce9a6bcacb2e2d": {
          "model_module": "@jupyter-widgets/controls",
          "model_name": "ProgressStyleModel",
          "model_module_version": "1.5.0",
          "state": {
            "_model_module": "@jupyter-widgets/controls",
            "_model_module_version": "1.5.0",
            "_model_name": "ProgressStyleModel",
            "_view_count": null,
            "_view_module": "@jupyter-widgets/base",
            "_view_module_version": "1.2.0",
            "_view_name": "StyleView",
            "bar_color": null,
            "description_width": ""
          }
        },
        "6cd673c4454c4e398dc0e239e926f31b": {
          "model_module": "@jupyter-widgets/base",
          "model_name": "LayoutModel",
          "model_module_version": "1.2.0",
          "state": {
            "_model_module": "@jupyter-widgets/base",
            "_model_module_version": "1.2.0",
            "_model_name": "LayoutModel",
            "_view_count": null,
            "_view_module": "@jupyter-widgets/base",
            "_view_module_version": "1.2.0",
            "_view_name": "LayoutView",
            "align_content": null,
            "align_items": null,
            "align_self": null,
            "border": null,
            "bottom": null,
            "display": null,
            "flex": null,
            "flex_flow": null,
            "grid_area": null,
            "grid_auto_columns": null,
            "grid_auto_flow": null,
            "grid_auto_rows": null,
            "grid_column": null,
            "grid_gap": null,
            "grid_row": null,
            "grid_template_areas": null,
            "grid_template_columns": null,
            "grid_template_rows": null,
            "height": null,
            "justify_content": null,
            "justify_items": null,
            "left": null,
            "margin": null,
            "max_height": null,
            "max_width": null,
            "min_height": null,
            "min_width": null,
            "object_fit": null,
            "object_position": null,
            "order": null,
            "overflow": null,
            "overflow_x": null,
            "overflow_y": null,
            "padding": null,
            "right": null,
            "top": null,
            "visibility": null,
            "width": null
          }
        },
        "d888f7ac686b4c17b18b10855eece56f": {
          "model_module": "@jupyter-widgets/controls",
          "model_name": "DescriptionStyleModel",
          "model_module_version": "1.5.0",
          "state": {
            "_model_module": "@jupyter-widgets/controls",
            "_model_module_version": "1.5.0",
            "_model_name": "DescriptionStyleModel",
            "_view_count": null,
            "_view_module": "@jupyter-widgets/base",
            "_view_module_version": "1.2.0",
            "_view_name": "StyleView",
            "description_width": ""
          }
        }
      }
    }
  },
  "nbformat": 4,
  "nbformat_minor": 0
}