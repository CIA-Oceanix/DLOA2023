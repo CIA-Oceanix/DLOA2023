{
  "nbformat": 4,
  "nbformat_minor": 0,
  "metadata": {
    "colab": {
      "name": "notebookPyTorch_InvProb_ModelBased_L63.ipynb",
      "provenance": [],
      "collapsed_sections": [
        "3xBXaOz7_gfA"
      ],
      "toc_visible": true,
      "authorship_tag": "ABX9TyNBZCNs3sTm/TAbyZYQ7/dO",
      "include_colab_link": true
    },
    "kernelspec": {
      "name": "python3",
      "display_name": "Python 3"
    },
    "accelerator": "GPU"
  },
  "cells": [
    {
      "cell_type": "markdown",
      "metadata": {
        "id": "view-in-github",
        "colab_type": "text"
      },
      "source": [
        "<a href=\"https://colab.research.google.com/github/CIA-Oceanix/DLCourse_MOi_2022/blob/main/notebooks/notebook_Pytorch_Weak4DVar_L63.ipynb\" target=\"_parent\"><img src=\"https://colab.research.google.com/assets/colab-badge.svg\" alt=\"Open In Colab\"/></a>"
      ]
    },
    {
      "cell_type": "markdown",
      "metadata": {
        "id": "LVFqVy6OaZdL"
      },
      "source": [
        "**Notebook for the implementation of model-based inversion scheme**: Application to the Data Assimilation of Lorenz-63 dynamics given noisy and partial observations.\n",
        "\n",
        "We consider model-based formulation based on the following variational minimization\n",
        "$$\\arg \\min_x \\| x - y\\|^2_\\Omega + \\lambda \\|x-\\Phi(x)\\|^2 $$\n",
        "\n",
        "The notebook addresses two approaches which differ in the considered prior $\\Phi$\n",
        "*   *Weak-Constrained 4DVar formulation* with the true ODE-based prior: Pytorch implementation of the gradient descent. You need to code the computation of the gradient of tha variational cost using automatic differentiation tool.\n",
        "*   *Exploration of a pretrained plug-and-play prior*: Pytorch gradient descent with a PCA-based prior. You need to compute the loss for such a PCA-based prior. \n",
        "\n",
        "*Possible extensions*: (i) evaluation of the reconstruction performance depending on the considered observation setting (i.e., sampling and noise), (ii) intercomparison of different types of plug-and-play\n"
      ]
    },
    {
      "cell_type": "code",
      "metadata": {
        "id": "jEDUuvB92-Sr"
      },
      "source": [
        "import numpy as np\n",
        "import matplotlib.pyplot as plt \n",
        "import os\n",
        "import tensorflow.keras as keras\n",
        "\n",
        "import time\n",
        "import copy\n",
        "import torch\n",
        "import torch.optim as optim\n",
        "from torch.optim import lr_scheduler\n",
        "import torch.nn.functional as F\n",
        "\n",
        "from sklearn import decomposition\n",
        "from sklearn.feature_extraction import image"
      ],
      "execution_count": 5,
      "outputs": []
    },
    {
      "cell_type": "code",
      "metadata": {
        "id": "OVn8gpSf3HA5",
        "colab": {
          "base_uri": "https://localhost:8080/"
        },
        "outputId": "5941024a-2ffa-4de6-d47c-dd04b529c95b"
      },
      "source": [
        "!pip install torchviz\n",
        "import torchviz"
      ],
      "execution_count": null,
      "outputs": [
        {
          "output_type": "stream",
          "name": "stdout",
          "text": [
            "Collecting torchviz\n",
            "  Downloading torchviz-0.0.2.tar.gz (4.9 kB)\n",
            "Requirement already satisfied: torch in /usr/local/lib/python3.7/dist-packages (from torchviz) (1.10.0+cu111)\n",
            "Requirement already satisfied: graphviz in /usr/local/lib/python3.7/dist-packages (from torchviz) (0.10.1)\n",
            "Requirement already satisfied: typing-extensions in /usr/local/lib/python3.7/dist-packages (from torch->torchviz) (3.10.0.2)\n",
            "Building wheels for collected packages: torchviz\n",
            "  Building wheel for torchviz (setup.py) ... \u001b[?25l\u001b[?25hdone\n",
            "  Created wheel for torchviz: filename=torchviz-0.0.2-py3-none-any.whl size=4151 sha256=c5002f8069a283a176624f6026fcb25ab4f2e0774a80d2032f5cf1317bc859c3\n",
            "  Stored in directory: /root/.cache/pip/wheels/04/38/f5/dc4f85c3909051823df49901e72015d2d750bd26b086480ec2\n",
            "Successfully built torchviz\n",
            "Installing collected packages: torchviz\n",
            "Successfully installed torchviz-0.0.2\n"
          ]
        }
      ]
    },
    {
      "cell_type": "markdown",
      "metadata": {
        "id": "h1FjHV_K3W9s"
      },
      "source": [
        "# L63 Data simulation"
      ]
    },
    {
      "cell_type": "code",
      "metadata": {
        "id": "SHqmY7kiqlqh",
        "colab": {
          "base_uri": "https://localhost:8080/",
          "height": 285
        },
        "outputId": "56d86796-c4da-490a-a820-259cf8752408"
      },
      "source": [
        "#os.chdir('/content/drive/My Drive/Colab Notebooks/AnDA')\n",
        "from scipy.integrate import odeint\n",
        "from scipy.integrate import solve_ivp\n",
        "#from AnDA_codes.AnDA_dynamical_models import AnDA_Lorenz_63, AnDA_Lorenz_96\n",
        "\n",
        "def AnDA_Lorenz_63(S,t,sigma,rho,beta):\n",
        "    \"\"\" Lorenz-63 dynamical model. \"\"\"\n",
        "    x_1 = sigma*(S[1]-S[0]);\n",
        "    x_2 = S[0]*(rho-S[2])-S[1];\n",
        "    x_3 = S[0]*S[1] - beta*S[2];\n",
        "    dS  = np.array([x_1,x_2,x_3]);\n",
        "    return dS\n",
        "\n",
        "class GD:\n",
        "    model = 'Lorenz_63'\n",
        "    class parameters:\n",
        "        sigma = 10.0\n",
        "        rho = 28.0\n",
        "        beta = 8.0/3\n",
        "    dt_integration = 0.01 # integration time\n",
        "    dt_states = 1 # number of integeration times between consecutive states (for xt and catalog)\n",
        "    dt_obs = 8 # number of integration times between consecutive observations (for yo)\n",
        "    var_obs = np.array([0,1,2]) # indices of the observed variables\n",
        "    nb_loop_train = 10**2 # size of the catalog\n",
        "    nb_loop_test = 10000 # size of the true state and noisy observations\n",
        "    sigma2_catalog = 0.0 # variance of the model error to generate the catalog\n",
        "    sigma2_obs = 2.0 # variance of the observation error to generate observation\n",
        "\n",
        "GD = GD()    \n",
        "y0 = np.array([8.0,0.0,30.0])\n",
        "tt = np.arange(GD.dt_integration,GD.nb_loop_test*GD.dt_integration+0.000001,GD.dt_integration)\n",
        "#S = odeint(AnDA_Lorenz_63,x0,np.arange(0,5+0.000001,GD.dt_integration),args=(GD.parameters.sigma,GD.parameters.rho,GD.parameters.beta));\n",
        "S = solve_ivp(fun=lambda t,y: AnDA_Lorenz_63(y,t,GD.parameters.sigma,GD.parameters.rho,GD.parameters.beta),t_span=[0.,5+0.000001],y0=y0,first_step=GD.dt_integration,t_eval=np.arange(0,5+0.000001,GD.dt_integration),method='RK45')\n",
        "\n",
        "y0 = S.y[:,-1];\n",
        "S = solve_ivp(fun=lambda t,y: AnDA_Lorenz_63(y,t,GD.parameters.sigma,GD.parameters.rho,GD.parameters.beta),t_span=[0.01,GD.nb_loop_test+0.000001],y0=y0,first_step=GD.dt_integration,t_eval=tt,method='RK45')\n",
        "S = S.y.transpose()\n",
        "\n",
        "print(S.shape)\n",
        "plt.figure(1)\n",
        "for jj in range(0,3):\n",
        "  plt.subplot(131+jj)\n",
        "  plt.plot(S[:,jj])\n",
        "  \n",
        "class time_series:\n",
        "  values = 0.\n",
        "  time   = 0.\n",
        "  \n",
        "xt = time_series()\n",
        "xt.values = S\n",
        "xt.time   = tt"
      ],
      "execution_count": 6,
      "outputs": [
        {
          "output_type": "stream",
          "name": "stdout",
          "text": [
            "(10000, 3)\n"
          ]
        },
        {
          "output_type": "display_data",
          "data": {
            "text/plain": [
              "<Figure size 432x288 with 3 Axes>"
            ],
            "image/png": "[encoded data removed]"
          },
          "metadata": {
            "needs_background": "light"
          }
        }
      ]
    },
    {
      "cell_type": "code",
      "metadata": {
        "id": "evPeYsgv0GOg",
        "colab": {
          "base_uri": "https://localhost:8080/"
        },
        "outputId": "e47455e1-fbde-439c-bb04-bc097448fbbe"
      },
      "source": [
        "####################################################\n",
        "## Generation of training and test dataset\n",
        "## Extraction of time series of dT time steps            \n",
        "NbTraining = 10000\n",
        "NbTest     = 2000#256\n",
        "time_step = 1\n",
        "dT        = 200\n",
        "sigNoise  = np.sqrt(2.0)\n",
        "rateMissingData = (1-1./8.)#0.75#0.95\n",
        "  \n",
        "xt = time_series()\n",
        "xt.values = S\n",
        "xt.time   = tt\n",
        "# extract subsequences\n",
        "dataTrainingNoNaN = image.extract_patches_2d(xt.values[0:7500:time_step,:],(dT,3),max_patches=NbTraining)\n",
        "dataTestNoNaN     = image.extract_patches_2d(xt.values[8000::time_step,:],(dT,3),max_patches=NbTest)\n",
        "\n",
        "# create missing data\n",
        "flagTypeMissData = 1\n",
        "if flagTypeMissData == 0:\n",
        "    print('..... Observation pattern: Random sampling of osberved L63 components')\n",
        "    indRand         = np.random.permutation(dataTrainingNoNaN.shape[0]*dataTrainingNoNaN.shape[1]*dataTrainingNoNaN.shape[2])\n",
        "    indRand         = indRand[0:int(rateMissingData*len(indRand))]\n",
        "    dataTraining    = np.copy(dataTrainingNoNaN).reshape((dataTrainingNoNaN.shape[0]*dataTrainingNoNaN.shape[1]*dataTrainingNoNaN.shape[2],1))\n",
        "    dataTraining[indRand] = float('nan')\n",
        "    dataTraining    = np.reshape(dataTraining,(dataTrainingNoNaN.shape[0],dataTrainingNoNaN.shape[1],dataTrainingNoNaN.shape[2]))\n",
        "    \n",
        "    indRand         = np.random.permutation(dataTestNoNaN.shape[0]*dataTestNoNaN.shape[1]*dataTestNoNaN.shape[2])\n",
        "    indRand         = indRand[0:int(rateMissingData*len(indRand))]\n",
        "    dataTest        = np.copy(dataTestNoNaN).reshape((dataTestNoNaN.shape[0]*dataTestNoNaN.shape[1]*dataTestNoNaN.shape[2],1))\n",
        "    dataTest[indRand] = float('nan')\n",
        "    dataTest          = np.reshape(dataTest,(dataTestNoNaN.shape[0],dataTestNoNaN.shape[1],dataTestNoNaN.shape[2]))\n",
        "\n",
        "    genSuffixObs    = '_ObsRnd_%02d_%02d'%(100*rateMissingData,10*sigNoise**2)\n",
        "elif flagTypeMissData == 2:\n",
        "    print('..... Observation pattern: Only the first L63 component is osberved')\n",
        "    time_step_obs   = int(1./(1.-rateMissingData))\n",
        "    dataTraining    = np.zeros((dataTrainingNoNaN.shape))\n",
        "    dataTraining[:] = float('nan')\n",
        "    dataTraining[:,::time_step_obs,0] = dataTrainingNoNaN[:,::time_step_obs,0]\n",
        "    \n",
        "    dataTest    = np.zeros((dataTestNoNaN.shape))\n",
        "    dataTest[:] = float('nan')\n",
        "    dataTest[:,::time_step_obs,0] = dataTestNoNaN[:,::time_step_obs,0]\n",
        "\n",
        "    genSuffixObs    = '_ObsDim0_%02d_%02d'%(100*rateMissingData,10*sigNoise**2)\n",
        "   \n",
        "else:\n",
        "    print('..... Observation pattern: All  L63 components osberved')\n",
        "    time_step_obs   = int(1./(1.-rateMissingData))\n",
        "    dataTraining    = np.zeros((dataTrainingNoNaN.shape))\n",
        "    dataTraining[:] = float('nan')\n",
        "    dataTraining[:,::time_step_obs,:] = dataTrainingNoNaN[:,::time_step_obs,:]\n",
        "    \n",
        "    dataTest    = np.zeros((dataTestNoNaN.shape))\n",
        "    dataTest[:] = float('nan')\n",
        "    dataTest[:,::time_step_obs,:] = dataTestNoNaN[:,::time_step_obs,:]\n",
        "\n",
        "    genSuffixObs    = '_ObsSub_%02d_%02d'%(100*rateMissingData,10*sigNoise**2)\n",
        "    \n",
        "# set to NaN patch boundaries\n",
        "dataTraining[:,0:10,:] =  float('nan')\n",
        "dataTest[:,0:10,:]     =  float('nan')\n",
        "dataTraining[:,dT-10:dT,:] =  float('nan')\n",
        "dataTest[:,dT-10:dT,:]     =  float('nan')\n",
        "\n",
        "# mask for NaN\n",
        "maskTraining = (dataTraining == dataTraining).astype('float')\n",
        "maskTest     = ( dataTest    ==  dataTest   ).astype('float')\n",
        "\n",
        "dataTraining = np.nan_to_num(dataTraining)\n",
        "dataTest     = np.nan_to_num(dataTest)\n",
        "\n",
        "# Permutation to have channel as #1 component\n",
        "dataTraining      = np.moveaxis(dataTraining,-1,1)\n",
        "maskTraining      = np.moveaxis(maskTraining,-1,1)\n",
        "dataTrainingNoNaN = np.moveaxis(dataTrainingNoNaN,-1,1)\n",
        "\n",
        "dataTest      = np.moveaxis(dataTest,-1,1)\n",
        "maskTest      = np.moveaxis(maskTest,-1,1)\n",
        "dataTestNoNaN = np.moveaxis(dataTestNoNaN,-1,1)\n",
        "\n",
        "# set to NaN patch boundaries\n",
        "#dataTraining[:,0:5,:] =  dataTrainingNoNaN[:,0:5,:]\n",
        "#dataTest[:,0:5,:]     =  dataTestNoNaN[:,0:5,:]\n",
        "\n",
        "############################################\n",
        "## raw data\n",
        "X_train         = dataTrainingNoNaN\n",
        "X_train_missing = dataTraining\n",
        "mask_train      = maskTraining\n",
        "\n",
        "X_test         = dataTestNoNaN\n",
        "X_test_missing = dataTest\n",
        "mask_test      = maskTest\n",
        "\n",
        "############################################\n",
        "## normalized data\n",
        "meanTr          = np.mean(X_train_missing[:]) / np.mean(mask_train) \n",
        "stdTr           = np.sqrt( np.mean( (X_train_missing-meanTr)**2 ) / np.mean(mask_train) )\n",
        "\n",
        "if flagTypeMissData == 2:\n",
        "    meanTr          = np.mean(X_train[:]) \n",
        "    stdTr           = np.sqrt( np.mean( (X_train-meanTr)**2 ) )\n",
        "\n",
        "x_train_missing = ( X_train_missing - meanTr ) / stdTr\n",
        "x_test_missing  = ( X_test_missing - meanTr ) / stdTr\n",
        "\n",
        "# scale wrt std\n",
        "\n",
        "x_train = (X_train - meanTr) / stdTr\n",
        "x_test  = (X_test - meanTr) / stdTr\n",
        "\n",
        "print('.... MeanTr = %.3f --- StdTr = %.3f '%(meanTr,stdTr))\n",
        "\n",
        "# Generate noisy observsation\n",
        "X_train_obs = X_train_missing + sigNoise * maskTraining * np.random.randn(X_train_missing.shape[0],X_train_missing.shape[1],X_train_missing.shape[2])\n",
        "X_test_obs  = X_test_missing  + sigNoise * maskTest * np.random.randn(X_test_missing.shape[0],X_test_missing.shape[1],X_test_missing.shape[2])\n",
        "\n",
        "x_train_obs = (X_train_obs - meanTr) / stdTr\n",
        "x_test_obs  = (X_test_obs - meanTr) / stdTr\n",
        "\n",
        "print('..... Training dataset: %dx%dx%d'%(x_train.shape[0],x_train.shape[1],x_train.shape[2]))\n",
        "print('..... Test dataset    : %dx%dx%d'%(x_test.shape[0],x_test.shape[1],x_test.shape[2]))\n"
      ],
      "execution_count": 7,
      "outputs": [
        {
          "output_type": "stream",
          "name": "stdout",
          "text": [
            "..... Observation pattern: All  L63 components osberved\n",
            ".... MeanTr = 8.527 --- StdTr = 27.852 \n",
            "..... Training dataset: 7301x3x200\n",
            "..... Test dataset    : 1801x3x200\n"
          ]
        }
      ]
    },
    {
      "cell_type": "code",
      "metadata": {
        "id": "pZSjh6fTsHRf",
        "colab": {
          "base_uri": "https://localhost:8080/",
          "height": 267
        },
        "outputId": "3ad25ea9-32a4-472c-ab59-9a4b4c34c869"
      },
      "source": [
        "# Visualisation\n",
        "plt.figure(1)\n",
        "for jj in range(0,3):\n",
        "  indjj = 131+jj\n",
        "  plt.subplot(indjj)\n",
        "  plt.plot(X_train[20,jj,:],'b-')\n",
        "  plt.plot(X_train_obs[20,jj,:],'k.')"
      ],
      "execution_count": 8,
      "outputs": [
        {
          "output_type": "display_data",
          "data": {
            "text/plain": [
              "<Figure size 432x288 with 3 Axes>"
            ],
            "image/png": "[encoded data removed]"
          },
          "metadata": {
            "needs_background": "light"
          }
        }
      ]
    },
    {
      "cell_type": "code",
      "metadata": {
        "id": "dvwMvw3XAbcf",
        "colab": {
          "base_uri": "https://localhost:8080/",
          "height": 265
        },
        "outputId": "5fffead1-d38a-4528-941b-203fd885afc1"
      },
      "source": [
        "# Initial interpolation (linear interpolation or zeros) for missing data\n",
        "\n",
        "import scipy\n",
        "\n",
        "mx_train = np.sum( np.sum( X_train , axis = 2 ) , axis = 0 ) / (X_train.shape[0]*X_train.shape[2])\n",
        "\n",
        "flagInit = 1\n",
        "\n",
        "if flagInit == 0: \n",
        "  X_train_Init = mask_train * X_train_obs + (1. - mask_train) * (np.zeros(X_train_missing.shape) + meanTr)\n",
        "  X_test_Init  = mask_test * X_test_obs + (1. - mask_test) * (np.zeros(X_test_missing.shape) + meanTr)\n",
        "else:\n",
        "  X_train_Init = np.zeros(X_train.shape)\n",
        "  for ii in range(0,X_train.shape[0]):\n",
        "    # Initial linear interpolation for each component\n",
        "    XInit = np.zeros((X_train.shape[1],X_train.shape[2]))\n",
        "\n",
        "    for kk in range(0,3):\n",
        "      indt  = np.where( mask_train[ii,kk,:] == 1.0 )[0]\n",
        "      indt_ = np.where( mask_train[ii,kk,:] == 0.0 )[0]\n",
        "\n",
        "      if len(indt) > 1:\n",
        "        indt_[ np.where( indt_ < np.min(indt)) ] = np.min(indt)\n",
        "        indt_[ np.where( indt_ > np.max(indt)) ] = np.max(indt)\n",
        "        fkk = scipy.interpolate.interp1d(indt, X_train_obs[ii,kk,indt])\n",
        "        XInit[kk,indt]  = X_train_obs[ii,kk,indt]\n",
        "        XInit[kk,indt_] = fkk(indt_)\n",
        "      else:\n",
        "        XInit[kk,:] = XInit[kk,:] + mx_train[kk]\n",
        "\n",
        "    X_train_Init[ii,:,:] = XInit\n",
        "\n",
        "  X_test_Init = np.zeros(X_test.shape)\n",
        "  for ii in range(0,X_test.shape[0]):\n",
        "    # Initial linear interpolation for each component\n",
        "    XInit = np.zeros((X_test.shape[1],X_test.shape[2]))\n",
        "\n",
        "    for kk in range(0,3):\n",
        "      indt  = np.where( mask_test[ii,kk,:] == 1.0 )[0]\n",
        "      indt_ = np.where( mask_test[ii,kk,:] == 0.0 )[0]\n",
        "\n",
        "      if len(indt) > 1:\n",
        "        indt_[ np.where( indt_ < np.min(indt)) ] = np.min(indt)\n",
        "        indt_[ np.where( indt_ > np.max(indt)) ] = np.max(indt)\n",
        "        fkk = scipy.interpolate.interp1d(indt, X_test_obs[ii,kk,indt])\n",
        "        XInit[kk,indt]  = X_test_obs[ii,kk,indt]\n",
        "        XInit[kk,indt_] = fkk(indt_)\n",
        "      else:\n",
        "        XInit[kk,:] = XInit[kk,:] + mx_train[kk]\n",
        "\n",
        "    X_test_Init[ii,:,:] = XInit\n",
        "\n",
        "\n",
        "x_train_Init = ( X_train_Init - meanTr ) / stdTr\n",
        "x_test_Init = ( X_test_Init - meanTr ) / stdTr\n",
        "\n",
        "\n",
        "if 1*1:\n",
        "  plt.figure()\n",
        "  plt.subplot(1,2,1)\n",
        "  plt.plot(X_train_Init[20,0,:],'b-')\n",
        "  plt.plot(X_train[20,0,:],'m-')\n",
        "  #plt.plot(XInit[:,0],'r-')\n",
        "  plt.plot(X_train_obs[20,0,:],'k.')\n",
        "  plt.subplot(1,2,2)\n",
        "  plt.plot(X_test_Init[20,0,:],'b-')\n",
        "  plt.plot(X_test[20,0,:],'m-')\n",
        "  #plt.plot(XInit[:,0],'r-')\n",
        "  plt.plot(X_test_obs[20,0,:],'k.')"
      ],
      "execution_count": 9,
      "outputs": [
        {
          "output_type": "display_data",
          "data": {
            "text/plain": [
              "<Figure size 432x288 with 2 Axes>"
            ],
            "image/png": "[encoded data removed]"
          },
          "metadata": {
            "needs_background": "light"
          }
        }
      ]
    },
    {
      "cell_type": "markdown",
      "metadata": {
        "id": "vhKugE5VpyZc"
      },
      "source": [
        "# Explicit Euler ODE scheme in Pytorch\n",
        "\n"
      ]
    },
    {
      "cell_type": "code",
      "metadata": {
        "id": "dJEhltDDu1Nm"
      },
      "source": [
        "# define forward model (Euler)\n",
        "class ODE_L63(torch.nn.Module):\n",
        "    def __init__(self,sigma,rho,beta):\n",
        "        super(ODE_L63, self).__init__()\n",
        "        self.sigma = sigma\n",
        "        self.rho   = rho\n",
        "        self.beta  = beta\n",
        "\n",
        "    def forward(self, x):\n",
        "      x_1 = (self.sigma*(x[:,1]-x[:,0])).view(-1,1)\n",
        "      x_2 = (x[:,0]*(self.rho-x[:,2])-x[:,1]).view(-1,1)\n",
        "      x_3 = (x[:,0]*x[:,1] - self.beta*x[:,2]).view(-1,1)\n",
        "\n",
        "      return torch.cat((x_1,x_2,x_3),dim=1)"
      ],
      "execution_count": 10,
      "outputs": []
    },
    {
      "cell_type": "code",
      "metadata": {
        "id": "HhBYtJChPg5s"
      },
      "source": [
        "ii = 10\n",
        "\n",
        "# create torch tensors for observations and hidden states\n",
        "XGT_torch  = torch.Tensor( X_train[ii,:,:].squeeze().transpose() )\n",
        "YObs_torch = torch.Tensor( X_train_obs[ii,:,:].squeeze().transpose() )\n",
        "M_torch    = torch.Tensor( mask_train[ii,:,:].squeeze().transpose() )\n",
        "\n",
        "# Initialisation\n",
        "X_torch    = torch.Tensor( X_train_Init[ii,:,:].squeeze().transpose() )"
      ],
      "execution_count": 97,
      "outputs": []
    },
    {
      "cell_type": "code",
      "metadata": {
        "id": "5bAbiiAuymNl",
        "colab": {
          "base_uri": "https://localhost:8080/",
          "height": 283
        },
        "outputId": "4d312795-d18a-4e45-f2b0-98df3a0d949f"
      },
      "source": [
        "# check model simulation through an Euler integration scheme\n",
        "ode_L63 = ODE_L63(10.,28.,8./3)\n",
        "\n",
        "x0 = XGT_torch[0,:]\n",
        "dt = 0.01\n",
        "\n",
        "Xsim = []\n",
        "for nn in range(0,100):\n",
        "  if nn == 0:\n",
        "    xt = x0\n",
        "  xnew = xt + dt * ode_L63(xt.view(-1,3))\n",
        "  if nn == 0:\n",
        "    Xsim = xnew\n",
        "  else:\n",
        "    Xsim = torch.cat((Xsim,xnew),axis=0)\n",
        "    xt   = xnew\n",
        "\n",
        "plt.figure()\n",
        "plt.plot(Xsim.cpu().detach().numpy()[:,1],'r-')\n",
        "plt.plot(XGT_torch.cpu().detach().numpy()[0:100,1],'b-')"
      ],
      "execution_count": 17,
      "outputs": [
        {
          "output_type": "execute_result",
          "data": {
            "text/plain": [
              "[<matplotlib.lines.Line2D at 0x7f363242f890>]"
            ]
          },
          "metadata": {},
          "execution_count": 17
        },
        {
          "output_type": "display_data",
          "data": {
            "text/plain": [
              "<Figure size 432x288 with 1 Axes>"
            ],
            "image/png": "[encoded data removed]"
          },
          "metadata": {
            "needs_background": "light"
          }
        }
      ]
    },
    {
      "cell_type": "markdown",
      "metadata": {
        "id": "8y3Ajptyk0rT"
      },
      "source": [
        "# (Weak-constrained) 4DVar DA  Pytorch "
      ]
    },
    {
      "cell_type": "code",
      "metadata": {
        "id": "yXaEHBbg0lUb",
        "colab": {
          "base_uri": "https://localhost:8080/"
        },
        "outputId": "e38948d0-d2ab-420c-aa4c-ca4e8e25e0fc"
      },
      "source": [
        "# 4DVAR assimilation\n",
        "device  = torch.device(\"cuda\" if torch.cuda.is_available() else \"cpu\")\n",
        "\n",
        "# assignment to GPU\n",
        "ode_L63 = ODE_L63(10.,28.,8./3)\n",
        "ode_L63 = ode_L63.to(device)\n",
        "\n",
        "# assimilation loop\n",
        "t0    = 0\n",
        "dt    = 0.01\n",
        "dT    = X_torch.size(0)\n",
        "NIter = 20000\n",
        "alpha_obs = 0.01\n",
        "alpha_dyn = 1.\n",
        "delta = 0.2\n",
        "\n",
        "X_torch = torch.autograd.Variable(X_torch, requires_grad=True)\n",
        "for iter in range(0,NIter):\n",
        "\n",
        "  # compute losses\n",
        "  with torch.set_grad_enabled(True): \n",
        "    # dynamical loss\n",
        "    x_pred   = X_torch[t0:t0+dT-1,:] + dt * ode_L63(X_torch[t0:t0+dT-1,:])\n",
        "    loss_dyn = torch.sum((X_torch[t0+1:t0+dT,:] - x_pred)**2 )\n",
        "\n",
        "    # observation loss\n",
        "    loss_obs = torch.sum((X_torch - YObs_torch)**2 * M_torch )\n",
        "\n",
        "    # overall loss\n",
        "    loss = alpha_obs * loss_obs + alpha_dyn * loss_dyn \n",
        "\n",
        "    if( np.mod(iter,100) == 0 ):\n",
        "      print(\".... iter %d: loss %.3f dyn_loss %.3f obs_loss %.3f\"%(iter,loss,loss_dyn,loss_obs))  \n",
        "\n",
        "    # compute gradient w.r.t. X and update X\n",
        "    loss.backward()\n",
        "    X_torch = X_torch - delta * X_torch.grad.data\n",
        "    \n",
        "    #grad_X  = torch.autograd.grad(loss,X_torch,create_graph=True)\n",
        "    #X_torch = X_torch - delta * grad_X[0]\n",
        " \n",
        "    X_torch = torch.autograd.Variable(X_torch, requires_grad=True)\n"
      ],
      "execution_count": 101,
      "outputs": [
        {
          "output_type": "stream",
          "name": "stdout",
          "text": [
            ".... iter 0: loss 1.673 dyn_loss 0.323 obs_loss 134.976\n",
            ".... iter 100: loss 1.673 dyn_loss 0.323 obs_loss 134.978\n",
            ".... iter 200: loss 1.673 dyn_loss 0.323 obs_loss 134.980\n",
            ".... iter 300: loss 1.673 dyn_loss 0.323 obs_loss 134.982\n",
            ".... iter 400: loss 1.673 dyn_loss 0.323 obs_loss 134.983\n",
            ".... iter 500: loss 1.673 dyn_loss 0.323 obs_loss 134.985\n",
            ".... iter 600: loss 1.673 dyn_loss 0.323 obs_loss 134.986\n",
            ".... iter 700: loss 1.673 dyn_loss 0.323 obs_loss 134.988\n",
            ".... iter 800: loss 1.673 dyn_loss 0.323 obs_loss 134.989\n",
            ".... iter 900: loss 1.673 dyn_loss 0.323 obs_loss 134.991\n",
            ".... iter 1000: loss 1.673 dyn_loss 0.323 obs_loss 134.992\n",
            ".... iter 1100: loss 1.673 dyn_loss 0.323 obs_loss 134.994\n",
            ".... iter 1200: loss 1.673 dyn_loss 0.323 obs_loss 134.995\n",
            ".... iter 1300: loss 1.673 dyn_loss 0.323 obs_loss 134.996\n",
            ".... iter 1400: loss 1.673 dyn_loss 0.323 obs_loss 134.997\n",
            ".... iter 1500: loss 1.673 dyn_loss 0.323 obs_loss 134.998\n",
            ".... iter 1600: loss 1.673 dyn_loss 0.323 obs_loss 134.999\n",
            ".... iter 1700: loss 1.673 dyn_loss 0.323 obs_loss 135.000\n",
            ".... iter 1800: loss 1.673 dyn_loss 0.323 obs_loss 135.001\n",
            ".... iter 1900: loss 1.673 dyn_loss 0.323 obs_loss 135.002\n",
            ".... iter 2000: loss 1.673 dyn_loss 0.323 obs_loss 135.003\n",
            ".... iter 2100: loss 1.673 dyn_loss 0.323 obs_loss 135.004\n",
            ".... iter 2200: loss 1.673 dyn_loss 0.323 obs_loss 135.004\n",
            ".... iter 2300: loss 1.673 dyn_loss 0.323 obs_loss 135.005\n",
            ".... iter 2400: loss 1.673 dyn_loss 0.323 obs_loss 135.006\n",
            ".... iter 2500: loss 1.673 dyn_loss 0.323 obs_loss 135.007\n",
            ".... iter 2600: loss 1.673 dyn_loss 0.323 obs_loss 135.008\n",
            ".... iter 2700: loss 1.673 dyn_loss 0.323 obs_loss 135.008\n",
            ".... iter 2800: loss 1.673 dyn_loss 0.323 obs_loss 135.009\n",
            ".... iter 2900: loss 1.673 dyn_loss 0.323 obs_loss 135.010\n",
            ".... iter 3000: loss 1.673 dyn_loss 0.323 obs_loss 135.010\n",
            ".... iter 3100: loss 1.673 dyn_loss 0.323 obs_loss 135.011\n",
            ".... iter 3200: loss 1.673 dyn_loss 0.323 obs_loss 135.011\n",
            ".... iter 3300: loss 1.673 dyn_loss 0.323 obs_loss 135.012\n",
            ".... iter 3400: loss 1.673 dyn_loss 0.323 obs_loss 135.012\n",
            ".... iter 3500: loss 1.673 dyn_loss 0.323 obs_loss 135.012\n",
            ".... iter 3600: loss 1.673 dyn_loss 0.323 obs_loss 135.012\n",
            ".... iter 3700: loss 1.673 dyn_loss 0.323 obs_loss 135.012\n",
            ".... iter 3800: loss 1.673 dyn_loss 0.323 obs_loss 135.012\n",
            ".... iter 3900: loss 1.673 dyn_loss 0.323 obs_loss 135.012\n",
            ".... iter 4000: loss 1.673 dyn_loss 0.323 obs_loss 135.012\n",
            ".... iter 4100: loss 1.673 dyn_loss 0.323 obs_loss 135.012\n",
            ".... iter 4200: loss 1.673 dyn_loss 0.323 obs_loss 135.012\n",
            ".... iter 4300: loss 1.673 dyn_loss 0.323 obs_loss 135.012\n",
            ".... iter 4400: loss 1.673 dyn_loss 0.323 obs_loss 135.012\n",
            ".... iter 4500: loss 1.673 dyn_loss 0.323 obs_loss 135.012\n",
            ".... iter 4600: loss 1.673 dyn_loss 0.323 obs_loss 135.012\n",
            ".... iter 4700: loss 1.673 dyn_loss 0.323 obs_loss 135.012\n",
            ".... iter 4800: loss 1.673 dyn_loss 0.323 obs_loss 135.012\n",
            ".... iter 4900: loss 1.673 dyn_loss 0.323 obs_loss 135.012\n",
            ".... iter 5000: loss 1.673 dyn_loss 0.323 obs_loss 135.012\n",
            ".... iter 5100: loss 1.673 dyn_loss 0.323 obs_loss 135.012\n",
            ".... iter 5200: loss 1.673 dyn_loss 0.323 obs_loss 135.012\n",
            ".... iter 5300: loss 1.673 dyn_loss 0.323 obs_loss 135.012\n",
            ".... iter 5400: loss 1.673 dyn_loss 0.323 obs_loss 135.012\n",
            ".... iter 5500: loss 1.673 dyn_loss 0.323 obs_loss 135.012\n",
            ".... iter 5600: loss 1.673 dyn_loss 0.323 obs_loss 135.012\n",
            ".... iter 5700: loss 1.673 dyn_loss 0.323 obs_loss 135.012\n",
            ".... iter 5800: loss 1.673 dyn_loss 0.323 obs_loss 135.012\n",
            ".... iter 5900: loss 1.673 dyn_loss 0.323 obs_loss 135.012\n",
            ".... iter 6000: loss 1.673 dyn_loss 0.323 obs_loss 135.012\n",
            ".... iter 6100: loss 1.673 dyn_loss 0.323 obs_loss 135.012\n",
            ".... iter 6200: loss 1.673 dyn_loss 0.323 obs_loss 135.012\n",
            ".... iter 6300: loss 1.673 dyn_loss 0.323 obs_loss 135.012\n",
            ".... iter 6400: loss 1.673 dyn_loss 0.323 obs_loss 135.012\n",
            ".... iter 6500: loss 1.673 dyn_loss 0.323 obs_loss 135.012\n",
            ".... iter 6600: loss 1.673 dyn_loss 0.323 obs_loss 135.012\n",
            ".... iter 6700: loss 1.673 dyn_loss 0.323 obs_loss 135.012\n",
            ".... iter 6800: loss 1.673 dyn_loss 0.323 obs_loss 135.012\n",
            ".... iter 6900: loss 1.673 dyn_loss 0.323 obs_loss 135.012\n",
            ".... iter 7000: loss 1.673 dyn_loss 0.323 obs_loss 135.012\n",
            ".... iter 7100: loss 1.673 dyn_loss 0.323 obs_loss 135.012\n",
            ".... iter 7200: loss 1.673 dyn_loss 0.323 obs_loss 135.012\n",
            ".... iter 7300: loss 1.673 dyn_loss 0.323 obs_loss 135.012\n",
            ".... iter 7400: loss 1.673 dyn_loss 0.323 obs_loss 135.012\n",
            ".... iter 7500: loss 1.673 dyn_loss 0.323 obs_loss 135.012\n",
            ".... iter 7600: loss 1.673 dyn_loss 0.323 obs_loss 135.011\n",
            ".... iter 7700: loss 1.673 dyn_loss 0.323 obs_loss 135.011\n",
            ".... iter 7800: loss 1.673 dyn_loss 0.323 obs_loss 135.011\n",
            ".... iter 7900: loss 1.673 dyn_loss 0.323 obs_loss 135.011\n",
            ".... iter 8000: loss 1.673 dyn_loss 0.323 obs_loss 135.011\n",
            ".... iter 8100: loss 1.673 dyn_loss 0.323 obs_loss 135.011\n",
            ".... iter 8200: loss 1.673 dyn_loss 0.323 obs_loss 135.011\n",
            ".... iter 8300: loss 1.673 dyn_loss 0.323 obs_loss 135.011\n",
            ".... iter 8400: loss 1.673 dyn_loss 0.323 obs_loss 135.011\n",
            ".... iter 8500: loss 1.673 dyn_loss 0.323 obs_loss 135.011\n",
            ".... iter 8600: loss 1.673 dyn_loss 0.323 obs_loss 135.011\n",
            ".... iter 8700: loss 1.673 dyn_loss 0.323 obs_loss 135.011\n",
            ".... iter 8800: loss 1.673 dyn_loss 0.323 obs_loss 135.011\n",
            ".... iter 8900: loss 1.673 dyn_loss 0.323 obs_loss 135.011\n",
            ".... iter 9000: loss 1.673 dyn_loss 0.323 obs_loss 135.011\n",
            ".... iter 9100: loss 1.673 dyn_loss 0.323 obs_loss 135.011\n",
            ".... iter 9200: loss 1.673 dyn_loss 0.323 obs_loss 135.011\n",
            ".... iter 9300: loss 1.673 dyn_loss 0.323 obs_loss 135.011\n",
            ".... iter 9400: loss 1.673 dyn_loss 0.323 obs_loss 135.011\n",
            ".... iter 9500: loss 1.673 dyn_loss 0.323 obs_loss 135.011\n",
            ".... iter 9600: loss 1.673 dyn_loss 0.323 obs_loss 135.011\n",
            ".... iter 9700: loss 1.673 dyn_loss 0.323 obs_loss 135.011\n",
            ".... iter 9800: loss 1.673 dyn_loss 0.323 obs_loss 135.011\n",
            ".... iter 9900: loss 1.673 dyn_loss 0.323 obs_loss 135.011\n",
            ".... iter 10000: loss 1.673 dyn_loss 0.323 obs_loss 135.011\n",
            ".... iter 10100: loss 1.673 dyn_loss 0.323 obs_loss 135.011\n",
            ".... iter 10200: loss 1.673 dyn_loss 0.323 obs_loss 135.011\n",
            ".... iter 10300: loss 1.673 dyn_loss 0.323 obs_loss 135.011\n",
            ".... iter 10400: loss 1.673 dyn_loss 0.323 obs_loss 135.011\n",
            ".... iter 10500: loss 1.673 dyn_loss 0.323 obs_loss 135.011\n",
            ".... iter 10600: loss 1.673 dyn_loss 0.323 obs_loss 135.011\n",
            ".... iter 10700: loss 1.673 dyn_loss 0.323 obs_loss 135.011\n",
            ".... iter 10800: loss 1.673 dyn_loss 0.323 obs_loss 135.011\n",
            ".... iter 10900: loss 1.673 dyn_loss 0.323 obs_loss 135.010\n",
            ".... iter 11000: loss 1.673 dyn_loss 0.323 obs_loss 135.010\n",
            ".... iter 11100: loss 1.673 dyn_loss 0.323 obs_loss 135.010\n",
            ".... iter 11200: loss 1.673 dyn_loss 0.323 obs_loss 135.010\n",
            ".... iter 11300: loss 1.673 dyn_loss 0.323 obs_loss 135.010\n",
            ".... iter 11400: loss 1.673 dyn_loss 0.323 obs_loss 135.010\n",
            ".... iter 11500: loss 1.673 dyn_loss 0.323 obs_loss 135.010\n",
            ".... iter 11600: loss 1.673 dyn_loss 0.323 obs_loss 135.010\n",
            ".... iter 11700: loss 1.673 dyn_loss 0.323 obs_loss 135.010\n",
            ".... iter 11800: loss 1.673 dyn_loss 0.323 obs_loss 135.010\n",
            ".... iter 11900: loss 1.673 dyn_loss 0.323 obs_loss 135.010\n",
            ".... iter 12000: loss 1.673 dyn_loss 0.323 obs_loss 135.010\n",
            ".... iter 12100: loss 1.673 dyn_loss 0.323 obs_loss 135.010\n",
            ".... iter 12200: loss 1.673 dyn_loss 0.323 obs_loss 135.010\n",
            ".... iter 12300: loss 1.673 dyn_loss 0.323 obs_loss 135.010\n",
            ".... iter 12400: loss 1.673 dyn_loss 0.323 obs_loss 135.010\n",
            ".... iter 12500: loss 1.673 dyn_loss 0.323 obs_loss 135.010\n",
            ".... iter 12600: loss 1.673 dyn_loss 0.323 obs_loss 135.010\n",
            ".... iter 12700: loss 1.673 dyn_loss 0.323 obs_loss 135.010\n",
            ".... iter 12800: loss 1.673 dyn_loss 0.323 obs_loss 135.010\n",
            ".... iter 12900: loss 1.673 dyn_loss 0.323 obs_loss 135.010\n",
            ".... iter 13000: loss 1.673 dyn_loss 0.323 obs_loss 135.010\n",
            ".... iter 13100: loss 1.673 dyn_loss 0.323 obs_loss 135.010\n",
            ".... iter 13200: loss 1.673 dyn_loss 0.323 obs_loss 135.010\n",
            ".... iter 13300: loss 1.673 dyn_loss 0.323 obs_loss 135.010\n",
            ".... iter 13400: loss 1.673 dyn_loss 0.323 obs_loss 135.010\n",
            ".... iter 13500: loss 1.673 dyn_loss 0.323 obs_loss 135.010\n",
            ".... iter 13600: loss 1.673 dyn_loss 0.323 obs_loss 135.010\n",
            ".... iter 13700: loss 1.673 dyn_loss 0.323 obs_loss 135.010\n",
            ".... iter 13800: loss 1.673 dyn_loss 0.323 obs_loss 135.010\n",
            ".... iter 13900: loss 1.673 dyn_loss 0.323 obs_loss 135.010\n",
            ".... iter 14000: loss 1.673 dyn_loss 0.323 obs_loss 135.010\n",
            ".... iter 14100: loss 1.673 dyn_loss 0.323 obs_loss 135.010\n",
            ".... iter 14200: loss 1.673 dyn_loss 0.323 obs_loss 135.010\n",
            ".... iter 14300: loss 1.673 dyn_loss 0.323 obs_loss 135.010\n",
            ".... iter 14400: loss 1.673 dyn_loss 0.323 obs_loss 135.010\n",
            ".... iter 14500: loss 1.673 dyn_loss 0.323 obs_loss 135.010\n",
            ".... iter 14600: loss 1.673 dyn_loss 0.323 obs_loss 135.010\n",
            ".... iter 14700: loss 1.673 dyn_loss 0.323 obs_loss 135.010\n",
            ".... iter 14800: loss 1.673 dyn_loss 0.323 obs_loss 135.010\n",
            ".... iter 14900: loss 1.673 dyn_loss 0.323 obs_loss 135.010\n",
            ".... iter 15000: loss 1.673 dyn_loss 0.323 obs_loss 135.010\n",
            ".... iter 15100: loss 1.673 dyn_loss 0.323 obs_loss 135.009\n",
            ".... iter 15200: loss 1.673 dyn_loss 0.323 obs_loss 135.009\n",
            ".... iter 15300: loss 1.673 dyn_loss 0.323 obs_loss 135.009\n",
            ".... iter 15400: loss 1.673 dyn_loss 0.323 obs_loss 135.009\n",
            ".... iter 15500: loss 1.673 dyn_loss 0.323 obs_loss 135.009\n",
            ".... iter 15600: loss 1.673 dyn_loss 0.323 obs_loss 135.009\n",
            ".... iter 15700: loss 1.673 dyn_loss 0.323 obs_loss 135.009\n",
            ".... iter 15800: loss 1.673 dyn_loss 0.323 obs_loss 135.009\n",
            ".... iter 15900: loss 1.673 dyn_loss 0.323 obs_loss 135.009\n",
            ".... iter 16000: loss 1.673 dyn_loss 0.323 obs_loss 135.009\n",
            ".... iter 16100: loss 1.673 dyn_loss 0.323 obs_loss 135.009\n",
            ".... iter 16200: loss 1.673 dyn_loss 0.323 obs_loss 135.009\n",
            ".... iter 16300: loss 1.673 dyn_loss 0.323 obs_loss 135.009\n",
            ".... iter 16400: loss 1.673 dyn_loss 0.323 obs_loss 135.009\n",
            ".... iter 16500: loss 1.673 dyn_loss 0.323 obs_loss 135.009\n",
            ".... iter 16600: loss 1.673 dyn_loss 0.323 obs_loss 135.009\n",
            ".... iter 16700: loss 1.673 dyn_loss 0.323 obs_loss 135.009\n",
            ".... iter 16800: loss 1.673 dyn_loss 0.323 obs_loss 135.009\n",
            ".... iter 16900: loss 1.673 dyn_loss 0.323 obs_loss 135.009\n",
            ".... iter 17000: loss 1.673 dyn_loss 0.323 obs_loss 135.009\n",
            ".... iter 17100: loss 1.673 dyn_loss 0.323 obs_loss 135.009\n",
            ".... iter 17200: loss 1.673 dyn_loss 0.323 obs_loss 135.009\n",
            ".... iter 17300: loss 1.673 dyn_loss 0.323 obs_loss 135.009\n",
            ".... iter 17400: loss 1.673 dyn_loss 0.323 obs_loss 135.009\n",
            ".... iter 17500: loss 1.673 dyn_loss 0.323 obs_loss 135.009\n",
            ".... iter 17600: loss 1.673 dyn_loss 0.323 obs_loss 135.009\n",
            ".... iter 17700: loss 1.673 dyn_loss 0.323 obs_loss 135.009\n",
            ".... iter 17800: loss 1.673 dyn_loss 0.323 obs_loss 135.009\n",
            ".... iter 17900: loss 1.673 dyn_loss 0.323 obs_loss 135.009\n",
            ".... iter 18000: loss 1.673 dyn_loss 0.323 obs_loss 135.009\n",
            ".... iter 18100: loss 1.673 dyn_loss 0.323 obs_loss 135.009\n",
            ".... iter 18200: loss 1.673 dyn_loss 0.323 obs_loss 135.009\n",
            ".... iter 18300: loss 1.673 dyn_loss 0.323 obs_loss 135.009\n",
            ".... iter 18400: loss 1.673 dyn_loss 0.323 obs_loss 135.009\n",
            ".... iter 18500: loss 1.673 dyn_loss 0.323 obs_loss 135.009\n",
            ".... iter 18600: loss 1.673 dyn_loss 0.323 obs_loss 135.009\n",
            ".... iter 18700: loss 1.673 dyn_loss 0.323 obs_loss 135.009\n",
            ".... iter 18800: loss 1.673 dyn_loss 0.323 obs_loss 135.009\n",
            ".... iter 18900: loss 1.673 dyn_loss 0.323 obs_loss 135.009\n",
            ".... iter 19000: loss 1.673 dyn_loss 0.323 obs_loss 135.009\n",
            ".... iter 19100: loss 1.673 dyn_loss 0.323 obs_loss 135.009\n",
            ".... iter 19200: loss 1.673 dyn_loss 0.323 obs_loss 135.009\n",
            ".... iter 19300: loss 1.673 dyn_loss 0.323 obs_loss 135.009\n",
            ".... iter 19400: loss 1.673 dyn_loss 0.323 obs_loss 135.009\n",
            ".... iter 19500: loss 1.673 dyn_loss 0.323 obs_loss 135.009\n",
            ".... iter 19600: loss 1.673 dyn_loss 0.323 obs_loss 135.009\n",
            ".... iter 19700: loss 1.673 dyn_loss 0.323 obs_loss 135.009\n",
            ".... iter 19800: loss 1.673 dyn_loss 0.323 obs_loss 135.009\n",
            ".... iter 19900: loss 1.673 dyn_loss 0.323 obs_loss 135.009\n"
          ]
        }
      ]
    },
    {
      "cell_type": "code",
      "metadata": {
        "id": "7QRqLNqPXqu6",
        "colab": {
          "base_uri": "https://localhost:8080/",
          "height": 336
        },
        "outputId": "44bdc8df-b296-431f-9ddb-fd3ee3f5e73d"
      },
      "source": [
        "XGT  = XGT_torch.cpu().detach().numpy()[t0:t0+dT,:]\n",
        "XHat = X_torch.cpu().detach().numpy()[t0:t0+dT,:]\n",
        "M    = M_torch.cpu().detach().numpy()[t0:t0+dT,:]\n",
        "YObs = YObs_torch.cpu().detach().numpy()[t0:t0+dT,:]\n",
        "\n",
        "## visualization\n",
        "plt.figure()\n",
        "for kk in range(0,3):\n",
        "  plt.subplot(1,3,kk+1)\n",
        "  plt.plot(YObs[t0:t0+dT,kk],'r.')\n",
        "  plt.plot(XGT[:,kk],'b-')\n",
        "  plt.plot(XHat[:,kk],'m-')\n",
        "\n",
        "# Reconstruction performance\n",
        "varXGT  = np.mean( (XGT - np.mean(XGT,axis=0))**2 )\n",
        "mse_All = np.mean( (XHat-XGT) **2 ) \n",
        "mse_I   = np.mean( (1.-M[t0:t0+dT,:]) * (XHat-XGT) **2 ) / np.mean( (1.-M[t0:t0+dT,:]) )\n",
        "mse_R   = np.mean( M[t0:t0+dT,:] * (XHat-XGT) **2 ) / np.mean( M[t0:t0+dT,:] )\n",
        "\n",
        "nmse_All = mse_All / varXGT\n",
        "nmse_I   = mse_I / varXGT\n",
        "nmse_R   = mse_R / varXGT\n",
        "\n",
        "print(\"..... Assimilation performance\")\n",
        "print(\".. MSE ALL.   : %.3f / %.3f\"%(mse_All,nmse_All))\n",
        "print(\".. MSE ObsData: %.3f / %.3f\"%(mse_R,nmse_R))\n",
        "print(\".. MSE Interp : %.3f / %.3f\"%(mse_I,nmse_I))\n"
      ],
      "execution_count": 100,
      "outputs": [
        {
          "output_type": "stream",
          "name": "stdout",
          "text": [
            "..... Assimilation performance\n",
            ".. MSE ALL.   : 1.268 / 0.014\n",
            ".. MSE ObsData: 0.867 / 0.009\n",
            ".. MSE Interp : 1.318 / 0.014\n"
          ]
        },
        {
          "output_type": "display_data",
          "data": {
            "text/plain": [
              "<Figure size 432x288 with 3 Axes>"
            ],
            "image/png": "[encoded data removed]"
          },
          "metadata": {
            "needs_background": "light"
          }
        }
      ]
    }
  ]
}